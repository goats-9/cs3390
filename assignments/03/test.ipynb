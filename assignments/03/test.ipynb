{
  "cells": [
    {
      "cell_type": "code",
      "execution_count": 1,
      "metadata": {
        "id": "ftGaqLZDbwIX"
      },
      "outputs": [],
      "source": [
        "import pandas as pd\n",
        "import numpy as np\n",
        "import matplotlib.pyplot as plt\n",
        "from sklearn.experimental import enable_iterative_imputer\n",
        "from sklearn.impute import IterativeImputer\n",
        "from sklearn.preprocessing import StandardScaler, LabelEncoder"
      ]
    },
    {
      "cell_type": "code",
      "execution_count": 2,
      "metadata": {},
      "outputs": [],
      "source": [
        "# Create imputer object\n",
        "imputer = IterativeImputer(max_iter=100, tol=1e-3)\n",
        "\n",
        "df = pd.read_csv('data/iith_foml_2023_train.csv')\n",
        "y_train = df.iloc[:, -1]\n",
        "X_train = df.iloc[:, :-1]\n",
        "# Fit the imputer model on the dataset to learn the data patterns\n",
        "X_train.drop(columns=['Feature 16', 'Feature 17'], inplace=True)\n",
        "imputer.fit(X_train)\n",
        "\n",
        "# Transform the dataset to replace missing values\n",
        "# Convert back to a DataFrame\n",
        "X_train_imputed = pd.DataFrame(imputer.transform(X_train), columns=X_train.columns)"
      ]
    },
    {
      "cell_type": "code",
      "execution_count": 3,
      "metadata": {},
      "outputs": [],
      "source": [
        "df_test = pd.read_csv('data/iith_foml_2023_test.csv')\n",
        "df_test.drop(columns=['Feature 16', 'Feature 17'], inplace=True)\n",
        "X_test = pd.DataFrame(imputer.transform(df_test), columns=df_test.columns)"
      ]
    },
    {
      "cell_type": "code",
      "execution_count": 4,
      "metadata": {},
      "outputs": [],
      "source": [
        "scaler = StandardScaler()\n",
        "X_train_scaled = scaler.fit_transform(X_train_imputed)\n",
        "X_test_scaled = scaler.transform(X_test)"
      ]
    },
    {
      "cell_type": "code",
      "execution_count": 5,
      "metadata": {},
      "outputs": [],
      "source": [
        "from sklearn.ensemble import VotingClassifier, BaggingClassifier, RandomForestClassifier, ExtraTreesClassifier\n",
        "\n",
        "# Initialize models\n",
        "bagging_model = BaggingClassifier(random_state=42)\n",
        "extratrees_model = ExtraTreesClassifier(random_state=42)\n",
        "randomforest_model = RandomForestClassifier(random_state=42)\n",
        "\n",
        "model = VotingClassifier(\n",
        "    estimators=[\n",
        "        ('rf', randomforest_model),\n",
        "        ('bg', bagging_model),\n",
        "        ('et', extratrees_model)\n",
        "    ], voting='hard'\n",
        ")\n",
        "\n",
        "# Train the model on the training data\n",
        "model.fit(X_train_scaled, y_train)\n",
        "\n",
        "predictions = model.predict(X_test_scaled)"
      ]
    },
    {
      "cell_type": "code",
      "execution_count": 15,
      "metadata": {},
      "outputs": [
        {
          "data": {
            "text/plain": [
              "array([12], dtype=int64)"
            ]
          },
          "execution_count": 15,
          "metadata": {},
          "output_type": "execute_result"
        }
      ],
      "source": [
        "xpred = np.asarray([[-0.35300642,  1.86526984, -0.95229802,  0.41903394,  0.14193402,\n",
        "         0.56064079, -0.40846433, -0.41986506,  0.89865619,  1.28663235,\n",
        "         1.02863444, -0.18268335, -1.19357302,  1.19390121,  0.49132456,\n",
        "        -0.3119616 , -0.60935857,  0.97064142, -1.00108563, -0.93295979,\n",
        "        -0.35449325,  0.49124206]], dtype=float)\n",
        "ypred = model.predict(xpred)\n",
        "ypred"
      ]
    },
    {
      "cell_type": "code",
      "execution_count": 6,
      "metadata": {},
      "outputs": [],
      "source": [
        "pred_df = pd.DataFrame()\n",
        "pred_df['Category'] = predictions\n",
        "pred_df['id'] = pred_df.index + 1\n",
        "pred_df = pred_df[['id', 'Category']]\n",
        "pred_df.to_csv('output/voting.csv', index=False)"
      ]
    }
  ],
  "metadata": {
    "colab": {
      "provenance": []
    },
    "kernelspec": {
      "display_name": "Python 3",
      "name": "python3"
    },
    "language_info": {
      "codemirror_mode": {
        "name": "ipython",
        "version": 3
      },
      "file_extension": ".py",
      "mimetype": "text/x-python",
      "name": "python",
      "nbconvert_exporter": "python",
      "pygments_lexer": "ipython3",
      "version": "3.11.4"
    }
  },
  "nbformat": 4,
  "nbformat_minor": 0
}
