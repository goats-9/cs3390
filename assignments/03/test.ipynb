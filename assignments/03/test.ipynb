{
  "cells": [
    {
      "cell_type": "code",
      "execution_count": 35,
      "metadata": {
        "id": "ftGaqLZDbwIX"
      },
      "outputs": [],
      "source": [
        "import pandas as pd\n",
        "import numpy as np\n",
        "import matplotlib.pyplot as plt\n",
        "from sklearn.experimental import enable_iterative_imputer\n",
        "from sklearn.impute import IterativeImputer\n",
        "from sklearn.preprocessing import StandardScaler, LabelEncoder"
      ]
    },
    {
      "cell_type": "code",
      "execution_count": 36,
      "metadata": {},
      "outputs": [],
      "source": [
        "# Create imputer object\n",
        "imputer = IterativeImputer(max_iter=100, tol=1e-3)\n",
        "\n",
        "df = pd.read_csv('data/iith_foml_2023_train.csv')\n",
        "y_train = df.iloc[:, -1]\n",
        "X_train = df.iloc[:, :-1]\n",
        "# Fit the imputer model on the dataset to learn the data patterns\n",
        "X_train.drop(columns=['Feature 16', 'Feature 17'], inplace=True)\n",
        "imputer.fit(X_train)\n",
        "\n",
        "# Transform the dataset to replace missing values\n",
        "# Convert back to a DataFrame\n",
        "X_train_imputed = pd.DataFrame(imputer.transform(X_train), columns=X_train.columns)"
      ]
    },
    {
      "cell_type": "code",
      "execution_count": 37,
      "metadata": {},
      "outputs": [],
      "source": [
        "df_test = pd.read_csv('data/iith_foml_2023_test.csv')\n",
        "df_test.drop(columns=['Feature 16', 'Feature 17'], inplace=True)\n",
        "X_test = pd.DataFrame(imputer.transform(df_test), columns=df_test.columns)"
      ]
    },
    {
      "cell_type": "code",
      "execution_count": 38,
      "metadata": {},
      "outputs": [],
      "source": [
        "from sklearn.utils.class_weight import compute_sample_weight, compute_class_weight\n",
        "\n",
        "scaler = StandardScaler()\n",
        "X_train_scaled = scaler.fit_transform(X_train_imputed)\n",
        "X_test_scaled = scaler.transform(X_test)\n",
        "le = LabelEncoder()\n",
        "y_train = le.fit_transform(y_train)\n",
        "class_wts = compute_class_weight(class_weight='balanced', classes=np.unique(y_train), y=y_train)\n",
        "class_wts_dict = dict(zip(np.arange(len(class_wts)), class_wts))\n",
        "sample_wts = compute_sample_weight(class_weight=class_wts_dict, y=y_train)"
      ]
    },
    {
      "cell_type": "code",
      "execution_count": 39,
      "metadata": {},
      "outputs": [],
      "source": [
        "from sklearn.ensemble import VotingClassifier, BaggingClassifier, ExtraTreesClassifier, RandomForestClassifier\n",
        "from xgboost import XGBClassifier\n",
        "\n",
        "extratrees_model = ExtraTreesClassifier(random_state=42)\n",
        "bagging_xgboost_model = BaggingClassifier(estimator=XGBClassifier(random_state=42), random_state=42)\n",
        "randomforest_model = RandomForestClassifier(random_state=42)\n",
        "\n",
        "\n",
        "model = VotingClassifier(\n",
        "    estimators=[\n",
        "        ('extratrees', extratrees_model),\n",
        "        ('bagging_xgboost', bagging_xgboost_model),\n",
        "        ('randomforest', randomforest_model),\n",
        "    ], voting='hard'\n",
        ")\n",
        "\n",
        "# Train the model on the training data\n",
        "model.fit(X_train_scaled, y_train)\n",
        "\n",
        "predictions = le.inverse_transform(model.predict(X_test_scaled))"
      ]
    },
    {
      "cell_type": "code",
      "execution_count": 40,
      "metadata": {},
      "outputs": [],
      "source": [
        "pred_df = pd.DataFrame()\n",
        "pred_df['Category'] = predictions\n",
        "pred_df['id'] = pred_df.index + 1\n",
        "pred_df = pred_df[['id', 'Category']]\n",
        "pred_df.to_csv('output/voting_strong_again.csv', index=False)"
      ]
    }
  ],
  "metadata": {
    "colab": {
      "provenance": []
    },
    "kernelspec": {
      "display_name": "Python 3",
      "name": "python3"
    },
    "language_info": {
      "codemirror_mode": {
        "name": "ipython",
        "version": 3
      },
      "file_extension": ".py",
      "mimetype": "text/x-python",
      "name": "python",
      "nbconvert_exporter": "python",
      "pygments_lexer": "ipython3",
      "version": "3.10.12"
    }
  },
  "nbformat": 4,
  "nbformat_minor": 0
}
