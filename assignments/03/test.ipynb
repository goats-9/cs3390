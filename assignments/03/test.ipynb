{
  "cells": [
    {
      "cell_type": "code",
      "execution_count": 6,
      "metadata": {
        "id": "ftGaqLZDbwIX"
      },
      "outputs": [],
      "source": [
        "import pandas as pd\n",
        "import numpy as np\n",
        "import matplotlib.pyplot as plt\n",
        "from sklearn.experimental import enable_iterative_imputer\n",
        "from sklearn.impute import IterativeImputer\n",
        "from sklearn.preprocessing import StandardScaler, LabelEncoder"
      ]
    },
    {
      "cell_type": "code",
      "execution_count": 7,
      "metadata": {},
      "outputs": [],
      "source": [
        "# Create imputer object\n",
        "imputer = IterativeImputer(max_iter=100, tol=1e-3)\n",
        "\n",
        "df_train = pd.read_csv('data/iith_foml_2023_train.csv')\n",
        "for column in df_train.columns:\n",
        "    if df_train[column].isna().any():\n",
        "        mean_value = df_train[column].mean()\n",
        "        df_train[column].fillna(mean_value, inplace=True)\n",
        "y_train = df_train.iloc[:, -1]\n",
        "X_train = df_train.iloc[:, :-1]\n",
        "X_train_imputed = X_train\n",
        "# Fit the imputer model on the dataset to learn the data patterns\n",
        "# X_train.drop(columns=['Feature 16', 'Feature 17'], inplace=True)\n",
        "# imputer.fit(X_train)\n",
        "\n",
        "# # Transform the dataset to replace missing values\n",
        "# # Convert back to a DataFrame\n",
        "# X_train_imputed = pd.DataFrame(imputer.transform(X_train), columns=X_train.columns)"
      ]
    },
    {
      "cell_type": "code",
      "execution_count": 8,
      "metadata": {},
      "outputs": [],
      "source": [
        "df_test = pd.read_csv('data/iith_foml_2023_test.csv')\n",
        "for column in df_test.columns:\n",
        "    if df_test[column].isna().any():\n",
        "        mean_value = df_test[column].mean()\n",
        "        df_test[column].fillna(mean_value, inplace=True)\n",
        "# df_test.drop(columns=['Feature 16', 'Feature 17'], inplace=True)\n",
        "# X_test = pd.DataFrame(imputer.transform(df_test), columns=df_test.columns)\n",
        "X_test = df_test"
      ]
    },
    {
      "cell_type": "code",
      "execution_count": 9,
      "metadata": {},
      "outputs": [],
      "source": [
        "from sklearn.utils.class_weight import compute_sample_weight, compute_class_weight\n",
        "\n",
        "scaler = StandardScaler()\n",
        "X_train_scaled = scaler.fit_transform(X_train_imputed)\n",
        "X_test_scaled = scaler.transform(X_test)\n",
        "# le = LabelEncoder()\n",
        "# y_train = le.fit_transform(y_train)\n",
        "# class_wts = compute_class_weight(class_weight='balanced', classes=np.unique(y_train), y=y_train)\n",
        "# class_wts_dict = dict(zip(np.arange(len(class_wts)), class_wts))\n",
        "# sample_wts = compute_sample_weight(class_weight=class_wts_dict, y=y_train)"
      ]
    },
    {
      "cell_type": "code",
      "execution_count": 10,
      "metadata": {},
      "outputs": [],
      "source": [
        "from imblearn.over_sampling import RandomOverSampler\n",
        "\n",
        "ros = RandomOverSampler(random_state=42)\n",
        "X_train, y_train = ros.fit_resample(X_train_scaled, y_train)\n",
        "\n",
        "from sklearn.ensemble import VotingClassifier, ExtraTreesClassifier, RandomForestClassifier, GradientBoostingClassifier\n",
        "from sklearn.neighbors import KNeighborsClassifier\n",
        "# Initialize models\n",
        "# extratrees_model = ExtraTreesClassifier(random_state=42)\n",
        "# randomforest_model = RandomForestClassifier(random_state=42)\n",
        "# graidentboost_model = GradientBoostingClassifier(random_state=42)\n",
        "\n",
        "# model = VotingClassifier(\n",
        "#     estimators=[\n",
        "#         ('bagging_extratrees', extratrees_model),\n",
        "#         ('bagging_gradboost', randomforest_model),\n",
        "#         ('gradientboost_model', graidentboost_model),\n",
        "#     ], voting='hard'\n",
        "# )\n",
        "model = KNeighborsClassifier()\n",
        "# Train the model on the training data\n",
        "model.fit(X_train, y_train)\n",
        "\n",
        "predictions = model.predict(X_test_scaled)"
      ]
    },
    {
      "cell_type": "code",
      "execution_count": 11,
      "metadata": {},
      "outputs": [],
      "source": [
        "pred_df = pd.DataFrame()\n",
        "pred_df['Category'] = predictions\n",
        "pred_df['id'] = pred_df.index + 1\n",
        "pred_df = pred_df[['id', 'Category']]\n",
        "pred_df.to_csv('output/voting_oversampled_Knn.csv', index=False)"
      ]
    }
  ],
  "metadata": {
    "colab": {
      "provenance": []
    },
    "kernelspec": {
      "display_name": "Python 3",
      "name": "python3"
    },
    "language_info": {
      "codemirror_mode": {
        "name": "ipython",
        "version": 3
      },
      "file_extension": ".py",
      "mimetype": "text/x-python",
      "name": "python",
      "nbconvert_exporter": "python",
      "pygments_lexer": "ipython3",
      "version": "3.11.4"
    }
  },
  "nbformat": 4,
  "nbformat_minor": 0
}
