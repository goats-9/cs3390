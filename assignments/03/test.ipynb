{
  "cells": [
    {
      "cell_type": "code",
      "execution_count": 83,
      "metadata": {
        "id": "ftGaqLZDbwIX"
      },
      "outputs": [],
      "source": [
        "import pandas as pd\n",
        "import numpy as np\n",
        "import matplotlib.pyplot as plt\n",
        "from sklearn.preprocessing import StandardScaler"
      ]
    },
    {
      "cell_type": "code",
      "execution_count": 84,
      "metadata": {},
      "outputs": [],
      "source": [
        "df_train = pd.read_csv('data/iith_foml_2023_train.csv')\n",
        "drop_cols = ['Feature 3 (Discrete)', 'Feature 10', 'Feature 14', 'Feature 16', 'Feature 17', 'Feature 23 (Discrete)']\n",
        "df_train.drop(columns=drop_cols, inplace=True)\n",
        "df_train.fillna(1e9, inplace=True)"
      ]
    },
    {
      "cell_type": "code",
      "execution_count": 85,
      "metadata": {},
      "outputs": [],
      "source": [
        "df_test = pd.read_csv('data/iith_foml_2023_test.csv')\n",
        "df_test.drop(columns=drop_cols, inplace=True)\n",
        "df_test.fillna(1e9, inplace=True)\n",
        "X_test = df_test"
      ]
    },
    {
      "cell_type": "code",
      "execution_count": 86,
      "metadata": {},
      "outputs": [],
      "source": [
        "class_counts = df_train[\"Target Variable (Discrete)\"].value_counts()"
      ]
    },
    {
      "cell_type": "code",
      "execution_count": 87,
      "metadata": {},
      "outputs": [
        {
          "name": "stdout",
          "output_type": "stream",
          "text": [
            "Target Variable (Discrete)\n",
            "5.0     40\n",
            "8.0     40\n",
            "14.0    40\n",
            "7.0     40\n",
            "15.0    40\n",
            "4.0     40\n",
            "13.0    40\n",
            "3.0     40\n",
            "9.0     40\n",
            "12.0    40\n",
            "17.0    40\n",
            "11.0    40\n",
            "10.0    40\n",
            "16.0    40\n",
            "Name: count, dtype: int64\n"
          ]
        }
      ],
      "source": [
        "import numpy as np\n",
        "import pandas as pd\n",
        "\n",
        "# Assuming class_counts is defined somewhere in your code\n",
        "minority_classes = class_counts[class_counts < 50].index\n",
        "\n",
        "df_oversampled = pd.DataFrame()\n",
        "\n",
        "for cls in minority_classes:\n",
        "    minority_instances = df_train[df_train[\"Target Variable (Discrete)\"] == cls]\n",
        "    oversampled_instances = minority_instances.sample(n=40, replace=True, random_state=42)\n",
        "\n",
        "    # Add Gaussian noise\n",
        "    noise = np.random.normal(loc=0, scale=0.1, size=oversampled_instances.shape)\n",
        "    oversampled_instances_with_noise = oversampled_instances + noise\n",
        "\n",
        "\n",
        "    df_oversampled = pd.concat([df_oversampled, oversampled_instances_with_noise])\n",
        "    \n",
        "df_oversampled[\"Target Variable (Discrete)\"] = df_oversampled[\"Target Variable (Discrete)\"].round()\n",
        "print(df_oversampled[\"Target Variable (Discrete)\"].value_counts())\n"
      ]
    },
    {
      "cell_type": "code",
      "execution_count": 88,
      "metadata": {},
      "outputs": [
        {
          "name": "stdout",
          "output_type": "stream",
          "text": [
            "Target Variable (Discrete)\n",
            "1.0     488\n",
            "0.0     249\n",
            "2.0     109\n",
            "6.0      70\n",
            "3.0      40\n",
            "10.0     40\n",
            "11.0     40\n",
            "17.0     40\n",
            "12.0     40\n",
            "9.0      40\n",
            "4.0      40\n",
            "13.0     40\n",
            "15.0     40\n",
            "7.0      40\n",
            "14.0     40\n",
            "8.0      40\n",
            "5.0      40\n",
            "16.0     40\n",
            "Name: count, dtype: int64\n"
          ]
        }
      ],
      "source": [
        "# Assuming df_train is your original dataframe\n",
        "from imblearn.over_sampling import SMOTE\n",
        "\n",
        "# Separate majority and minority classes in df_train\n",
        "majority_instances = df_train[df_train[\"Target Variable (Discrete)\"].isin(minority_classes) == False]\n",
        "\n",
        "majority_instances = df_train[df_train[\"Target Variable (Discrete)\"].isin(minority_classes) == False]\n",
        "df_train_updated = pd.concat([majority_instances, df_oversampled], ignore_index=True)\n",
        "\n",
        "\n",
        "# Check the distribution of classes in the updated DataFrame\n",
        "print(df_train_updated[\"Target Variable (Discrete)\"].value_counts())\n"
      ]
    },
    {
      "cell_type": "code",
      "execution_count": 89,
      "metadata": {},
      "outputs": [],
      "source": [
        "X = df_train_updated.iloc[:, :-1]\n",
        "y = df_train_updated.iloc[:, -1]\n",
        "scaler = StandardScaler()\n",
        "X = scaler.fit_transform(X)\n",
        "X_test = scaler.transform(X_test)"
      ]
    },
    {
      "cell_type": "code",
      "execution_count": 90,
      "metadata": {},
      "outputs": [],
      "source": [
        "smote = SMOTE(sampling_strategy='auto', random_state=42)\n",
        "X, y = smote.fit_resample(X, y)"
      ]
    },
    {
      "cell_type": "code",
      "execution_count": 91,
      "metadata": {},
      "outputs": [],
      "source": [
        "from sklearn.neighbors import KNeighborsClassifier\n",
        "from sklearn.ensemble import GradientBoostingClassifier\n",
        "# Initialize models\n",
        "model = GradientBoostingClassifier()\n",
        "\n",
        "# Train the model on the training data\n",
        "model.fit(X, y)\n",
        "\n",
        "predictions = model.predict(X_test)"
      ]
    },
    {
      "cell_type": "code",
      "execution_count": 94,
      "metadata": {},
      "outputs": [],
      "source": [
        "pred_df = pd.DataFrame()\n",
        "pred_df['Category'] = predictions\n",
        "pred_df['id'] = pred_df.index + 1\n",
        "pred_df = pred_df[['id', 'Category']].astype(int)\n",
        "pred_df.to_csv('output/oversample_new_GradientBoostingClassifier.csv', index=False)"
      ]
    }
  ],
  "metadata": {
    "colab": {
      "provenance": []
    },
    "kernelspec": {
      "display_name": "Python 3",
      "name": "python3"
    },
    "language_info": {
      "codemirror_mode": {
        "name": "ipython",
        "version": 3
      },
      "file_extension": ".py",
      "mimetype": "text/x-python",
      "name": "python",
      "nbconvert_exporter": "python",
      "pygments_lexer": "ipython3",
      "version": "3.11.4"
    }
  },
  "nbformat": 4,
  "nbformat_minor": 0
}
