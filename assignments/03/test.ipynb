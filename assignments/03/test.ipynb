{
  "cells": [
    {
      "cell_type": "code",
      "execution_count": 69,
      "metadata": {
        "id": "ftGaqLZDbwIX"
      },
      "outputs": [],
      "source": [
        "import pandas as pd\n",
        "import numpy as np\n",
        "import matplotlib.pyplot as plt\n",
        "from sklearn.preprocessing import StandardScaler"
      ]
    },
    {
      "cell_type": "code",
      "execution_count": 70,
      "metadata": {},
      "outputs": [],
      "source": [
        "df_train = pd.read_csv('data/iith_foml_2023_train.csv')\n",
        "drop_cols = ['Feature 3 (Discrete)', 'Feature 10', 'Feature 14', 'Feature 15', 'Feature 23 (Discrete)']\n",
        "df_train.drop(columns=drop_cols, inplace=True)\n",
        "for column in df_train.columns:\n",
        "    if df_train[column].isna().any():\n",
        "        mean_value = df_train[column].mean()\n",
        "        df_train[column].fillna(mean_value, inplace=True)\n",
        "y_train = df_train.iloc[:, -1]\n",
        "X_train = df_train.iloc[:, :-1]"
      ]
    },
    {
      "cell_type": "code",
      "execution_count": 71,
      "metadata": {},
      "outputs": [],
      "source": [
        "df_test = pd.read_csv('data/iith_foml_2023_test.csv')\n",
        "df_test.drop(columns=drop_cols, inplace=True)\n",
        "for column in df_test.columns:\n",
        "    if df_test[column].isna().any():\n",
        "        mean_value = df_test[column].mean()\n",
        "        df_test[column].fillna(mean_value, inplace=True)\n",
        "X_test = df_test"
      ]
    },
    {
      "cell_type": "code",
      "execution_count": 72,
      "metadata": {},
      "outputs": [],
      "source": [
        "scaler = StandardScaler()\n",
        "X_train = scaler.fit_transform(X_train)\n",
        "X_test = scaler.transform(X_test)"
      ]
    },
    {
      "cell_type": "code",
      "execution_count": 73,
      "metadata": {},
      "outputs": [],
      "source": [
        "from imblearn.over_sampling import RandomOverSampler\n",
        "\n",
        "ros = RandomOverSampler(random_state=42)\n",
        "X_train, y_train = ros.fit_resample(X_train, y_train)\n",
        "\n",
        "from sklearn.neighbors import KNeighborsClassifier\n",
        "# Initialize models\n",
        "model = KNeighborsClassifier(n_neighbors=7, n_jobs=-1, weights='distance')\n",
        "\n",
        "# Train the model on the training data\n",
        "model.fit(X_train, y_train)\n",
        "\n",
        "predictions = model.predict(X_test)"
      ]
    },
    {
      "cell_type": "code",
      "execution_count": 74,
      "metadata": {},
      "outputs": [],
      "source": [
        "pred_df = pd.DataFrame()\n",
        "pred_df['Category'] = predictions\n",
        "pred_df['id'] = pred_df.index + 1\n",
        "pred_df = pred_df[['id', 'Category']]\n",
        "pred_df.to_csv('output/oversample_knn_maxdrop.csv', index=False)"
      ]
    }
  ],
  "metadata": {
    "colab": {
      "provenance": []
    },
    "kernelspec": {
      "display_name": "Python 3",
      "name": "python3"
    },
    "language_info": {
      "codemirror_mode": {
        "name": "ipython",
        "version": 3
      },
      "file_extension": ".py",
      "mimetype": "text/x-python",
      "name": "python",
      "nbconvert_exporter": "python",
      "pygments_lexer": "ipython3",
      "version": "3.11.4"
    }
  },
  "nbformat": 4,
  "nbformat_minor": 0
}
