{
  "cells": [
    {
      "cell_type": "code",
      "execution_count": 40,
      "metadata": {
        "id": "ftGaqLZDbwIX"
      },
      "outputs": [],
      "source": [
        "import pandas as pd\n",
        "import numpy as np\n",
        "import matplotlib.pyplot as plt\n",
        "from sklearn.experimental import enable_iterative_imputer\n",
        "from sklearn.impute import IterativeImputer"
      ]
    },
    {
      "cell_type": "code",
      "execution_count": 41,
      "metadata": {},
      "outputs": [],
      "source": [
        "# Create imputer object\n",
        "imputer = IterativeImputer(max_iter=100, tol=1e-3)\n",
        "\n",
        "df = pd.read_csv('data/iith_foml_2023_train.csv')\n",
        "y_train = df.iloc[:, -1]\n",
        "X_train = df.iloc[:, :-1]\n",
        "# Fit the imputer model on the dataset to learn the data patterns\n",
        "# X_train.drop(columns=['Feature 16', 'Feature 17'], inplace=True)\n",
        "imputer.fit(X_train)\n",
        "\n",
        "# Transform the dataset to replace missing values\n",
        "# Convert back to a DataFrame\n",
        "X_train_imputed = pd.DataFrame(imputer.transform(X_train), columns=X_train.columns)"
      ]
    },
    {
      "cell_type": "code",
      "execution_count": 42,
      "metadata": {},
      "outputs": [],
      "source": [
        "df_test = pd.read_csv('data/iith_foml_2023_test.csv')\n",
        "# df_test.drop(columns=['Feature 16', 'Feature 17'], inplace=True)\n",
        "X_test = pd.DataFrame(imputer.transform(df_test), columns=df_test.columns)"
      ]
    },
    {
      "cell_type": "code",
      "execution_count": 45,
      "metadata": {},
      "outputs": [],
      "source": [
        "from sklearn.neural_network import MLPClassifier\n",
        "\n",
        "# Initialize mlpoost model\n",
        "mlp_model = MLPClassifier(hidden_layer_sizes=[16, 16], max_iter=5000, activation='logistic')\n",
        "\n",
        "# Train the model on the training data\n",
        "mlp_model.fit(X_train_imputed, y_train)\n",
        "\n",
        "# Make predictions on the validation data\n",
        "mlp_predictions = mlp_model.predict(X_test)"
      ]
    },
    {
      "cell_type": "code",
      "execution_count": 46,
      "metadata": {},
      "outputs": [],
      "source": [
        "pred_df = pd.DataFrame()\n",
        "pred_df['Category'] = mlp_predictions\n",
        "pred_df['id'] = pred_df.index + 1\n",
        "pred_df = pred_df[['id', 'Category']]\n",
        "pred_df.to_csv('output/mlp.csv', index=False)"
      ]
    }
  ],
  "metadata": {
    "colab": {
      "provenance": []
    },
    "kernelspec": {
      "display_name": "Python 3",
      "name": "python3"
    },
    "language_info": {
      "codemirror_mode": {
        "name": "ipython",
        "version": 3
      },
      "file_extension": ".py",
      "mimetype": "text/x-python",
      "name": "python",
      "nbconvert_exporter": "python",
      "pygments_lexer": "ipython3",
      "version": "3.10.12"
    }
  },
  "nbformat": 4,
  "nbformat_minor": 0
}
