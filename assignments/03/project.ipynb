{
  "cells": [
    {
      "cell_type": "code",
      "execution_count": 27,
      "metadata": {
        "id": "ftGaqLZDbwIX"
      },
      "outputs": [],
      "source": [
        "import pandas as pd\n",
        "import numpy as np\n",
        "import matplotlib.pyplot as plt\n",
        "from sklearn.decomposition import PCA\n",
        "from sklearn.preprocessing import StandardScaler, LabelEncoder\n",
        "import xgboost"
      ]
    },
    {
      "cell_type": "code",
      "execution_count": 28,
      "metadata": {},
      "outputs": [
        {
          "name": "stdout",
          "output_type": "stream",
          "text": [
            "0       8954.554344\n",
            "1       4900.005000\n",
            "2      10000.004000\n",
            "3       -867.934081\n",
            "4        -55.260168\n",
            "           ...     \n",
            "989     5375.962686\n",
            "990     -579.847919\n",
            "991     1000.002000\n",
            "992     -603.569399\n",
            "993     -650.663889\n",
            "Name: Feature 17, Length: 994, dtype: float64\n"
          ]
        }
      ],
      "source": [
        "from sklearn.experimental import enable_iterative_imputer\n",
        "from sklearn.impute import IterativeImputer\n",
        "\n",
        "# Assuming df is your DataFrame and 'Feature17' has missing values\n",
        "imputer = IterativeImputer(max_iter=100, tol=1e-3)\n",
        "\n",
        "df = pd.read_csv('data/iith_foml_2023_train.csv')\n",
        "# Fit the imputer model on the dataset to learn the data patterns\n",
        "imputer.fit(df)\n",
        "\n",
        "# Transform the dataset to replace missing values\n",
        "df_imputed = imputer.transform(df)\n",
        "\n",
        "# Convert back to a DataFrame\n",
        "df_imputed = pd.DataFrame(df_imputed, columns=df.columns)\n",
        "\n",
        "# Check the imputation\n",
        "print(df_imputed['Feature 17'])"
      ]
    },
    {
      "cell_type": "code",
      "execution_count": 29,
      "metadata": {
        "id": "ivKS7hoHbwK_"
      },
      "outputs": [],
      "source": [
        "df = pd.read_csv('data/iith_foml_2023_train.csv')"
      ]
    },
    {
      "cell_type": "code",
      "execution_count": 30,
      "metadata": {
        "colab": {
          "base_uri": "https://localhost:8080/"
        },
        "id": "vyu4sQJybwTF",
        "outputId": "50fbe4bc-81e8-4f6b-f88c-f7e2ef82eb78"
      },
      "outputs": [
        {
          "data": {
            "text/plain": [
              "Index(['Feature 1 (Discrete)', 'Feature 2 (Discrete)', 'Feature 3 (Discrete)',\n",
              "       'Feature 4 (Discrete)', 'Feature 5 (Discrete)', 'Feature 6 (Discrete)',\n",
              "       'Feature 7 (Discrete)', 'Feature 8 (Discrete)', 'Feature 9',\n",
              "       'Feature 10', 'Feature 11', 'Feature 12', 'Feature 13', 'Feature 14',\n",
              "       'Feature 15', 'Feature 16', 'Feature 17', 'Feature 18',\n",
              "       'Feature 19 (Discrete)', 'Feature 20 (Discrete)',\n",
              "       'Feature 21 (Discrete)', 'Feature 22 (Discrete)',\n",
              "       'Feature 23 (Discrete)', 'Feature 24', 'Target Variable (Discrete)'],\n",
              "      dtype='object')"
            ]
          },
          "execution_count": 30,
          "metadata": {},
          "output_type": "execute_result"
        }
      ],
      "source": [
        "df.columns"
      ]
    },
    {
      "cell_type": "code",
      "execution_count": 31,
      "metadata": {
        "colab": {
          "base_uri": "https://localhost:8080/"
        },
        "id": "a7sZVAqDiKBK",
        "outputId": "19fa9d6c-c62c-48fb-8f58-e767b044da59"
      },
      "outputs": [
        {
          "name": "stdout",
          "output_type": "stream",
          "text": [
            "Mean: 3814.4205156250005\n",
            "Median: 1500.003\n",
            "Mode: 1400.001\n"
          ]
        }
      ],
      "source": [
        "mean_value = df['Feature 17'].mean()\n",
        "median_value = df['Feature 17'].median()\n",
        "mode_value = df['Feature 17'].mode().iloc[0]\n",
        "\n",
        "print(f\"Mean: {mean_value}\")\n",
        "print(f\"Median: {median_value}\")\n",
        "print(f\"Mode: {mode_value}\")"
      ]
    },
    {
      "cell_type": "code",
      "execution_count": 32,
      "metadata": {
        "colab": {
          "base_uri": "https://localhost:8080/"
        },
        "id": "p7BDzFmJkuNN",
        "outputId": "af847bfd-ee1e-451c-c272-c0bced6476a1"
      },
      "outputs": [
        {
          "name": "stdout",
          "output_type": "stream",
          "text": [
            "11\n"
          ]
        }
      ],
      "source": [
        "sum = 0\n",
        "for i in df[\"Feature 17\"]:\n",
        "  if(i == 1400.001):\n",
        "    sum += 1\n",
        "print(sum)"
      ]
    },
    {
      "cell_type": "code",
      "execution_count": 33,
      "metadata": {
        "id": "AGGPePqIkuSN"
      },
      "outputs": [],
      "source": [
        "for column in df.columns:\n",
        "   if df[column].isnull().any():\n",
        "     mode_value = df[column].mode().iloc[0]\n",
        "     df[column].fillna(mode_value, inplace=True)"
      ]
    },
    {
      "cell_type": "code",
      "execution_count": 34,
      "metadata": {
        "colab": {
          "base_uri": "https://localhost:8080/",
          "height": 290
        },
        "id": "kaVEQT4okuU8",
        "outputId": "5788e998-84c1-42fe-e449-e2ca04153692"
      },
      "outputs": [
        {
          "data": {
            "text/html": [
              "<div>\n",
              "<style scoped>\n",
              "    .dataframe tbody tr th:only-of-type {\n",
              "        vertical-align: middle;\n",
              "    }\n",
              "\n",
              "    .dataframe tbody tr th {\n",
              "        vertical-align: top;\n",
              "    }\n",
              "\n",
              "    .dataframe thead th {\n",
              "        text-align: right;\n",
              "    }\n",
              "</style>\n",
              "<table border=\"1\" class=\"dataframe\">\n",
              "  <thead>\n",
              "    <tr style=\"text-align: right;\">\n",
              "      <th></th>\n",
              "      <th>Feature 1 (Discrete)</th>\n",
              "      <th>Feature 2 (Discrete)</th>\n",
              "      <th>Feature 3 (Discrete)</th>\n",
              "      <th>Feature 4 (Discrete)</th>\n",
              "      <th>Feature 5 (Discrete)</th>\n",
              "      <th>Feature 6 (Discrete)</th>\n",
              "      <th>Feature 7 (Discrete)</th>\n",
              "      <th>Feature 8 (Discrete)</th>\n",
              "      <th>Feature 9</th>\n",
              "      <th>Feature 10</th>\n",
              "      <th>...</th>\n",
              "      <th>Feature 16</th>\n",
              "      <th>Feature 17</th>\n",
              "      <th>Feature 18</th>\n",
              "      <th>Feature 19 (Discrete)</th>\n",
              "      <th>Feature 20 (Discrete)</th>\n",
              "      <th>Feature 21 (Discrete)</th>\n",
              "      <th>Feature 22 (Discrete)</th>\n",
              "      <th>Feature 23 (Discrete)</th>\n",
              "      <th>Feature 24</th>\n",
              "      <th>Target Variable (Discrete)</th>\n",
              "    </tr>\n",
              "  </thead>\n",
              "  <tbody>\n",
              "    <tr>\n",
              "      <th>0</th>\n",
              "      <td>1404</td>\n",
              "      <td>12</td>\n",
              "      <td>64</td>\n",
              "      <td>14</td>\n",
              "      <td>3</td>\n",
              "      <td>1</td>\n",
              "      <td>1</td>\n",
              "      <td>1</td>\n",
              "      <td>110.502</td>\n",
              "      <td>35775.2</td>\n",
              "      <td>...</td>\n",
              "      <td>556.3</td>\n",
              "      <td>1400.001</td>\n",
              "      <td>15.04</td>\n",
              "      <td>104</td>\n",
              "      <td>12</td>\n",
              "      <td>2</td>\n",
              "      <td>32</td>\n",
              "      <td>1409</td>\n",
              "      <td>37677.1</td>\n",
              "      <td>1</td>\n",
              "    </tr>\n",
              "    <tr>\n",
              "      <th>1</th>\n",
              "      <td>909</td>\n",
              "      <td>0</td>\n",
              "      <td>235</td>\n",
              "      <td>32</td>\n",
              "      <td>1</td>\n",
              "      <td>1</td>\n",
              "      <td>1</td>\n",
              "      <td>1</td>\n",
              "      <td>-40.448</td>\n",
              "      <td>35779.4</td>\n",
              "      <td>...</td>\n",
              "      <td>2200.3</td>\n",
              "      <td>4900.005</td>\n",
              "      <td>12.03</td>\n",
              "      <td>20</td>\n",
              "      <td>1</td>\n",
              "      <td>0</td>\n",
              "      <td>13</td>\n",
              "      <td>909</td>\n",
              "      <td>25239.1</td>\n",
              "      <td>1</td>\n",
              "    </tr>\n",
              "    <tr>\n",
              "      <th>2</th>\n",
              "      <td>654</td>\n",
              "      <td>3</td>\n",
              "      <td>175</td>\n",
              "      <td>2</td>\n",
              "      <td>1</td>\n",
              "      <td>1</td>\n",
              "      <td>1</td>\n",
              "      <td>1</td>\n",
              "      <td>-27.445</td>\n",
              "      <td>35770.4</td>\n",
              "      <td>...</td>\n",
              "      <td>1973.3</td>\n",
              "      <td>10000.004</td>\n",
              "      <td>13.01</td>\n",
              "      <td>1</td>\n",
              "      <td>1</td>\n",
              "      <td>0</td>\n",
              "      <td>13</td>\n",
              "      <td>654</td>\n",
              "      <td>27683.5</td>\n",
              "      <td>1</td>\n",
              "    </tr>\n",
              "    <tr>\n",
              "      <th>3</th>\n",
              "      <td>1372</td>\n",
              "      <td>12</td>\n",
              "      <td>382</td>\n",
              "      <td>14</td>\n",
              "      <td>2</td>\n",
              "      <td>0</td>\n",
              "      <td>1</td>\n",
              "      <td>0</td>\n",
              "      <td>0.001</td>\n",
              "      <td>509.2</td>\n",
              "      <td>...</td>\n",
              "      <td>556.3</td>\n",
              "      <td>1400.001</td>\n",
              "      <td>15.01</td>\n",
              "      <td>313</td>\n",
              "      <td>12</td>\n",
              "      <td>10</td>\n",
              "      <td>54</td>\n",
              "      <td>1377</td>\n",
              "      <td>39363.2</td>\n",
              "      <td>0</td>\n",
              "    </tr>\n",
              "    <tr>\n",
              "      <th>4</th>\n",
              "      <td>786</td>\n",
              "      <td>3</td>\n",
              "      <td>199</td>\n",
              "      <td>2</td>\n",
              "      <td>1</td>\n",
              "      <td>0</td>\n",
              "      <td>1</td>\n",
              "      <td>0</td>\n",
              "      <td>0.001</td>\n",
              "      <td>612.1</td>\n",
              "      <td>...</td>\n",
              "      <td>556.3</td>\n",
              "      <td>1400.001</td>\n",
              "      <td>15.01</td>\n",
              "      <td>171</td>\n",
              "      <td>1</td>\n",
              "      <td>5</td>\n",
              "      <td>11</td>\n",
              "      <td>786</td>\n",
              "      <td>40044.4</td>\n",
              "      <td>2</td>\n",
              "    </tr>\n",
              "  </tbody>\n",
              "</table>\n",
              "<p>5 rows × 25 columns</p>\n",
              "</div>"
            ],
            "text/plain": [
              "   Feature 1 (Discrete)  Feature 2 (Discrete)  Feature 3 (Discrete)  \\\n",
              "0                  1404                    12                    64   \n",
              "1                   909                     0                   235   \n",
              "2                   654                     3                   175   \n",
              "3                  1372                    12                   382   \n",
              "4                   786                     3                   199   \n",
              "\n",
              "   Feature 4 (Discrete)  Feature 5 (Discrete)  Feature 6 (Discrete)  \\\n",
              "0                    14                     3                     1   \n",
              "1                    32                     1                     1   \n",
              "2                     2                     1                     1   \n",
              "3                    14                     2                     0   \n",
              "4                     2                     1                     0   \n",
              "\n",
              "   Feature 7 (Discrete)  Feature 8 (Discrete)  Feature 9  Feature 10  ...  \\\n",
              "0                     1                     1    110.502     35775.2  ...   \n",
              "1                     1                     1    -40.448     35779.4  ...   \n",
              "2                     1                     1    -27.445     35770.4  ...   \n",
              "3                     1                     0      0.001       509.2  ...   \n",
              "4                     1                     0      0.001       612.1  ...   \n",
              "\n",
              "   Feature 16  Feature 17  Feature 18  Feature 19 (Discrete)  \\\n",
              "0       556.3    1400.001       15.04                    104   \n",
              "1      2200.3    4900.005       12.03                     20   \n",
              "2      1973.3   10000.004       13.01                      1   \n",
              "3       556.3    1400.001       15.01                    313   \n",
              "4       556.3    1400.001       15.01                    171   \n",
              "\n",
              "   Feature 20 (Discrete)  Feature 21 (Discrete)  Feature 22 (Discrete)  \\\n",
              "0                     12                      2                     32   \n",
              "1                      1                      0                     13   \n",
              "2                      1                      0                     13   \n",
              "3                     12                     10                     54   \n",
              "4                      1                      5                     11   \n",
              "\n",
              "   Feature 23 (Discrete)  Feature 24  Target Variable (Discrete)  \n",
              "0                   1409     37677.1                           1  \n",
              "1                    909     25239.1                           1  \n",
              "2                    654     27683.5                           1  \n",
              "3                   1377     39363.2                           0  \n",
              "4                    786     40044.4                           2  \n",
              "\n",
              "[5 rows x 25 columns]"
            ]
          },
          "execution_count": 34,
          "metadata": {},
          "output_type": "execute_result"
        }
      ],
      "source": [
        "df.head()"
      ]
    },
    {
      "cell_type": "code",
      "execution_count": 35,
      "metadata": {
        "colab": {
          "base_uri": "https://localhost:8080/"
        },
        "id": "OL_i_5SKkuXe",
        "outputId": "76e9b990-ce06-4a80-a4aa-82abaa4f55f9"
      },
      "outputs": [
        {
          "name": "stdout",
          "output_type": "stream",
          "text": [
            "Shape of X: (994, 24)\n",
            "Shape of y: (994,)\n"
          ]
        }
      ],
      "source": [
        "X = df_imputed.iloc[:, :-1]\n",
        "y = df_imputed.iloc[:, -1]\n",
        "\n",
        "scaler = StandardScaler()\n",
        "X_standardized = scaler.fit_transform(X)\n",
        "\n",
        "\n",
        "print(\"Shape of X:\", X.shape)\n",
        "print(\"Shape of y:\", y.shape)"
      ]
    },
    {
      "cell_type": "code",
      "execution_count": 36,
      "metadata": {
        "id": "WWrvWN6SCK9J"
      },
      "outputs": [],
      "source": [
        "pca = PCA()\n",
        "X_pca = pca.fit_transform(X_standardized)"
      ]
    },
    {
      "cell_type": "code",
      "execution_count": 37,
      "metadata": {
        "colab": {
          "base_uri": "https://localhost:8080/",
          "height": 472
        },
        "id": "lekNfDt2CaRL",
        "outputId": "2bfa08d0-e2d1-4b97-c4ab-148221bad17c"
      },
      "outputs": [
        {
          "data": {
            "image/png": "[encoded data removed]",
            "text/plain": [
              "<Figure size 640x480 with 1 Axes>"
            ]
          },
          "metadata": {},
          "output_type": "display_data"
        }
      ],
      "source": [
        "cumulative_variance = np.cumsum(pca.explained_variance_ratio_)\n",
        "\n",
        "# Plot the variance explained by each component\n",
        "plt.plot(range(1, len(cumulative_variance) + 1), cumulative_variance, marker='o', linestyle='-', color='b')\n",
        "plt.title('Variance Explained by Principal Components')\n",
        "plt.xlabel('Number of Principal Components')\n",
        "plt.ylabel('Cumulative Variance Explained')\n",
        "plt.show()"
      ]
    },
    {
      "cell_type": "code",
      "execution_count": 38,
      "metadata": {
        "id": "f5iVNmsHCaTr"
      },
      "outputs": [],
      "source": [
        "pca = PCA(n_components=8)\n",
        "X_pca = pca.fit_transform(X_standardized)\n",
        "\n",
        "pca_df = pd.DataFrame(data=X_pca, columns=['PC1', 'PC2', 'PC3', 'PC4', 'PC5', 'PC6', 'PC7', 'PC8'])"
      ]
    },
    {
      "cell_type": "code",
      "execution_count": 39,
      "metadata": {
        "colab": {
          "base_uri": "https://localhost:8080/",
          "height": 423
        },
        "id": "-Sus11xdC8cy",
        "outputId": "d49f58e3-4bd8-4f30-b8bf-8837ed517074"
      },
      "outputs": [
        {
          "data": {
            "text/html": [
              "<div>\n",
              "<style scoped>\n",
              "    .dataframe tbody tr th:only-of-type {\n",
              "        vertical-align: middle;\n",
              "    }\n",
              "\n",
              "    .dataframe tbody tr th {\n",
              "        vertical-align: top;\n",
              "    }\n",
              "\n",
              "    .dataframe thead th {\n",
              "        text-align: right;\n",
              "    }\n",
              "</style>\n",
              "<table border=\"1\" class=\"dataframe\">\n",
              "  <thead>\n",
              "    <tr style=\"text-align: right;\">\n",
              "      <th></th>\n",
              "      <th>PC1</th>\n",
              "      <th>PC2</th>\n",
              "      <th>PC3</th>\n",
              "      <th>PC4</th>\n",
              "      <th>PC5</th>\n",
              "      <th>PC6</th>\n",
              "      <th>PC7</th>\n",
              "      <th>PC8</th>\n",
              "    </tr>\n",
              "  </thead>\n",
              "  <tbody>\n",
              "    <tr>\n",
              "      <th>0</th>\n",
              "      <td>2.776267</td>\n",
              "      <td>2.505985</td>\n",
              "      <td>-0.803204</td>\n",
              "      <td>-0.109152</td>\n",
              "      <td>0.210382</td>\n",
              "      <td>-0.230156</td>\n",
              "      <td>-0.476913</td>\n",
              "      <td>1.624930</td>\n",
              "    </tr>\n",
              "    <tr>\n",
              "      <th>1</th>\n",
              "      <td>2.911820</td>\n",
              "      <td>1.244803</td>\n",
              "      <td>-0.125866</td>\n",
              "      <td>0.076968</td>\n",
              "      <td>-0.090643</td>\n",
              "      <td>-1.117105</td>\n",
              "      <td>-0.134756</td>\n",
              "      <td>-1.430680</td>\n",
              "    </tr>\n",
              "    <tr>\n",
              "      <th>2</th>\n",
              "      <td>3.544434</td>\n",
              "      <td>-0.025795</td>\n",
              "      <td>-0.105763</td>\n",
              "      <td>0.790663</td>\n",
              "      <td>-0.202533</td>\n",
              "      <td>-0.746360</td>\n",
              "      <td>-0.137202</td>\n",
              "      <td>-0.970926</td>\n",
              "    </tr>\n",
              "    <tr>\n",
              "      <th>3</th>\n",
              "      <td>-3.677697</td>\n",
              "      <td>2.905544</td>\n",
              "      <td>-0.758562</td>\n",
              "      <td>-0.006818</td>\n",
              "      <td>-0.681125</td>\n",
              "      <td>-0.603446</td>\n",
              "      <td>0.164082</td>\n",
              "      <td>-0.125523</td>\n",
              "    </tr>\n",
              "    <tr>\n",
              "      <th>4</th>\n",
              "      <td>-2.300194</td>\n",
              "      <td>-0.332876</td>\n",
              "      <td>-0.727363</td>\n",
              "      <td>0.246585</td>\n",
              "      <td>-1.680454</td>\n",
              "      <td>-0.540807</td>\n",
              "      <td>-0.634480</td>\n",
              "      <td>-0.166497</td>\n",
              "    </tr>\n",
              "    <tr>\n",
              "      <th>...</th>\n",
              "      <td>...</td>\n",
              "      <td>...</td>\n",
              "      <td>...</td>\n",
              "      <td>...</td>\n",
              "      <td>...</td>\n",
              "      <td>...</td>\n",
              "      <td>...</td>\n",
              "      <td>...</td>\n",
              "    </tr>\n",
              "    <tr>\n",
              "      <th>989</th>\n",
              "      <td>-2.140518</td>\n",
              "      <td>2.467918</td>\n",
              "      <td>-1.188260</td>\n",
              "      <td>1.847621</td>\n",
              "      <td>-0.951799</td>\n",
              "      <td>-0.259776</td>\n",
              "      <td>0.275957</td>\n",
              "      <td>0.274214</td>\n",
              "    </tr>\n",
              "    <tr>\n",
              "      <th>990</th>\n",
              "      <td>-3.438115</td>\n",
              "      <td>2.119684</td>\n",
              "      <td>-0.454261</td>\n",
              "      <td>0.519125</td>\n",
              "      <td>-1.031590</td>\n",
              "      <td>-0.845354</td>\n",
              "      <td>0.273939</td>\n",
              "      <td>0.116700</td>\n",
              "    </tr>\n",
              "    <tr>\n",
              "      <th>991</th>\n",
              "      <td>0.017215</td>\n",
              "      <td>-0.998903</td>\n",
              "      <td>1.561549</td>\n",
              "      <td>-0.587815</td>\n",
              "      <td>0.614505</td>\n",
              "      <td>-0.144231</td>\n",
              "      <td>0.628803</td>\n",
              "      <td>0.613158</td>\n",
              "    </tr>\n",
              "    <tr>\n",
              "      <th>992</th>\n",
              "      <td>-2.805305</td>\n",
              "      <td>0.843002</td>\n",
              "      <td>-0.709855</td>\n",
              "      <td>-0.284283</td>\n",
              "      <td>0.399675</td>\n",
              "      <td>-0.342290</td>\n",
              "      <td>0.470395</td>\n",
              "      <td>-0.206870</td>\n",
              "    </tr>\n",
              "    <tr>\n",
              "      <th>993</th>\n",
              "      <td>-3.856317</td>\n",
              "      <td>2.347094</td>\n",
              "      <td>-0.400667</td>\n",
              "      <td>0.612484</td>\n",
              "      <td>-0.875582</td>\n",
              "      <td>-0.861139</td>\n",
              "      <td>1.762688</td>\n",
              "      <td>0.167854</td>\n",
              "    </tr>\n",
              "  </tbody>\n",
              "</table>\n",
              "<p>994 rows × 8 columns</p>\n",
              "</div>"
            ],
            "text/plain": [
              "          PC1       PC2       PC3       PC4       PC5       PC6       PC7  \\\n",
              "0    2.776267  2.505985 -0.803204 -0.109152  0.210382 -0.230156 -0.476913   \n",
              "1    2.911820  1.244803 -0.125866  0.076968 -0.090643 -1.117105 -0.134756   \n",
              "2    3.544434 -0.025795 -0.105763  0.790663 -0.202533 -0.746360 -0.137202   \n",
              "3   -3.677697  2.905544 -0.758562 -0.006818 -0.681125 -0.603446  0.164082   \n",
              "4   -2.300194 -0.332876 -0.727363  0.246585 -1.680454 -0.540807 -0.634480   \n",
              "..        ...       ...       ...       ...       ...       ...       ...   \n",
              "989 -2.140518  2.467918 -1.188260  1.847621 -0.951799 -0.259776  0.275957   \n",
              "990 -3.438115  2.119684 -0.454261  0.519125 -1.031590 -0.845354  0.273939   \n",
              "991  0.017215 -0.998903  1.561549 -0.587815  0.614505 -0.144231  0.628803   \n",
              "992 -2.805305  0.843002 -0.709855 -0.284283  0.399675 -0.342290  0.470395   \n",
              "993 -3.856317  2.347094 -0.400667  0.612484 -0.875582 -0.861139  1.762688   \n",
              "\n",
              "          PC8  \n",
              "0    1.624930  \n",
              "1   -1.430680  \n",
              "2   -0.970926  \n",
              "3   -0.125523  \n",
              "4   -0.166497  \n",
              "..        ...  \n",
              "989  0.274214  \n",
              "990  0.116700  \n",
              "991  0.613158  \n",
              "992 -0.206870  \n",
              "993  0.167854  \n",
              "\n",
              "[994 rows x 8 columns]"
            ]
          },
          "execution_count": 39,
          "metadata": {},
          "output_type": "execute_result"
        }
      ],
      "source": [
        "pca_df"
      ]
    },
    {
      "cell_type": "code",
      "execution_count": 40,
      "metadata": {
        "colab": {
          "base_uri": "https://localhost:8080/"
        },
        "id": "BdtdnmqO0WPZ",
        "outputId": "2c213020-ecde-4473-fe3e-83fffe5e02e4"
      },
      "outputs": [
        {
          "name": "stdout",
          "output_type": "stream",
          "text": [
            "Shape of train_x: (795, 24)\n",
            "Shape of val_x: (199, 24)\n",
            "Shape of train_y: (795,)\n",
            "Shape of val_y: (199,)\n"
          ]
        }
      ],
      "source": [
        "from sklearn.model_selection import train_test_split\n",
        "\n",
        "train_x, val_x, train_y, val_y = train_test_split(X_standardized, y, test_size=0.2, random_state=42)\n",
        "\n",
        "print(\"Shape of train_x:\", train_x.shape)\n",
        "print(\"Shape of val_x:\", val_x.shape)\n",
        "print(\"Shape of train_y:\", train_y.shape)\n",
        "print(\"Shape of val_y:\", val_y.shape)\n"
      ]
    },
    {
      "cell_type": "code",
      "execution_count": 41,
      "metadata": {
        "colab": {
          "base_uri": "https://localhost:8080/"
        },
        "id": "_emi-UFszYCq",
        "outputId": "57711050-c5e6-417e-fa1a-d14b991792a5"
      },
      "outputs": [
        {
          "name": "stdout",
          "output_type": "stream",
          "text": [
            "Accuracy: 0.7939698492462312\n"
          ]
        }
      ],
      "source": [
        "from sklearn.model_selection import train_test_split\n",
        "from sklearn.svm import SVC\n",
        "from sklearn.metrics import accuracy_score\n",
        "\n",
        "svm_model = SVC()\n",
        "\n",
        "svm_model.fit(train_x, train_y)\n",
        "\n",
        "predictions = svm_model.predict(val_x)\n",
        "\n",
        "accuracy = accuracy_score(val_y, predictions)\n",
        "\n",
        "print(\"Accuracy:\", accuracy)\n"
      ]
    },
    {
      "cell_type": "code",
      "execution_count": 42,
      "metadata": {
        "colab": {
          "base_uri": "https://localhost:8080/"
        },
        "id": "zI0s3PZJzYFC",
        "outputId": "75382cbf-5970-423e-f9bd-ca20c29cae08"
      },
      "outputs": [
        {
          "name": "stdout",
          "output_type": "stream",
          "text": [
            "Accuracy: 0.7939698492462312\n",
            "Macro F1 Score: 0.26756794088193653\n",
            "\n",
            "Classification Report:\n",
            "               precision    recall  f1-score   support\n",
            "\n",
            "         0.0       0.85      0.82      0.84        50\n",
            "         1.0       0.84      0.98      0.90        91\n",
            "         2.0       0.53      0.62      0.57        26\n",
            "         3.0       0.00      0.00      0.00         1\n",
            "         4.0       0.00      0.00      0.00         1\n",
            "         5.0       0.25      0.12      0.17         8\n",
            "         6.0       1.00      1.00      1.00        11\n",
            "         7.0       0.00      0.00      0.00         2\n",
            "         8.0       0.00      0.00      0.00         5\n",
            "        11.0       0.00      0.00      0.00         1\n",
            "        13.0       0.00      0.00      0.00         1\n",
            "        14.0       0.00      0.00      0.00         1\n",
            "        15.0       0.00      0.00      0.00         1\n",
            "\n",
            "    accuracy                           0.79       199\n",
            "   macro avg       0.27      0.27      0.27       199\n",
            "weighted avg       0.73      0.79      0.76       199\n",
            "\n"
          ]
        },
        {
          "name": "stderr",
          "output_type": "stream",
          "text": [
            "/home/goatsadmin/.pyvenv/lib/python3.10/site-packages/sklearn/metrics/_classification.py:1469: UndefinedMetricWarning: Precision and F-score are ill-defined and being set to 0.0 in labels with no predicted samples. Use `zero_division` parameter to control this behavior.\n",
            "  _warn_prf(average, modifier, msg_start, len(result))\n",
            "/home/goatsadmin/.pyvenv/lib/python3.10/site-packages/sklearn/metrics/_classification.py:1469: UndefinedMetricWarning: Precision and F-score are ill-defined and being set to 0.0 in labels with no predicted samples. Use `zero_division` parameter to control this behavior.\n",
            "  _warn_prf(average, modifier, msg_start, len(result))\n",
            "/home/goatsadmin/.pyvenv/lib/python3.10/site-packages/sklearn/metrics/_classification.py:1469: UndefinedMetricWarning: Precision and F-score are ill-defined and being set to 0.0 in labels with no predicted samples. Use `zero_division` parameter to control this behavior.\n",
            "  _warn_prf(average, modifier, msg_start, len(result))\n"
          ]
        }
      ],
      "source": [
        "from sklearn.metrics import accuracy_score, f1_score, classification_report\n",
        "\n",
        "accuracy = accuracy_score(val_y, predictions)\n",
        "\n",
        "macro_f1 = f1_score(val_y, predictions, average='macro')\n",
        "\n",
        "print(\"Accuracy:\", accuracy)\n",
        "print(\"Macro F1 Score:\", macro_f1)\n",
        "classification_rep = classification_report(val_y, predictions)\n",
        "print(\"\\nClassification Report:\\n\", classification_rep)\n"
      ]
    },
    {
      "cell_type": "code",
      "execution_count": 46,
      "metadata": {
        "colab": {
          "base_uri": "https://localhost:8080/",
          "height": 245
        },
        "id": "G0yQh6pPAMKB",
        "outputId": "3d7c2cb2-fa37-4085-aec0-a3d59ecb7f46"
      },
      "outputs": [
        {
          "ename": "ValueError",
          "evalue": "Invalid classes inferred from unique values of `y`.  Expected: [ 0  1  2  3  4  5  6  7  8  9 10 11 12 13 14 15 16], got [ 0  1  2  3  4  5  6  7  8  9 10 12 13 14 15 16 17]",
          "output_type": "error",
          "traceback": [
            "\u001b[0;31m---------------------------------------------------------------------------\u001b[0m",
            "\u001b[0;31mValueError\u001b[0m                                Traceback (most recent call last)",
            "\u001b[1;32m/home/goatsadmin/Documents/repos/iith-coursework/cs/cs3390/assignments/03/project.ipynb Cell 17\u001b[0m line \u001b[0;36m8\n\u001b[1;32m      <a href='vscode-notebook-cell://ssh-remote%2Bgoatserver/home/goatsadmin/Documents/repos/iith-coursework/cs/cs3390/assignments/03/project.ipynb#X43sdnNjb2RlLXJlbW90ZQ%3D%3D?line=4'>5</a>\u001b[0m xgb_model \u001b[39m=\u001b[39m XGBClassifier()\n\u001b[1;32m      <a href='vscode-notebook-cell://ssh-remote%2Bgoatserver/home/goatsadmin/Documents/repos/iith-coursework/cs/cs3390/assignments/03/project.ipynb#X43sdnNjb2RlLXJlbW90ZQ%3D%3D?line=6'>7</a>\u001b[0m \u001b[39m# Train the model on the training data\u001b[39;00m\n\u001b[0;32m----> <a href='vscode-notebook-cell://ssh-remote%2Bgoatserver/home/goatsadmin/Documents/repos/iith-coursework/cs/cs3390/assignments/03/project.ipynb#X43sdnNjb2RlLXJlbW90ZQ%3D%3D?line=7'>8</a>\u001b[0m xgb_model\u001b[39m.\u001b[39;49mfit(train_x, np\u001b[39m.\u001b[39;49masarray(train_y, dtype\u001b[39m=\u001b[39;49m\u001b[39mint\u001b[39;49m))\n\u001b[1;32m     <a href='vscode-notebook-cell://ssh-remote%2Bgoatserver/home/goatsadmin/Documents/repos/iith-coursework/cs/cs3390/assignments/03/project.ipynb#X43sdnNjb2RlLXJlbW90ZQ%3D%3D?line=9'>10</a>\u001b[0m \u001b[39m# Make predictions on the validation data\u001b[39;00m\n\u001b[1;32m     <a href='vscode-notebook-cell://ssh-remote%2Bgoatserver/home/goatsadmin/Documents/repos/iith-coursework/cs/cs3390/assignments/03/project.ipynb#X43sdnNjb2RlLXJlbW90ZQ%3D%3D?line=10'>11</a>\u001b[0m xgb_predictions \u001b[39m=\u001b[39m xgb_model\u001b[39m.\u001b[39mpredict(val_x)\n",
            "File \u001b[0;32m~/.pyvenv/lib/python3.10/site-packages/xgboost/core.py:729\u001b[0m, in \u001b[0;36mrequire_keyword_args.<locals>.throw_if.<locals>.inner_f\u001b[0;34m(*args, **kwargs)\u001b[0m\n\u001b[1;32m    727\u001b[0m \u001b[39mfor\u001b[39;00m k, arg \u001b[39min\u001b[39;00m \u001b[39mzip\u001b[39m(sig\u001b[39m.\u001b[39mparameters, args):\n\u001b[1;32m    728\u001b[0m     kwargs[k] \u001b[39m=\u001b[39m arg\n\u001b[0;32m--> 729\u001b[0m \u001b[39mreturn\u001b[39;00m func(\u001b[39m*\u001b[39;49m\u001b[39m*\u001b[39;49mkwargs)\n",
            "File \u001b[0;32m~/.pyvenv/lib/python3.10/site-packages/xgboost/sklearn.py:1467\u001b[0m, in \u001b[0;36mXGBClassifier.fit\u001b[0;34m(self, X, y, sample_weight, base_margin, eval_set, eval_metric, early_stopping_rounds, verbose, xgb_model, sample_weight_eval_set, base_margin_eval_set, feature_weights, callbacks)\u001b[0m\n\u001b[1;32m   1462\u001b[0m     expected_classes \u001b[39m=\u001b[39m \u001b[39mself\u001b[39m\u001b[39m.\u001b[39mclasses_\n\u001b[1;32m   1463\u001b[0m \u001b[39mif\u001b[39;00m (\n\u001b[1;32m   1464\u001b[0m     classes\u001b[39m.\u001b[39mshape \u001b[39m!=\u001b[39m expected_classes\u001b[39m.\u001b[39mshape\n\u001b[1;32m   1465\u001b[0m     \u001b[39mor\u001b[39;00m \u001b[39mnot\u001b[39;00m (classes \u001b[39m==\u001b[39m expected_classes)\u001b[39m.\u001b[39mall()\n\u001b[1;32m   1466\u001b[0m ):\n\u001b[0;32m-> 1467\u001b[0m     \u001b[39mraise\u001b[39;00m \u001b[39mValueError\u001b[39;00m(\n\u001b[1;32m   1468\u001b[0m         \u001b[39mf\u001b[39m\u001b[39m\"\u001b[39m\u001b[39mInvalid classes inferred from unique values of `y`.  \u001b[39m\u001b[39m\"\u001b[39m\n\u001b[1;32m   1469\u001b[0m         \u001b[39mf\u001b[39m\u001b[39m\"\u001b[39m\u001b[39mExpected: \u001b[39m\u001b[39m{\u001b[39;00mexpected_classes\u001b[39m}\u001b[39;00m\u001b[39m, got \u001b[39m\u001b[39m{\u001b[39;00mclasses\u001b[39m}\u001b[39;00m\u001b[39m\"\u001b[39m\n\u001b[1;32m   1470\u001b[0m     )\n\u001b[1;32m   1472\u001b[0m params \u001b[39m=\u001b[39m \u001b[39mself\u001b[39m\u001b[39m.\u001b[39mget_xgb_params()\n\u001b[1;32m   1474\u001b[0m \u001b[39mif\u001b[39;00m \u001b[39mcallable\u001b[39m(\u001b[39mself\u001b[39m\u001b[39m.\u001b[39mobjective):\n",
            "\u001b[0;31mValueError\u001b[0m: Invalid classes inferred from unique values of `y`.  Expected: [ 0  1  2  3  4  5  6  7  8  9 10 11 12 13 14 15 16], got [ 0  1  2  3  4  5  6  7  8  9 10 12 13 14 15 16 17]"
          ]
        }
      ],
      "source": [
        "from xgboost import XGBClassifier\n",
        "from sklearn.metrics import accuracy_score, f1_score, classification_report\n",
        "\n",
        "# Initialize XGBoost model\n",
        "xgb_model = XGBClassifier()\n",
        "\n",
        "le = LabelEncoder()\n",
        "train_y = le.fit_transform(train_y)\n",
        "\n",
        "# Train the model on the training data\n",
        "xgb_model.fit(train_x, np.asarray(train_y, dtype=int))\n",
        "\n",
        "# Make predictions on the validation data\n",
        "xgb_predictions = xgb_model.predict(val_x)\n",
        "\n",
        "# Calculate accuracy and macro F1 score\n",
        "xgb_accuracy = accuracy_score(val_y, xgb_predictions)\n",
        "xgb_macro_f1 = f1_score(val_y, xgb_predictions, average='macro')\n",
        "\n",
        "# Display results\n",
        "print(\"XGBoost Accuracy:\", xgb_accuracy)\n",
        "print(\"XGBoost Macro F1 Score:\", xgb_macro_f1)\n",
        "\n",
        "# Classification report for more details\n",
        "xgb_classification_rep = classification_report(val_y, xgb_predictions)\n",
        "print(\"\\nXGBoost Classification Report:\\n\", xgb_classification_rep)\n"
      ]
    },
    {
      "cell_type": "code",
      "execution_count": null,
      "metadata": {
        "colab": {
          "base_uri": "https://localhost:8080/"
        },
        "id": "6qQTXuuLAMMa",
        "outputId": "457a73f1-827a-4a0b-c87e-4d5b8d578aff"
      },
      "outputs": [
        {
          "name": "stdout",
          "output_type": "stream",
          "text": [
            "Unique classes in train_y: [ 6  8  0  1  2  7  5 14 10  3  9 12 15 13  4 16 17]\n",
            "Unique classes in val_y: [ 1  8  2  0 15  3  6  7  5 11  4 13 14]\n"
          ]
        }
      ],
      "source": [
        "print(\"Unique classes in train_y:\", train_y.unique())\n",
        "print(\"Unique classes in val_y:\", val_y.unique())\n"
      ]
    },
    {
      "cell_type": "code",
      "execution_count": null,
      "metadata": {
        "colab": {
          "base_uri": "https://localhost:8080/"
        },
        "id": "8kfJaC-5AMO7",
        "outputId": "e99b88ae-82a9-4e1b-ac94-b02f539e94a2"
      },
      "outputs": [
        {
          "name": "stdout",
          "output_type": "stream",
          "text": [
            "hi\n",
            "hi\n",
            "hi\n",
            "hi\n",
            "hi\n",
            "hi\n",
            "hi\n",
            "hi\n",
            "hi\n",
            "hi\n",
            "hi\n",
            "hi\n",
            "hi\n",
            "hi\n",
            "hi\n",
            "hi\n"
          ]
        }
      ],
      "source": [
        "for i in df[\"Feature 7 (Discrete)\"]:\n",
        "  if(i >11):\n",
        "    print('hi')"
      ]
    },
    {
      "cell_type": "code",
      "execution_count": null,
      "metadata": {
        "colab": {
          "base_uri": "https://localhost:8080/"
        },
        "id": "5MWO9Us3BqsB",
        "outputId": "fac1e2b8-0b8c-426c-df0a-0bc0a0bef6d5"
      },
      "outputs": [
        {
          "name": "stdout",
          "output_type": "stream",
          "text": [
            "15\n",
            "15\n",
            "15\n"
          ]
        }
      ],
      "source": [
        "for i in train_y:\n",
        "  if( i == 15):\n",
        "    print(i)"
      ]
    },
    {
      "cell_type": "code",
      "execution_count": null,
      "metadata": {
        "id": "sz4TMduwGOuN"
      },
      "outputs": [],
      "source": []
    }
  ],
  "metadata": {
    "colab": {
      "provenance": []
    },
    "kernelspec": {
      "display_name": "Python 3",
      "name": "python3"
    },
    "language_info": {
      "codemirror_mode": {
        "name": "ipython",
        "version": 3
      },
      "file_extension": ".py",
      "mimetype": "text/x-python",
      "name": "python",
      "nbconvert_exporter": "python",
      "pygments_lexer": "ipython3",
      "version": "3.10.12"
    }
  },
  "nbformat": 4,
  "nbformat_minor": 0
}
