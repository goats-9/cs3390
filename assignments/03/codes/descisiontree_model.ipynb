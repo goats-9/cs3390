{
  "cells": [
    {
      "cell_type": "code",
      "execution_count": 16,
      "metadata": {
        "id": "ftGaqLZDbwIX"
      },
      "outputs": [],
      "source": [
        "import pandas as pd\n",
        "import numpy as np\n",
        "import matplotlib.pyplot as plt\n",
        "from sklearn.preprocessing import StandardScaler, LabelEncoder\n",
        "import xgboost"
      ]
    },
    {
      "cell_type": "code",
      "execution_count": 17,
      "metadata": {},
      "outputs": [],
      "source": [
        "from sklearn.experimental import enable_iterative_imputer\n",
        "from sklearn.impute import IterativeImputer\n",
        "\n",
        "# Assuming df is your DataFrame and 'Feature17' has missing values\n",
        "imputer = IterativeImputer(max_iter=100, tol=1e-3)\n",
        "\n",
        "df_train = pd.read_csv('../data/iith_foml_2023_train.csv')\n",
        "# # Fit the imputer model on the dataset to learn the data patterns\n",
        "# df_train.drop(columns=['Feature 16', 'Feature 17'], inplace=True)\n",
        "# imputer.fit(df_train)\n",
        "\n",
        "# # Transform the dataset to replace missing values\n",
        "# df_imputed = imputer.transform(df_train)\n",
        "\n",
        "# # Convert back to a DataFrame\n",
        "# df_imputed = pd.DataFrame(df_imputed, columns=df_train.columns)\n",
        "df_imputed = df_train"
      ]
    },
    {
      "cell_type": "code",
      "execution_count": 18,
      "metadata": {},
      "outputs": [],
      "source": [
        "X_train = df_imputed.iloc[:, :-1]\n",
        "y_train = df_imputed.iloc[:, -1]"
      ]
    },
    {
      "cell_type": "code",
      "execution_count": 19,
      "metadata": {
        "colab": {
          "base_uri": "https://localhost:8080/"
        },
        "id": "BdtdnmqO0WPZ",
        "outputId": "2c213020-ecde-4473-fe3e-83fffe5e02e4"
      },
      "outputs": [
        {
          "name": "stdout",
          "output_type": "stream",
          "text": [
            "Shape of train_x: (795, 24)\n",
            "Shape of val_x: (199, 24)\n",
            "Shape of train_y: (795,)\n",
            "Shape of val_y: (199,)\n"
          ]
        }
      ],
      "source": [
        "from sklearn.model_selection import train_test_split\n",
        "\n",
        "train_x, val_x, train_y, val_y = train_test_split(X_train, y_train, test_size=0.2)\n",
        "\n",
        "print(\"Shape of train_x:\", train_x.shape)\n",
        "print(\"Shape of val_x:\", val_x.shape)\n",
        "print(\"Shape of train_y:\", train_y.shape)\n",
        "print(\"Shape of val_y:\", val_y.shape)\n"
      ]
    },
    {
      "cell_type": "code",
      "execution_count": 20,
      "metadata": {
        "colab": {
          "base_uri": "https://localhost:8080/",
          "height": 245
        },
        "id": "G0yQh6pPAMKB",
        "outputId": "3d7c2cb2-fa37-4085-aec0-a3d59ecb7f46"
      },
      "outputs": [
        {
          "name": "stdout",
          "output_type": "stream",
          "text": [
            "Decision Tree Accuracy: 0.8241206030150754\n",
            "Decision Tree Macro F1 Score: 0.31257221039829736\n",
            "\n",
            "Decision Tree Classification Report:\n",
            "               precision    recall  f1-score   support\n",
            "\n",
            "           0       0.98      0.84      0.90        49\n",
            "           1       0.91      0.92      0.91       104\n",
            "           2       0.41      0.93      0.57        14\n",
            "           3       0.00      0.00      0.00         1\n",
            "           5       1.00      0.18      0.31        11\n",
            "           6       0.75      0.75      0.75        16\n",
            "           7       0.00      0.00      0.00         0\n",
            "           8       0.00      0.00      0.00         1\n",
            "          12       0.00      0.00      0.00         1\n",
            "          13       0.00      0.00      0.00         1\n",
            "          16       0.00      0.00      0.00         1\n",
            "\n",
            "    accuracy                           0.82       199\n",
            "   macro avg       0.37      0.33      0.31       199\n",
            "weighted avg       0.86      0.82      0.82       199\n",
            "\n"
          ]
        }
      ],
      "source": [
        "from sklearn.tree import DecisionTreeClassifier\n",
        "from sklearn.metrics import accuracy_score, f1_score, classification_report\n",
        "\n",
        "# Initialize Decision Tree model\n",
        "dt_model = DecisionTreeClassifier()\n",
        "\n",
        "# Train the model on the training data\n",
        "dt_model.fit(train_x, train_y)\n",
        "\n",
        "# Make predictions on the validation data\n",
        "dt_predictions = dt_model.predict(val_x)\n",
        "\n",
        "# Calculate accuracy and macro F1 score\n",
        "dt_accuracy = accuracy_score(val_y, dt_predictions)\n",
        "dt_macro_f1 = f1_score(val_y, dt_predictions, average='macro', zero_division=0.0)\n",
        "\n",
        "# Display results\n",
        "print(\"Decision Tree Accuracy:\", dt_accuracy)\n",
        "print(\"Decision Tree Macro F1 Score:\", dt_macro_f1)\n",
        "\n",
        "# Classification report for more details\n",
        "dt_classification_rep = classification_report(val_y, dt_predictions, zero_division=0.0)\n",
        "print(\"\\nDecision Tree Classification Report:\\n\", dt_classification_rep)\n"
      ]
    }
  ],
  "metadata": {
    "colab": {
      "provenance": []
    },
    "kernelspec": {
      "display_name": "Python 3",
      "name": "python3"
    },
    "language_info": {
      "codemirror_mode": {
        "name": "ipython",
        "version": 3
      },
      "file_extension": ".py",
      "mimetype": "text/x-python",
      "name": "python",
      "nbconvert_exporter": "python",
      "pygments_lexer": "ipython3",
      "version": "3.10.12"
    }
  },
  "nbformat": 4,
  "nbformat_minor": 0
}
