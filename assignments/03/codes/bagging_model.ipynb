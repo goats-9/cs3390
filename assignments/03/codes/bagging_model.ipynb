{
  "cells": [
    {
      "cell_type": "code",
      "execution_count": 102,
      "metadata": {
        "id": "ftGaqLZDbwIX"
      },
      "outputs": [],
      "source": [
        "import pandas as pd\n",
        "pd.options.display.max_rows = None\n",
        "pd.options.display.max_columns = None\n",
        "import numpy as np\n",
        "import matplotlib.pyplot as plt\n",
        "from sklearn.preprocessing import StandardScaler, LabelEncoder"
      ]
    },
    {
      "cell_type": "code",
      "execution_count": 103,
      "metadata": {},
      "outputs": [],
      "source": [
        "from sklearn.experimental import enable_iterative_imputer\n",
        "from sklearn.impute import IterativeImputer\n",
        "\n",
        "# Assuming df is your DataFrame and 'Feature17' has missing values\n",
        "imputer = IterativeImputer(max_iter=100, tol=1e-3)\n",
        "\n",
        "df_train = pd.read_csv('../data/iith_foml_2023_train.csv')\n",
        "# Fit the imputer model on the dataset to learn the data patterns\n",
        "df_train.drop(columns=['Feature 16', 'Feature 17'], inplace=True)\n",
        "imputer.fit(df_train)\n",
        "\n",
        "# Transform the dataset to replace missing values\n",
        "df_imputed = imputer.transform(df_train)\n",
        "\n",
        "# Convert back to a DataFrame\n",
        "df_imputed = pd.DataFrame(df_imputed, columns=df_train.columns)"
      ]
    },
    {
      "cell_type": "code",
      "execution_count": 104,
      "metadata": {},
      "outputs": [],
      "source": [
        "X_train = df_imputed.iloc[:, :-1]\n",
        "y_train = df_imputed.iloc[:, -1]\n",
        "scaler = StandardScaler()\n",
        "X_train = scaler.fit_transform(X_train)"
      ]
    },
    {
      "cell_type": "code",
      "execution_count": 105,
      "metadata": {},
      "outputs": [
        {
          "data": {
            "text/plain": [
              "Target Variable (Discrete)\n",
              "1.0     488\n",
              "0.0     249\n",
              "2.0     109\n",
              "6.0      70\n",
              "5.0      41\n",
              "8.0       7\n",
              "14.0      5\n",
              "7.0       5\n",
              "15.0      4\n",
              "4.0       3\n",
              "13.0      3\n",
              "3.0       3\n",
              "9.0       2\n",
              "12.0      1\n",
              "17.0      1\n",
              "11.0      1\n",
              "10.0      1\n",
              "16.0      1\n",
              "Name: count, dtype: int64"
            ]
          },
          "execution_count": 105,
          "metadata": {},
          "output_type": "execute_result"
        }
      ],
      "source": [
        "df_imputed['Target Variable (Discrete)'].value_counts()"
      ]
    },
    {
      "cell_type": "code",
      "execution_count": 106,
      "metadata": {},
      "outputs": [
        {
          "data": {
            "text/html": [
              "<div>\n",
              "<style scoped>\n",
              "    .dataframe tbody tr th:only-of-type {\n",
              "        vertical-align: middle;\n",
              "    }\n",
              "\n",
              "    .dataframe tbody tr th {\n",
              "        vertical-align: top;\n",
              "    }\n",
              "\n",
              "    .dataframe thead th {\n",
              "        text-align: right;\n",
              "    }\n",
              "</style>\n",
              "<table border=\"1\" class=\"dataframe\">\n",
              "  <thead>\n",
              "    <tr style=\"text-align: right;\">\n",
              "      <th></th>\n",
              "      <th>Feature 1 (Discrete)</th>\n",
              "      <th>Feature 2 (Discrete)</th>\n",
              "      <th>Feature 3 (Discrete)</th>\n",
              "      <th>Feature 4 (Discrete)</th>\n",
              "      <th>Feature 5 (Discrete)</th>\n",
              "      <th>Feature 6 (Discrete)</th>\n",
              "      <th>Feature 7 (Discrete)</th>\n",
              "      <th>Feature 8 (Discrete)</th>\n",
              "      <th>Feature 9</th>\n",
              "      <th>Feature 10</th>\n",
              "      <th>Feature 11</th>\n",
              "      <th>Feature 12</th>\n",
              "      <th>Feature 13</th>\n",
              "      <th>Feature 14</th>\n",
              "      <th>Feature 15</th>\n",
              "      <th>Feature 18</th>\n",
              "      <th>Feature 19 (Discrete)</th>\n",
              "      <th>Feature 20 (Discrete)</th>\n",
              "      <th>Feature 21 (Discrete)</th>\n",
              "      <th>Feature 22 (Discrete)</th>\n",
              "      <th>Feature 23 (Discrete)</th>\n",
              "      <th>Feature 24</th>\n",
              "      <th>Target Variable (Discrete)</th>\n",
              "    </tr>\n",
              "  </thead>\n",
              "  <tbody>\n",
              "    <tr>\n",
              "      <th>11</th>\n",
              "      <td>-0.353006</td>\n",
              "      <td>1.86527</td>\n",
              "      <td>-0.952298</td>\n",
              "      <td>0.419034</td>\n",
              "      <td>0.141934</td>\n",
              "      <td>0.560641</td>\n",
              "      <td>-0.408464</td>\n",
              "      <td>-0.419865</td>\n",
              "      <td>0.898656</td>\n",
              "      <td>1.286632</td>\n",
              "      <td>1.028634</td>\n",
              "      <td>-0.182683</td>\n",
              "      <td>-1.193573</td>\n",
              "      <td>1.193901</td>\n",
              "      <td>0.491325</td>\n",
              "      <td>-0.311962</td>\n",
              "      <td>-0.609359</td>\n",
              "      <td>0.970641</td>\n",
              "      <td>-1.001086</td>\n",
              "      <td>-0.93296</td>\n",
              "      <td>-0.354493</td>\n",
              "      <td>0.491242</td>\n",
              "      <td>12.0</td>\n",
              "    </tr>\n",
              "  </tbody>\n",
              "</table>\n",
              "</div>"
            ],
            "text/plain": [
              "    Feature 1 (Discrete)  Feature 2 (Discrete)  Feature 3 (Discrete)  Feature 4 (Discrete)  Feature 5 (Discrete)  Feature 6 (Discrete)  Feature 7 (Discrete)  Feature 8 (Discrete)  Feature 9  Feature 10  Feature 11  Feature 12  Feature 13  Feature 14  Feature 15  Feature 18  Feature 19 (Discrete)  Feature 20 (Discrete)  Feature 21 (Discrete)  Feature 22 (Discrete)  Feature 23 (Discrete)  Feature 24  Target Variable (Discrete)\n",
              "11             -0.353006               1.86527             -0.952298              0.419034              0.141934              0.560641             -0.408464             -0.419865   0.898656    1.286632    1.028634   -0.182683   -1.193573    1.193901    0.491325   -0.311962              -0.609359               0.970641              -1.001086               -0.93296              -0.354493    0.491242                        12.0"
            ]
          },
          "execution_count": 106,
          "metadata": {},
          "output_type": "execute_result"
        }
      ],
      "source": [
        "X_train_pd = pd.DataFrame(X_train, columns=df_train.columns[:-1])\n",
        "X_train_pd['Target Variable (Discrete)'] = y_train\n",
        "X_train_pd.loc[X_train_pd['Target Variable (Discrete)'] == 12.0]"
      ]
    },
    {
      "cell_type": "code",
      "execution_count": 107,
      "metadata": {},
      "outputs": [
        {
          "data": {
            "text/html": [
              "<div>\n",
              "<style scoped>\n",
              "    .dataframe tbody tr th:only-of-type {\n",
              "        vertical-align: middle;\n",
              "    }\n",
              "\n",
              "    .dataframe tbody tr th {\n",
              "        vertical-align: top;\n",
              "    }\n",
              "\n",
              "    .dataframe thead th {\n",
              "        text-align: right;\n",
              "    }\n",
              "</style>\n",
              "<table border=\"1\" class=\"dataframe\">\n",
              "  <thead>\n",
              "    <tr style=\"text-align: right;\">\n",
              "      <th></th>\n",
              "      <th>Feature 1 (Discrete)</th>\n",
              "      <th>Feature 2 (Discrete)</th>\n",
              "      <th>Feature 3 (Discrete)</th>\n",
              "      <th>Feature 4 (Discrete)</th>\n",
              "      <th>Feature 5 (Discrete)</th>\n",
              "      <th>Feature 6 (Discrete)</th>\n",
              "      <th>Feature 7 (Discrete)</th>\n",
              "      <th>Feature 8 (Discrete)</th>\n",
              "      <th>Feature 9</th>\n",
              "      <th>Feature 10</th>\n",
              "      <th>Feature 11</th>\n",
              "      <th>Feature 12</th>\n",
              "      <th>Feature 13</th>\n",
              "      <th>Feature 14</th>\n",
              "      <th>Feature 15</th>\n",
              "      <th>Feature 18</th>\n",
              "      <th>Feature 19 (Discrete)</th>\n",
              "      <th>Feature 20 (Discrete)</th>\n",
              "      <th>Feature 21 (Discrete)</th>\n",
              "      <th>Feature 22 (Discrete)</th>\n",
              "      <th>Feature 23 (Discrete)</th>\n",
              "      <th>Feature 24</th>\n",
              "      <th>Target Variable (Discrete)</th>\n",
              "    </tr>\n",
              "  </thead>\n",
              "  <tbody>\n",
              "    <tr>\n",
              "      <th>0</th>\n",
              "      <td>1.715422</td>\n",
              "      <td>0.807006</td>\n",
              "      <td>-0.896040</td>\n",
              "      <td>0.155038</td>\n",
              "      <td>0.141934</td>\n",
              "      <td>0.560641</td>\n",
              "      <td>-0.408464</td>\n",
              "      <td>-0.419865</td>\n",
              "      <td>1.921298</td>\n",
              "      <td>1.286202</td>\n",
              "      <td>1.028676</td>\n",
              "      <td>-0.181829</td>\n",
              "      <td>-1.191682</td>\n",
              "      <td>1.193631</td>\n",
              "      <td>1.349099</td>\n",
              "      <td>-0.311567</td>\n",
              "      <td>0.110740</td>\n",
              "      <td>0.407409</td>\n",
              "      <td>-0.581928</td>\n",
              "      <td>-0.378201</td>\n",
              "      <td>1.718423</td>\n",
              "      <td>0.502981</td>\n",
              "      <td>1.0</td>\n",
              "    </tr>\n",
              "    <tr>\n",
              "      <th>1</th>\n",
              "      <td>0.495074</td>\n",
              "      <td>-0.780390</td>\n",
              "      <td>0.707307</td>\n",
              "      <td>1.343020</td>\n",
              "      <td>-0.612517</td>\n",
              "      <td>0.560641</td>\n",
              "      <td>-0.408464</td>\n",
              "      <td>-0.419865</td>\n",
              "      <td>-0.860103</td>\n",
              "      <td>1.286456</td>\n",
              "      <td>1.028530</td>\n",
              "      <td>-0.182575</td>\n",
              "      <td>-1.195033</td>\n",
              "      <td>1.193720</td>\n",
              "      <td>0.773381</td>\n",
              "      <td>-0.311963</td>\n",
              "      <td>-0.819849</td>\n",
              "      <td>-0.625184</td>\n",
              "      <td>-1.001086</td>\n",
              "      <td>-0.905222</td>\n",
              "      <td>0.490392</td>\n",
              "      <td>-1.530524</td>\n",
              "      <td>1.0</td>\n",
              "    </tr>\n",
              "  </tbody>\n",
              "</table>\n",
              "</div>"
            ],
            "text/plain": [
              "   Feature 1 (Discrete)  Feature 2 (Discrete)  Feature 3 (Discrete)  Feature 4 (Discrete)  Feature 5 (Discrete)  Feature 6 (Discrete)  Feature 7 (Discrete)  Feature 8 (Discrete)  Feature 9  Feature 10  Feature 11  Feature 12  Feature 13  Feature 14  Feature 15  Feature 18  Feature 19 (Discrete)  Feature 20 (Discrete)  Feature 21 (Discrete)  Feature 22 (Discrete)  Feature 23 (Discrete)  Feature 24  Target Variable (Discrete)\n",
              "0              1.715422              0.807006             -0.896040              0.155038              0.141934              0.560641             -0.408464             -0.419865   1.921298    1.286202    1.028676   -0.181829   -1.191682    1.193631    1.349099   -0.311567               0.110740               0.407409              -0.581928              -0.378201               1.718423    0.502981                         1.0\n",
              "1              0.495074             -0.780390              0.707307              1.343020             -0.612517              0.560641             -0.408464             -0.419865  -0.860103    1.286456    1.028530   -0.182575   -1.195033    1.193720    0.773381   -0.311963              -0.819849              -0.625184              -1.001086              -0.905222               0.490392   -1.530524                         1.0"
            ]
          },
          "execution_count": 107,
          "metadata": {},
          "output_type": "execute_result"
        }
      ],
      "source": [
        "X_train_pd.loc[X_train_pd['Target Variable (Discrete)'] == 1.0].head(2)"
      ]
    },
    {
      "cell_type": "code",
      "execution_count": 108,
      "metadata": {
        "colab": {
          "base_uri": "https://localhost:8080/"
        },
        "id": "BdtdnmqO0WPZ",
        "outputId": "2c213020-ecde-4473-fe3e-83fffe5e02e4"
      },
      "outputs": [
        {
          "name": "stdout",
          "output_type": "stream",
          "text": [
            "Shape of train_x: (795, 22)\n",
            "Shape of val_x: (199, 22)\n",
            "Shape of train_y: (795,)\n",
            "Shape of val_y: (199,)\n"
          ]
        }
      ],
      "source": [
        "from sklearn.model_selection import train_test_split\n",
        "\n",
        "train_x, val_x, train_y, val_y = train_test_split(X_train, y_train, test_size=0.2, random_state=42)\n",
        "\n",
        "print(\"Shape of train_x:\", train_x.shape)\n",
        "print(\"Shape of val_x:\", val_x.shape)\n",
        "print(\"Shape of train_y:\", train_y.shape)\n",
        "print(\"Shape of val_y:\", val_y.shape)\n"
      ]
    },
    {
      "cell_type": "code",
      "execution_count": 109,
      "metadata": {
        "colab": {
          "base_uri": "https://localhost:8080/",
          "height": 245
        },
        "id": "G0yQh6pPAMKB",
        "outputId": "3d7c2cb2-fa37-4085-aec0-a3d59ecb7f46"
      },
      "outputs": [
        {
          "name": "stdout",
          "output_type": "stream",
          "text": [
            "Bagging Accuracy: 0.864321608040201\n",
            "Bagging Macro F1 Score: 0.46113991011643485\n",
            "\n",
            "Bagging Classification Report:\n",
            "               precision    recall  f1-score   support\n",
            "\n",
            "         0.0       0.89      0.94      0.91        50\n",
            "         1.0       0.93      0.98      0.95        91\n",
            "         2.0       0.65      0.77      0.70        26\n",
            "         3.0       0.00      0.00      0.00         1\n",
            "         4.0       1.00      1.00      1.00         1\n",
            "         5.0       0.50      0.38      0.43         8\n",
            "         6.0       1.00      1.00      1.00        11\n",
            "         7.0       0.00      0.00      0.00         2\n",
            "         8.0       0.00      0.00      0.00         5\n",
            "        11.0       0.00      0.00      0.00         1\n",
            "        13.0       0.00      0.00      0.00         1\n",
            "        14.0       1.00      1.00      1.00         1\n",
            "        15.0       0.00      0.00      0.00         1\n",
            "\n",
            "    accuracy                           0.86       199\n",
            "   macro avg       0.46      0.47      0.46       199\n",
            "weighted avg       0.82      0.86      0.84       199\n",
            "\n"
          ]
        }
      ],
      "source": [
        "from sklearn.ensemble import BaggingClassifier\n",
        "from sklearn.metrics import accuracy_score, f1_score, classification_report\n",
        "\n",
        "# Initialize Adaboost model\n",
        "model = BaggingClassifier(random_state=42)\n",
        "\n",
        "# le = LabelEncoder()\n",
        "# train_y = le.fit_transform(train_y)\n",
        "\n",
        "# Train the model on the training data\n",
        "model.fit(train_x, train_y)\n",
        "\n",
        "# Make predictions on the validation data\n",
        "predictions = model.predict(val_x)\n",
        "\n",
        "# Calculate accuracy and macro F1 score\n",
        "accuracy = accuracy_score(val_y, predictions)\n",
        "macro_f1 = f1_score(val_y, predictions, average='macro', zero_division=0.0)\n",
        "\n",
        "# Display results\n",
        "print(\"Bagging Accuracy:\", accuracy)\n",
        "print(\"Bagging Macro F1 Score:\", macro_f1)\n",
        "\n",
        "# Classification report for more details\n",
        "classification_rep = classification_report(val_y, predictions, zero_division=0.0)\n",
        "print(\"\\nBagging Classification Report:\\n\", classification_rep)"
      ]
    }
  ],
  "metadata": {
    "colab": {
      "provenance": []
    },
    "kernelspec": {
      "display_name": "Python 3",
      "name": "python3"
    },
    "language_info": {
      "codemirror_mode": {
        "name": "ipython",
        "version": 3
      },
      "file_extension": ".py",
      "mimetype": "text/x-python",
      "name": "python",
      "nbconvert_exporter": "python",
      "pygments_lexer": "ipython3",
      "version": "3.11.4"
    }
  },
  "nbformat": 4,
  "nbformat_minor": 0
}
