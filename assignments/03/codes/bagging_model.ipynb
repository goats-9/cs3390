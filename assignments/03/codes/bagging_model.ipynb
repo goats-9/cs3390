{
  "cells": [
    {
      "cell_type": "code",
      "execution_count": 138,
      "metadata": {
        "id": "ftGaqLZDbwIX"
      },
      "outputs": [],
      "source": [
        "import pandas as pd\n",
        "pd.options.display.max_rows = None\n",
        "pd.options.display.max_columns = None\n",
        "import numpy as np\n",
        "import matplotlib.pyplot as plt\n",
        "from sklearn.preprocessing import StandardScaler, LabelEncoder"
      ]
    },
    {
      "cell_type": "code",
      "execution_count": 139,
      "metadata": {},
      "outputs": [],
      "source": [
        "from sklearn.experimental import enable_iterative_imputer\n",
        "from sklearn.impute import IterativeImputer\n",
        "\n",
        "imputer = IterativeImputer(max_iter=100, tol=1e-3)\n",
        "\n",
        "df_train = pd.read_csv('../data/iith_foml_2023_train.csv')\n",
        "# Fit the imputer model on the dataset to learn the data patterns\n",
        "# df_train['Feature 16'].fillna(df_train['Feature 16'].mean(), inplace=True)\n",
        "# df_train['Feature 17'].fillna(df_train['Feature 17'].mean(), inplace=True)\n",
        "df_train.drop(columns=['Feature 16', 'Feature 17'], inplace=True)\n",
        "imputer.fit(df_train)\n",
        "\n",
        "# Transform the dataset to replace missing values\n",
        "df_imputed = imputer.transform(df_train)\n",
        "\n",
        "# Convert back to a DataFrame\n",
        "df_imputed = pd.DataFrame(df_imputed, columns=df_train.columns)"
      ]
    },
    {
      "cell_type": "code",
      "execution_count": 140,
      "metadata": {},
      "outputs": [],
      "source": [
        "X_train = df_imputed.iloc[:, :-1]\n",
        "y_train = df_imputed.iloc[:, -1]\n",
        "scaler = StandardScaler()\n",
        "X_train = scaler.fit_transform(X_train)"
      ]
    },
    {
      "cell_type": "code",
      "execution_count": 141,
      "metadata": {
        "colab": {
          "base_uri": "https://localhost:8080/",
          "height": 245
        },
        "id": "G0yQh6pPAMKB",
        "outputId": "3d7c2cb2-fa37-4085-aec0-a3d59ecb7f46"
      },
      "outputs": [
        {
          "name": "stderr",
          "output_type": "stream",
          "text": [
            "c:\\Python311\\Lib\\site-packages\\sklearn\\model_selection\\_split.py:737: UserWarning: The least populated class in y has only 1 members, which is less than n_splits=5.\n",
            "  warnings.warn(\n"
          ]
        },
        {
          "name": "stdout",
          "output_type": "stream",
          "text": [
            "[0.43648038 0.46014573 0.38243286 0.45691877 0.51701506]\n"
          ]
        }
      ],
      "source": [
        "from sklearn.ensemble import BaggingClassifier, ExtraTreesClassifier\n",
        "from sklearn.model_selection import cross_val_score\n",
        "\n",
        "# Initialize model\n",
        "model = BaggingClassifier(estimator=ExtraTreesClassifier(n_estimators=200, random_state=42), random_state=42)\n",
        "\n",
        "# Train the model on the training data\n",
        "print(cross_val_score(model, X_train, y_train, scoring='f1_macro'))"
      ]
    }
  ],
  "metadata": {
    "colab": {
      "provenance": []
    },
    "kernelspec": {
      "display_name": "Python 3",
      "name": "python3"
    },
    "language_info": {
      "codemirror_mode": {
        "name": "ipython",
        "version": 3
      },
      "file_extension": ".py",
      "mimetype": "text/x-python",
      "name": "python",
      "nbconvert_exporter": "python",
      "pygments_lexer": "ipython3",
      "version": "3.11.4"
    }
  },
  "nbformat": 4,
  "nbformat_minor": 0
}
