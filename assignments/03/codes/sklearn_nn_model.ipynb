{
  "cells": [
    {
      "cell_type": "code",
      "execution_count": 86,
      "metadata": {
        "id": "ftGaqLZDbwIX"
      },
      "outputs": [],
      "source": [
        "import pandas as pd\n",
        "import numpy as np\n",
        "import matplotlib.pyplot as plt\n",
        "from sklearn.preprocessing import StandardScaler"
      ]
    },
    {
      "cell_type": "code",
      "execution_count": 87,
      "metadata": {},
      "outputs": [],
      "source": [
        "from sklearn.experimental import enable_iterative_imputer\n",
        "from sklearn.impute import IterativeImputer\n",
        "\n",
        "# Assuming df is your DataFrame and 'Feature17' has missing values\n",
        "imputer = IterativeImputer(max_iter=100, tol=1e-3)\n",
        "\n",
        "df_train = pd.read_csv('../data/iith_foml_2023_train.csv')\n",
        "# Fit the imputer model on the dataset to learn the data patterns\n",
        "df_train.drop(columns=['Feature 16', 'Feature 17'], inplace=True)\n",
        "imputer.fit(df_train)\n",
        "\n",
        "# Transform the dataset to replace missing values\n",
        "df_imputed = imputer.transform(df_train)\n",
        "\n",
        "# Convert back to a DataFrame\n",
        "df_imputed = pd.DataFrame(df_imputed, columns=df_train.columns)"
      ]
    },
    {
      "cell_type": "code",
      "execution_count": 88,
      "metadata": {},
      "outputs": [],
      "source": [
        "X_train = df_imputed.iloc[:, :-1]\n",
        "y_train = df_imputed.iloc[:, -1]\n",
        "scaler = StandardScaler()\n",
        "X_train_scaled = scaler.fit_transform(X_train)"
      ]
    },
    {
      "cell_type": "code",
      "execution_count": 89,
      "metadata": {
        "colab": {
          "base_uri": "https://localhost:8080/"
        },
        "id": "BdtdnmqO0WPZ",
        "outputId": "2c213020-ecde-4473-fe3e-83fffe5e02e4"
      },
      "outputs": [
        {
          "name": "stdout",
          "output_type": "stream",
          "text": [
            "Shape of train_x: (795, 22)\n",
            "Shape of val_x: (199, 22)\n",
            "Shape of train_y: (795,)\n",
            "Shape of val_y: (199,)\n"
          ]
        }
      ],
      "source": [
        "from sklearn.model_selection import train_test_split\n",
        "\n",
        "train_x, val_x, train_y, val_y = train_test_split(X_train_scaled, y_train, test_size=0.2, random_state=1337)\n",
        "\n",
        "print(\"Shape of train_x:\", train_x.shape)\n",
        "print(\"Shape of val_x:\", val_x.shape)\n",
        "print(\"Shape of train_y:\", train_y.shape)\n",
        "print(\"Shape of val_y:\", val_y.shape)\n"
      ]
    },
    {
      "cell_type": "code",
      "execution_count": 90,
      "metadata": {
        "colab": {
          "base_uri": "https://localhost:8080/",
          "height": 245
        },
        "id": "G0yQh6pPAMKB",
        "outputId": "3d7c2cb2-fa37-4085-aec0-a3d59ecb7f46"
      },
      "outputs": [
        {
          "name": "stdout",
          "output_type": "stream",
          "text": [
            "MLP Accuracy: 0.8793969849246231\n",
            "MLP Macro F1 Score: 0.36083852839303876\n",
            "\n",
            "MLP Classification Report:\n",
            "               precision    recall  f1-score   support\n",
            "\n",
            "         0.0       0.96      0.90      0.93        49\n",
            "         1.0       0.92      0.96      0.94       104\n",
            "         2.0       0.67      0.71      0.69        14\n",
            "         3.0       0.00      0.00      0.00         1\n",
            "         5.0       0.56      0.45      0.50        11\n",
            "         6.0       0.84      1.00      0.91        16\n",
            "         8.0       0.00      0.00      0.00         1\n",
            "        12.0       0.00      0.00      0.00         1\n",
            "        13.0       0.00      0.00      0.00         1\n",
            "        15.0       0.00      0.00      0.00         0\n",
            "        16.0       0.00      0.00      0.00         1\n",
            "\n",
            "    accuracy                           0.88       199\n",
            "   macro avg       0.36      0.37      0.36       199\n",
            "weighted avg       0.86      0.88      0.87       199\n",
            "\n"
          ]
        }
      ],
      "source": [
        "from sklearn.neural_network import MLPClassifier\n",
        "from sklearn.metrics import accuracy_score, f1_score, classification_report\n",
        "\n",
        "# Initialize mlp model\n",
        "mlp_model = MLPClassifier(hidden_layer_sizes=[16, 16], max_iter=5000, activation='logistic')\n",
        "\n",
        "# Train the model on the training data\n",
        "mlp_model.fit(train_x, train_y)\n",
        "\n",
        "# Make predictions on the validation data\n",
        "mlp_predictions = mlp_model.predict(val_x)\n",
        "\n",
        "# Calculate accuracy and macro F1 score\n",
        "mlp_accuracy = accuracy_score(val_y, mlp_predictions)\n",
        "mlp_macro_f1 = f1_score(val_y, mlp_predictions, average='macro', zero_division=0.0)\n",
        "\n",
        "# Display results\n",
        "print(\"MLP Accuracy:\", mlp_accuracy)\n",
        "print(\"MLP Macro F1 Score:\", mlp_macro_f1)\n",
        "\n",
        "# Classification report for more details\n",
        "mlp_classification_rep = classification_report(val_y, mlp_predictions, zero_division=0.0)\n",
        "print(\"\\nMLP Classification Report:\\n\", mlp_classification_rep)"
      ]
    }
  ],
  "metadata": {
    "colab": {
      "provenance": []
    },
    "kernelspec": {
      "display_name": "Python 3",
      "name": "python3"
    },
    "language_info": {
      "codemirror_mode": {
        "name": "ipython",
        "version": 3
      },
      "file_extension": ".py",
      "mimetype": "text/x-python",
      "name": "python",
      "nbconvert_exporter": "python",
      "pygments_lexer": "ipython3",
      "version": "3.10.12"
    }
  },
  "nbformat": 4,
  "nbformat_minor": 0
}
