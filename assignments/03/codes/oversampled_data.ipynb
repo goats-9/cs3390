{
  "cells": [
    {
      "cell_type": "code",
      "execution_count": 955,
      "metadata": {},
      "outputs": [],
      "source": [
        "import pandas as pd\n",
        "# pd.options.display.max_rows = None\n",
        "pd.options.display.max_columns = None\n",
        "import numpy as np\n",
        "import matplotlib.pyplot as plt\n",
        "from sklearn.preprocessing import StandardScaler, LabelEncoder\n",
        "from sklearn.model_selection import train_test_split"
      ]
    },
    {
      "cell_type": "code",
      "execution_count": 956,
      "metadata": {},
      "outputs": [],
      "source": [
        "df_train = pd.read_csv('../data/iith_foml_2023_train.csv')\n",
        "df_corr = df_train.corr()\n",
        "drop_cols = ['Feature 3 (Discrete)', 'Feature 10', 'Feature 14', 'Feature 16', 'Feature 17', 'Feature 23 (Discrete)']\n",
        "# display(df_corr.where(df_corr > 0.75))\n",
        "df_train.drop(columns=drop_cols, inplace=True)\n",
        "# for column in df_train.columns:\n",
        "#     if df_train[column].isna().any():\n",
        "#         mean_value = df_train[column].mode()[0]\n",
        "#         df_train[column].fillna(mean_value, inplace=True)\n",
        "df_train.fillna(1e9, inplace=True)\n"
      ]
    },
    {
      "cell_type": "code",
      "execution_count": 957,
      "metadata": {},
      "outputs": [
        {
          "name": "stdout",
          "output_type": "stream",
          "text": [
            "Target Variable (Discrete)\n",
            "1     488\n",
            "0     249\n",
            "2     109\n",
            "6      70\n",
            "5      41\n",
            "8       7\n",
            "14      5\n",
            "7       5\n",
            "15      4\n",
            "4       3\n",
            "13      3\n",
            "3       3\n",
            "9       2\n",
            "12      1\n",
            "17      1\n",
            "11      1\n",
            "10      1\n",
            "16      1\n",
            "Name: count, dtype: int64\n"
          ]
        }
      ],
      "source": [
        "class_counts = df_train[\"Target Variable (Discrete)\"].value_counts()\n",
        "print(class_counts)\n"
      ]
    },
    {
      "cell_type": "code",
      "execution_count": 958,
      "metadata": {},
      "outputs": [
        {
          "name": "stdout",
          "output_type": "stream",
          "text": [
            "Target Variable (Discrete)\n",
            "5.0     40\n",
            "8.0     40\n",
            "14.0    40\n",
            "7.0     40\n",
            "15.0    40\n",
            "4.0     40\n",
            "13.0    40\n",
            "3.0     40\n",
            "9.0     40\n",
            "12.0    40\n",
            "17.0    40\n",
            "11.0    40\n",
            "10.0    40\n",
            "16.0    40\n",
            "Name: count, dtype: int64\n"
          ]
        }
      ],
      "source": [
        "import numpy as np\n",
        "import pandas as pd\n",
        "\n",
        "# Assuming class_counts is defined somewhere in your code\n",
        "minority_classes = class_counts[class_counts < 50].index\n",
        "\n",
        "df_oversampled = pd.DataFrame()\n",
        "\n",
        "for cls in minority_classes:\n",
        "    minority_instances = df_train[df_train[\"Target Variable (Discrete)\"] == cls]\n",
        "    oversampled_instances = minority_instances.sample(n=40, replace=True, random_state=42)\n",
        "\n",
        "    # Add Gaussian noise\n",
        "    noise = np.random.normal(loc=0, scale=0.1, size=oversampled_instances.shape)\n",
        "    oversampled_instances_with_noise = oversampled_instances + noise\n",
        "\n",
        "\n",
        "    df_oversampled = pd.concat([df_oversampled, oversampled_instances_with_noise])\n",
        "    \n",
        "df_oversampled[\"Target Variable (Discrete)\"] = df_oversampled[\"Target Variable (Discrete)\"].round()\n",
        "print(df_oversampled[\"Target Variable (Discrete)\"].value_counts())\n"
      ]
    },
    {
      "cell_type": "code",
      "execution_count": 959,
      "metadata": {},
      "outputs": [
        {
          "name": "stdout",
          "output_type": "stream",
          "text": [
            "Target Variable (Discrete)\n",
            "1.0     488\n",
            "0.0     249\n",
            "2.0     109\n",
            "6.0      70\n",
            "3.0      40\n",
            "10.0     40\n",
            "11.0     40\n",
            "17.0     40\n",
            "12.0     40\n",
            "9.0      40\n",
            "4.0      40\n",
            "13.0     40\n",
            "15.0     40\n",
            "7.0      40\n",
            "14.0     40\n",
            "8.0      40\n",
            "5.0      40\n",
            "16.0     40\n",
            "Name: count, dtype: int64\n"
          ]
        }
      ],
      "source": [
        "# Assuming df_train is your original dataframe\n",
        "from imblearn.over_sampling import SMOTE\n",
        "\n",
        "# Separate majority and minority classes in df_train\n",
        "majority_instances = df_train[df_train[\"Target Variable (Discrete)\"].isin(minority_classes) == False]\n",
        "\n",
        "majority_instances = df_train[df_train[\"Target Variable (Discrete)\"].isin(minority_classes) == False]\n",
        "df_train_updated = pd.concat([majority_instances, df_oversampled], ignore_index=True)\n",
        "\n",
        "\n",
        "# Check the distribution of classes in the updated DataFrame\n",
        "print(df_train_updated[\"Target Variable (Discrete)\"].value_counts())\n"
      ]
    },
    {
      "cell_type": "code",
      "execution_count": 960,
      "metadata": {},
      "outputs": [],
      "source": [
        "X = df_train_updated.iloc[:, :-1]\n",
        "y = df_train_updated.iloc[:, -1]\n",
        "scaler = StandardScaler()\n",
        "X = scaler.fit_transform(X)"
      ]
    },
    {
      "cell_type": "code",
      "execution_count": 961,
      "metadata": {},
      "outputs": [],
      "source": [
        "smote = SMOTE(sampling_strategy='auto', random_state=42)\n",
        "X_train_resampled, y_train_resampled = smote.fit_resample(X, y)"
      ]
    },
    {
      "cell_type": "code",
      "execution_count": 962,
      "metadata": {},
      "outputs": [],
      "source": [
        "X_train, val_x, y_train, val_y = train_test_split(X_train_resampled, y_train_resampled, test_size=0.2, random_state=42)"
      ]
    },
    {
      "cell_type": "code",
      "execution_count": 963,
      "metadata": {},
      "outputs": [
        {
          "name": "stdout",
          "output_type": "stream",
          "text": [
            "0\n"
          ]
        }
      ],
      "source": [
        "print(y_train.isnull().sum())"
      ]
    },
    {
      "cell_type": "code",
      "execution_count": 964,
      "metadata": {},
      "outputs": [],
      "source": [
        "# from imblearn.over_sampling import RandomOverSampler\n",
        "\n",
        "# ros = RandomOverSampler(random_state=42)\n",
        "# X_train, y_train = ros.fit_resample(X, y)\n",
        "\n",
        "\n",
        "# X_train, val_x, y_train, val_y = train_test_split(X_train, y_train, test_size=0.2, random_state=42)"
      ]
    },
    {
      "cell_type": "code",
      "execution_count": 965,
      "metadata": {
        "colab": {
          "base_uri": "https://localhost:8080/",
          "height": 245
        },
        "id": "G0yQh6pPAMKB",
        "outputId": "3d7c2cb2-fa37-4085-aec0-a3d59ecb7f46"
      },
      "outputs": [
        {
          "name": "stdout",
          "output_type": "stream",
          "text": [
            "[0.98031662 0.9861195  0.97537417 0.98415434 0.97785319]\n"
          ]
        },
        {
          "data": {
            "text/html": [
              "<style>#sk-container-id-66 {color: black;}#sk-container-id-66 pre{padding: 0;}#sk-container-id-66 div.sk-toggleable {background-color: white;}#sk-container-id-66 label.sk-toggleable__label {cursor: pointer;display: block;width: 100%;margin-bottom: 0;padding: 0.3em;box-sizing: border-box;text-align: center;}#sk-container-id-66 label.sk-toggleable__label-arrow:before {content: \"▸\";float: left;margin-right: 0.25em;color: #696969;}#sk-container-id-66 label.sk-toggleable__label-arrow:hover:before {color: black;}#sk-container-id-66 div.sk-estimator:hover label.sk-toggleable__label-arrow:before {color: black;}#sk-container-id-66 div.sk-toggleable__content {max-height: 0;max-width: 0;overflow: hidden;text-align: left;background-color: #f0f8ff;}#sk-container-id-66 div.sk-toggleable__content pre {margin: 0.2em;color: black;border-radius: 0.25em;background-color: #f0f8ff;}#sk-container-id-66 input.sk-toggleable__control:checked~div.sk-toggleable__content {max-height: 200px;max-width: 100%;overflow: auto;}#sk-container-id-66 input.sk-toggleable__control:checked~label.sk-toggleable__label-arrow:before {content: \"▾\";}#sk-container-id-66 div.sk-estimator input.sk-toggleable__control:checked~label.sk-toggleable__label {background-color: #d4ebff;}#sk-container-id-66 div.sk-label input.sk-toggleable__control:checked~label.sk-toggleable__label {background-color: #d4ebff;}#sk-container-id-66 input.sk-hidden--visually {border: 0;clip: rect(1px 1px 1px 1px);clip: rect(1px, 1px, 1px, 1px);height: 1px;margin: -1px;overflow: hidden;padding: 0;position: absolute;width: 1px;}#sk-container-id-66 div.sk-estimator {font-family: monospace;background-color: #f0f8ff;border: 1px dotted black;border-radius: 0.25em;box-sizing: border-box;margin-bottom: 0.5em;}#sk-container-id-66 div.sk-estimator:hover {background-color: #d4ebff;}#sk-container-id-66 div.sk-parallel-item::after {content: \"\";width: 100%;border-bottom: 1px solid gray;flex-grow: 1;}#sk-container-id-66 div.sk-label:hover label.sk-toggleable__label {background-color: #d4ebff;}#sk-container-id-66 div.sk-serial::before {content: \"\";position: absolute;border-left: 1px solid gray;box-sizing: border-box;top: 0;bottom: 0;left: 50%;z-index: 0;}#sk-container-id-66 div.sk-serial {display: flex;flex-direction: column;align-items: center;background-color: white;padding-right: 0.2em;padding-left: 0.2em;position: relative;}#sk-container-id-66 div.sk-item {position: relative;z-index: 1;}#sk-container-id-66 div.sk-parallel {display: flex;align-items: stretch;justify-content: center;background-color: white;position: relative;}#sk-container-id-66 div.sk-item::before, #sk-container-id-66 div.sk-parallel-item::before {content: \"\";position: absolute;border-left: 1px solid gray;box-sizing: border-box;top: 0;bottom: 0;left: 50%;z-index: -1;}#sk-container-id-66 div.sk-parallel-item {display: flex;flex-direction: column;z-index: 1;position: relative;background-color: white;}#sk-container-id-66 div.sk-parallel-item:first-child::after {align-self: flex-end;width: 50%;}#sk-container-id-66 div.sk-parallel-item:last-child::after {align-self: flex-start;width: 50%;}#sk-container-id-66 div.sk-parallel-item:only-child::after {width: 0;}#sk-container-id-66 div.sk-dashed-wrapped {border: 1px dashed gray;margin: 0 0.4em 0.5em 0.4em;box-sizing: border-box;padding-bottom: 0.4em;background-color: white;}#sk-container-id-66 div.sk-label label {font-family: monospace;font-weight: bold;display: inline-block;line-height: 1.2em;}#sk-container-id-66 div.sk-label-container {text-align: center;}#sk-container-id-66 div.sk-container {/* jupyter's `normalize.less` sets `[hidden] { display: none; }` but bootstrap.min.css set `[hidden] { display: none !important; }` so we also need the `!important` here to be able to override the default hidden behavior on the sphinx rendered scikit-learn.org. See: https://github.com/scikit-learn/scikit-learn/issues/21755 */display: inline-block !important;position: relative;}#sk-container-id-66 div.sk-text-repr-fallback {display: none;}</style><div id=\"sk-container-id-66\" class=\"sk-top-container\"><div class=\"sk-text-repr-fallback\"><pre>KNeighborsClassifier(n_jobs=-1, n_neighbors=7, weights=&#x27;distance&#x27;)</pre><b>In a Jupyter environment, please rerun this cell to show the HTML representation or trust the notebook. <br />On GitHub, the HTML representation is unable to render, please try loading this page with nbviewer.org.</b></div><div class=\"sk-container\" hidden><div class=\"sk-item\"><div class=\"sk-estimator sk-toggleable\"><input class=\"sk-toggleable__control sk-hidden--visually\" id=\"sk-estimator-id-66\" type=\"checkbox\" checked><label for=\"sk-estimator-id-66\" class=\"sk-toggleable__label sk-toggleable__label-arrow\">KNeighborsClassifier</label><div class=\"sk-toggleable__content\"><pre>KNeighborsClassifier(n_jobs=-1, n_neighbors=7, weights=&#x27;distance&#x27;)</pre></div></div></div></div></div>"
            ],
            "text/plain": [
              "KNeighborsClassifier(n_jobs=-1, n_neighbors=7, weights='distance')"
            ]
          },
          "execution_count": 965,
          "metadata": {},
          "output_type": "execute_result"
        }
      ],
      "source": [
        "from sklearn.model_selection import cross_val_score\n",
        "from sklearn.metrics import f1_score, make_scorer\n",
        "from sklearn.neighbors import KNeighborsClassifier\n",
        "# from sklearn.ensemble import XGBClassifier\n",
        "\n",
        "def report_f1(y_true, y_pred):\n",
        "    return f1_score(y_true, y_pred, average='macro', zero_division=0.0)\n",
        "\n",
        "model = KNeighborsClassifier(n_neighbors=7, n_jobs=-1, weights='distance')\n",
        "# model = XGBClassifier()\n",
        "\n",
        "cv_f1_score = cross_val_score(model, X_train, y_train, scoring=make_scorer(report_f1))\n",
        "print(cv_f1_score)\n",
        "\n",
        "model.fit(X_train, y_train)"
      ]
    },
    {
      "cell_type": "code",
      "execution_count": 966,
      "metadata": {},
      "outputs": [
        {
          "name": "stdout",
          "output_type": "stream",
          "text": [
            "Macro F1 Score: 0.981128393852354\n"
          ]
        }
      ],
      "source": [
        "y_val_pred = model.predict(val_x)\n",
        "macro_f1 = f1_score(val_y, y_val_pred, average='macro')\n",
        "\n",
        "print(f'Macro F1 Score: {macro_f1}')"
      ]
    },
    {
      "cell_type": "code",
      "execution_count": 967,
      "metadata": {},
      "outputs": [
        {
          "name": "stdout",
          "output_type": "stream",
          "text": [
            "[0.98031662 0.9861195  0.97537417 0.98415434 0.97785319]\n"
          ]
        }
      ],
      "source": [
        "cv_f1_score = cross_val_score(model, X_train, y_train, scoring=make_scorer(report_f1))\n",
        "print(cv_f1_score)"
      ]
    },
    {
      "cell_type": "code",
      "execution_count": 968,
      "metadata": {},
      "outputs": [
        {
          "name": "stdout",
          "output_type": "stream",
          "text": [
            "\n",
            " Classification Report:\n",
            "               precision    recall  f1-score   support\n",
            "\n",
            "         0.0       0.97      0.86      0.91       105\n",
            "         1.0       0.95      0.90      0.92       102\n",
            "         2.0       0.91      0.95      0.92        91\n",
            "         3.0       0.97      1.00      0.98        93\n",
            "         4.0       1.00      1.00      1.00        96\n",
            "         5.0       0.95      0.97      0.96       104\n",
            "         6.0       0.99      1.00      0.99        74\n",
            "         7.0       0.99      1.00      1.00       101\n",
            "         8.0       1.00      1.00      1.00        86\n",
            "         9.0       1.00      1.00      1.00        97\n",
            "        10.0       1.00      1.00      1.00       110\n",
            "        11.0       1.00      1.00      1.00       106\n",
            "        12.0       0.99      1.00      1.00       111\n",
            "        13.0       1.00      1.00      1.00       108\n",
            "        14.0       0.98      1.00      0.99        79\n",
            "        15.0       0.97      1.00      0.98        95\n",
            "        16.0       1.00      1.00      1.00        98\n",
            "        17.0       1.00      1.00      1.00       101\n",
            "\n",
            "    accuracy                           0.98      1757\n",
            "   macro avg       0.98      0.98      0.98      1757\n",
            "weighted avg       0.98      0.98      0.98      1757\n",
            "\n"
          ]
        }
      ],
      "source": [
        "from sklearn.metrics import accuracy_score, f1_score, classification_report\n",
        "\n",
        "dt_classification_rep = classification_report(val_y, y_val_pred, zero_division=0.0)\n",
        "print(\"\\n Classification Report:\\n\", dt_classification_rep)"
      ]
    },
    {
      "cell_type": "code",
      "execution_count": 969,
      "metadata": {},
      "outputs": [
        {
          "data": {
            "image/png": "[encoded data removed]",
            "text/plain": [
              "<Figure size 640x480 with 1 Axes>"
            ]
          },
          "metadata": {},
          "output_type": "display_data"
        }
      ],
      "source": [
        "from sklearn.decomposition import PCA\n",
        "full_pca = PCA()\n",
        "X_pca = full_pca.fit_transform(X)\n",
        "# PoV array (zero padded at the start)\n",
        "cumulative_variance = np.zeros(len(full_pca.explained_variance_ratio_) + 1)\n",
        "cumulative_variance[1:] = np.cumsum(full_pca.explained_variance_ratio_)\n",
        "\n",
        "# Plot the cumulative variance as well as cutoff 0.9 PoV\n",
        "plt.plot(cumulative_variance)\n",
        "plt.plot(np.arange(cumulative_variance.shape[0]), 0.9*np.ones_like(cumulative_variance), '--')\n",
        "plt.xlabel('Number of Eigenvectors')\n",
        "plt.ylabel('PoV')\n",
        "plt.title('Proportion of Variance (PoV) Against Number of Eigenvectors')\n",
        "plt.legend(['PoV of Data', 'Required PoV (0.9)'])\n",
        "plt.grid()\n",
        "plt.tight_layout()\n",
        "plt.show()"
      ]
    },
    {
      "cell_type": "code",
      "execution_count": 970,
      "metadata": {},
      "outputs": [
        {
          "data": {
            "text/plain": [
              "10"
            ]
          },
          "execution_count": 970,
          "metadata": {},
          "output_type": "execute_result"
        }
      ],
      "source": [
        "pca_comp = np.searchsorted(cumulative_variance, 0.9)\n",
        "pca_comp"
      ]
    }
  ],
  "metadata": {
    "colab": {
      "provenance": []
    },
    "kernelspec": {
      "display_name": "Python 3",
      "name": "python3"
    },
    "language_info": {
      "codemirror_mode": {
        "name": "ipython",
        "version": 3
      },
      "file_extension": ".py",
      "mimetype": "text/x-python",
      "name": "python",
      "nbconvert_exporter": "python",
      "pygments_lexer": "ipython3",
      "version": "3.11.4"
    }
  },
  "nbformat": 4,
  "nbformat_minor": 0
}
