{
  "cells": [
    {
      "cell_type": "code",
      "execution_count": 39,
      "metadata": {
        "id": "ftGaqLZDbwIX"
      },
      "outputs": [],
      "source": [
        "import pandas as pd\n",
        "import numpy as np\n",
        "import matplotlib.pyplot as plt\n",
        "from sklearn.preprocessing import StandardScaler, LabelEncoder\n",
        "import xgboost"
      ]
    },
    {
      "cell_type": "code",
      "execution_count": 40,
      "metadata": {},
      "outputs": [],
      "source": [
        "from sklearn.experimental import enable_iterative_imputer\n",
        "from sklearn.impute import IterativeImputer\n",
        "\n",
        "# Assuming df is your DataFrame and 'Feature17' has missing values\n",
        "imputer = IterativeImputer(max_iter=100, tol=1e-3)\n",
        "\n",
        "df_train = pd.read_csv('../data/iith_foml_2023_train.csv')\n",
        "# Fit the imputer model on the dataset to learn the data patterns\n",
        "df_train.drop(columns=['Feature 16', 'Feature 17'], inplace=True)\n",
        "imputer.fit(df_train)\n",
        "\n",
        "# Transform the dataset to replace missing values\n",
        "df_imputed = imputer.transform(df_train)\n",
        "\n",
        "# Convert back to a DataFrame\n",
        "df_imputed = pd.DataFrame(df_imputed, columns=df_train.columns)"
      ]
    },
    {
      "cell_type": "code",
      "execution_count": 41,
      "metadata": {},
      "outputs": [],
      "source": [
        "X_train = df_imputed.iloc[:, :-1]\n",
        "y_train = df_imputed.iloc[:, -1]"
      ]
    },
    {
      "cell_type": "code",
      "execution_count": 42,
      "metadata": {
        "colab": {
          "base_uri": "https://localhost:8080/"
        },
        "id": "BdtdnmqO0WPZ",
        "outputId": "2c213020-ecde-4473-fe3e-83fffe5e02e4"
      },
      "outputs": [
        {
          "name": "stdout",
          "output_type": "stream",
          "text": [
            "Shape of train_x: (795, 22)\n",
            "Shape of val_x: (199, 22)\n",
            "Shape of train_y: (795,)\n",
            "Shape of val_y: (199,)\n"
          ]
        }
      ],
      "source": [
        "from sklearn.model_selection import train_test_split\n",
        "\n",
        "train_x, val_x, train_y, val_y = train_test_split(X_train, y_train, test_size=0.2)\n",
        "\n",
        "print(\"Shape of train_x:\", train_x.shape)\n",
        "print(\"Shape of val_x:\", val_x.shape)\n",
        "print(\"Shape of train_y:\", train_y.shape)\n",
        "print(\"Shape of val_y:\", val_y.shape)\n"
      ]
    },
    {
      "cell_type": "code",
      "execution_count": 43,
      "metadata": {
        "colab": {
          "base_uri": "https://localhost:8080/",
          "height": 245
        },
        "id": "G0yQh6pPAMKB",
        "outputId": "3d7c2cb2-fa37-4085-aec0-a3d59ecb7f46"
      },
      "outputs": [
        {
          "name": "stdout",
          "output_type": "stream",
          "text": [
            "XGBoost Accuracy: 0.9095477386934674\n",
            "XGBoost Macro F1 Score: 0.43913227513227515\n",
            "\n",
            "XGBoost Classification Report:\n",
            "               precision    recall  f1-score   support\n",
            "\n",
            "         0.0       0.98      0.98      0.98        54\n",
            "         1.0       0.91      0.97      0.94        97\n",
            "         2.0       0.71      0.81      0.76        21\n",
            "         3.0       0.00      0.00      0.00         1\n",
            "         4.0       0.00      0.00      0.00         1\n",
            "         5.0       1.00      0.56      0.71         9\n",
            "         6.0       1.00      1.00      1.00        12\n",
            "         8.0       0.00      0.00      0.00         2\n",
            "         9.0       0.00      0.00      0.00         2\n",
            "        12.0       0.00      0.00      0.00         0\n",
            "\n",
            "    accuracy                           0.91       199\n",
            "   macro avg       0.46      0.43      0.44       199\n",
            "weighted avg       0.89      0.91      0.90       199\n",
            "\n"
          ]
        }
      ],
      "source": [
        "from xgboost import XGBClassifier\n",
        "from sklearn.metrics import accuracy_score, f1_score, classification_report\n",
        "\n",
        "# Initialize XGBoost model\n",
        "xgb_model = XGBClassifier(random_state=42, n_estimators=200)\n",
        "\n",
        "le = LabelEncoder()\n",
        "train_y = le.fit_transform(train_y)\n",
        "\n",
        "# Train the model on the training data\n",
        "xgb_model.fit(train_x, np.asarray(train_y, dtype=int))\n",
        "\n",
        "# Make predictions on the validation data\n",
        "xgb_predictions = xgb_model.predict(val_x)\n",
        "\n",
        "# Calculate accuracy and macro F1 score\n",
        "xgb_accuracy = accuracy_score(val_y, xgb_predictions)\n",
        "xgb_macro_f1 = f1_score(val_y, xgb_predictions, average='macro', zero_division=0.0)\n",
        "\n",
        "# Display results\n",
        "print(\"XGBoost Accuracy:\", xgb_accuracy)\n",
        "print(\"XGBoost Macro F1 Score:\", xgb_macro_f1)\n",
        "\n",
        "# Classification report for more details\n",
        "xgb_classification_rep = classification_report(val_y, xgb_predictions, zero_division=0.0)\n",
        "print(\"\\nXGBoost Classification Report:\\n\", xgb_classification_rep)\n"
      ]
    }
  ],
  "metadata": {
    "colab": {
      "provenance": []
    },
    "kernelspec": {
      "display_name": "Python 3",
      "name": "python3"
    },
    "language_info": {
      "codemirror_mode": {
        "name": "ipython",
        "version": 3
      },
      "file_extension": ".py",
      "mimetype": "text/x-python",
      "name": "python",
      "nbconvert_exporter": "python",
      "pygments_lexer": "ipython3",
      "version": "3.11.4"
    }
  },
  "nbformat": 4,
  "nbformat_minor": 0
}
