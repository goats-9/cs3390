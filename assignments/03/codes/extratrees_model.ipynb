{
  "cells": [
    {
      "cell_type": "code",
      "execution_count": 6,
      "metadata": {
        "id": "ftGaqLZDbwIX"
      },
      "outputs": [],
      "source": [
        "import pandas as pd\n",
        "import numpy as np\n",
        "import matplotlib.pyplot as plt\n",
        "from sklearn.preprocessing import StandardScaler, LabelEncoder"
      ]
    },
    {
      "cell_type": "code",
      "execution_count": 7,
      "metadata": {},
      "outputs": [],
      "source": [
        "from sklearn.experimental import enable_iterative_imputer\n",
        "from sklearn.impute import IterativeImputer\n",
        "\n",
        "# Assuming df is your DataFrame and 'Feature17' has missing values\n",
        "imputer = IterativeImputer(max_iter=100, tol=1e-3)\n",
        "\n",
        "df_train = pd.read_csv('../data/iith_foml_2023_train.csv')\n",
        "# Fit the imputer model on the dataset to learn the data patterns\n",
        "df_train.drop(columns=['Feature 16', 'Feature 17'], inplace=True)\n",
        "imputer.fit(df_train)\n",
        "\n",
        "# Transform the dataset to replace missing values\n",
        "df_imputed = imputer.transform(df_train)\n",
        "\n",
        "# Convert back to a DataFrame\n",
        "df_imputed = pd.DataFrame(df_imputed, columns=df_train.columns)"
      ]
    },
    {
      "cell_type": "code",
      "execution_count": 8,
      "metadata": {},
      "outputs": [],
      "source": [
        "X_train = df_imputed.iloc[:, :-1]\n",
        "y_train = df_imputed.iloc[:, -1]\n",
        "# scaler = StandardScaler()\n",
        "# X_train = scaler.fit_transform(X_train)"
      ]
    },
    {
      "cell_type": "code",
      "execution_count": 9,
      "metadata": {
        "colab": {
          "base_uri": "https://localhost:8080/"
        },
        "id": "BdtdnmqO0WPZ",
        "outputId": "2c213020-ecde-4473-fe3e-83fffe5e02e4"
      },
      "outputs": [
        {
          "name": "stdout",
          "output_type": "stream",
          "text": [
            "Shape of train_x: (795, 22)\n",
            "Shape of val_x: (199, 22)\n",
            "Shape of train_y: (795,)\n",
            "Shape of val_y: (199,)\n"
          ]
        }
      ],
      "source": [
        "from sklearn.model_selection import train_test_split\n",
        "\n",
        "train_x, val_x, train_y, val_y = train_test_split(X_train, y_train, test_size=0.2)\n",
        "\n",
        "print(\"Shape of train_x:\", train_x.shape)\n",
        "print(\"Shape of val_x:\", val_x.shape)\n",
        "print(\"Shape of train_y:\", train_y.shape)\n",
        "print(\"Shape of val_y:\", val_y.shape)\n"
      ]
    },
    {
      "cell_type": "code",
      "execution_count": 10,
      "metadata": {
        "colab": {
          "base_uri": "https://localhost:8080/",
          "height": 245
        },
        "id": "G0yQh6pPAMKB",
        "outputId": "3d7c2cb2-fa37-4085-aec0-a3d59ecb7f46"
      },
      "outputs": [
        {
          "name": "stdout",
          "output_type": "stream",
          "text": [
            "Extra-Trees Accuracy: 0.9045226130653267\n",
            "Extra-Trees Macro F1 Score: 0.4510921540381007\n",
            "\n",
            "Extra-Trees Classification Report:\n",
            "               precision    recall  f1-score   support\n",
            "\n",
            "         0.0       0.87      0.98      0.92        53\n",
            "         1.0       0.99      0.96      0.97        92\n",
            "         2.0       0.79      0.79      0.79        29\n",
            "         3.0       0.00      0.00      0.00         0\n",
            "         5.0       0.80      0.67      0.73         6\n",
            "         6.0       1.00      1.00      1.00        12\n",
            "         7.0       0.00      0.00      0.00         2\n",
            "         8.0       0.00      0.00      0.00         2\n",
            "         9.0       0.00      0.00      0.00         1\n",
            "        10.0       0.00      0.00      0.00         1\n",
            "        14.0       1.00      1.00      1.00         1\n",
            "        15.0       0.00      0.00      0.00         0\n",
            "\n",
            "    accuracy                           0.90       199\n",
            "   macro avg       0.45      0.45      0.45       199\n",
            "weighted avg       0.89      0.90      0.90       199\n",
            "\n"
          ]
        }
      ],
      "source": [
        "from sklearn.ensemble import ExtraTreesClassifier\n",
        "from sklearn.metrics import accuracy_score, f1_score, classification_report\n",
        "\n",
        "# Initialize Adaboost model\n",
        "model = ExtraTreesClassifier()\n",
        "\n",
        "le = LabelEncoder()\n",
        "train_y = le.fit_transform(train_y)\n",
        "\n",
        "# Train the model on the training data\n",
        "model.fit(train_x, train_y)\n",
        "\n",
        "# Make predictions on the validation data\n",
        "predictions = le.inverse_transform(model.predict(val_x))\n",
        "\n",
        "# Calculate accuracy and macro F1 score\n",
        "accuracy = accuracy_score(val_y, predictions)\n",
        "macro_f1 = f1_score(val_y, predictions, average='macro', zero_division=0.0)\n",
        "\n",
        "# Display results\n",
        "print(\"Extra-Trees Accuracy:\", accuracy)\n",
        "print(\"Extra-Trees Macro F1 Score:\", macro_f1)\n",
        "\n",
        "# Classification report for more details\n",
        "classification_rep = classification_report(val_y, predictions, zero_division=0.0)\n",
        "print(\"\\nExtra-Trees Classification Report:\\n\", classification_rep)\n"
      ]
    }
  ],
  "metadata": {
    "colab": {
      "provenance": []
    },
    "kernelspec": {
      "display_name": "Python 3",
      "name": "python3"
    },
    "language_info": {
      "codemirror_mode": {
        "name": "ipython",
        "version": 3
      },
      "file_extension": ".py",
      "mimetype": "text/x-python",
      "name": "python",
      "nbconvert_exporter": "python",
      "pygments_lexer": "ipython3",
      "version": "3.10.12"
    }
  },
  "nbformat": 4,
  "nbformat_minor": 0
}
