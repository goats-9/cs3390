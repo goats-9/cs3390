{
  "cells": [
    {
      "cell_type": "code",
      "execution_count": 81,
      "metadata": {},
      "outputs": [],
      "source": [
        "import pandas as pd\n",
        "pd.options.display.max_rows = None\n",
        "pd.options.display.max_columns = None\n",
        "import numpy as np\n",
        "import matplotlib.pyplot as plt\n",
        "from sklearn.preprocessing import StandardScaler, LabelEncoder"
      ]
    },
    {
      "cell_type": "code",
      "execution_count": 82,
      "metadata": {},
      "outputs": [],
      "source": [
        "df_train = pd.read_csv('../data/iith_foml_2023_train.csv')\n",
        "drop_cols = ['Feature 3 (Discrete)', 'Feature 11', 'Feature 10', 'Feature 23 (Discrete)']\n",
        "df_train.drop(columns=drop_cols, inplace=True)\n",
        "for column in df_train.columns:\n",
        "    mean_value = df_train[column].mean()\n",
        "    df_train[column].fillna(mean_value, inplace=True)"
      ]
    },
    {
      "cell_type": "code",
      "execution_count": 83,
      "metadata": {},
      "outputs": [],
      "source": [
        "from sklearn.utils.class_weight import compute_sample_weight, compute_class_weight\n",
        "\n",
        "X_train = df_train.iloc[:, :-1]\n",
        "y_train = df_train.iloc[:, -1]\n",
        "scaler = StandardScaler()\n",
        "X_train = scaler.fit_transform(X_train)"
      ]
    },
    {
      "cell_type": "code",
      "execution_count": 84,
      "metadata": {
        "colab": {
          "base_uri": "https://localhost:8080/",
          "height": 245
        },
        "id": "G0yQh6pPAMKB",
        "outputId": "3d7c2cb2-fa37-4085-aec0-a3d59ecb7f46"
      },
      "outputs": [
        {
          "name": "stdout",
          "output_type": "stream",
          "text": [
            "Macro F1 Score: 0.4173245806621586\n"
          ]
        }
      ],
      "source": [
        "from sklearn.ensemble import VotingClassifier, StackingClassifier, ExtraTreesClassifier, RandomForestClassifier, GradientBoostingClassifier, BaggingClassifier\n",
        "from sklearn.neighbors import KNeighborsClassifier\n",
        "from sklearn.model_selection import cross_val_score, train_test_split\n",
        "from sklearn.metrics import f1_score, make_scorer\n",
        "\n",
        "def report_f1(y_true, y_pred):\n",
        "    return f1_score(y_true, y_pred, average='macro', zero_division=0.0)\n",
        "\n",
        "# Initialize models\n",
        "extratrees_model = ExtraTreesClassifier(random_state=42, bootstrap=False, n_jobs=-1)\n",
        "randomforest_model = RandomForestClassifier(random_state=42, bootstrap=False, n_jobs=-1)\n",
        "gradientboost_model = GradientBoostingClassifier(random_state=42)\n",
        "bagging_model = BaggingClassifier(random_state=42, n_jobs=-1)\n",
        "knn_model = KNeighborsClassifier(n_jobs=-1)\n",
        "knn_model_2 = KNeighborsClassifier(n_jobs=-1)\n",
        "\n",
        "model = StackingClassifier(\n",
        "    estimators=[\n",
        "        ('gradientboost_model', gradientboost_model),\n",
        "        # ('randomforest_model', randomforest_model),\n",
        "        ('extratrees_model', extratrees_model),\n",
        "        # ('knn_model', knn_model),\n",
        "        # ('knn_model_2', knn_model_2),\n",
        "        # ('bagging_model', bagging_model)\n",
        "    ], \n",
        "    n_jobs=-1,\n",
        "    final_estimator=knn_model,\n",
        ")\n",
        "\n",
        "# Cross validate the model\n",
        "X_train_cv, X_test_cv, y_train_cv, y_test_cv = train_test_split(X_train, y_train, test_size=0.2)\n",
        "model.fit(X_train_cv, y_train_cv)\n",
        "y_pred_cv = model.predict(X_test_cv)\n",
        "macro_f1 = f1_score(y_test_cv, y_pred_cv, average='macro')\n",
        "print(f'Macro F1 Score: {macro_f1}')"
      ]
    }
  ],
  "metadata": {
    "colab": {
      "provenance": []
    },
    "kernelspec": {
      "display_name": "Python 3",
      "name": "python3"
    },
    "language_info": {
      "codemirror_mode": {
        "name": "ipython",
        "version": 3
      },
      "file_extension": ".py",
      "mimetype": "text/x-python",
      "name": "python",
      "nbconvert_exporter": "python",
      "pygments_lexer": "ipython3",
      "version": "3.11.4"
    }
  },
  "nbformat": 4,
  "nbformat_minor": 0
}
