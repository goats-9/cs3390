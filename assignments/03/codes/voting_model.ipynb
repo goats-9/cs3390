{
  "cells": [
    {
      "cell_type": "code",
      "execution_count": 5,
      "metadata": {},
      "outputs": [],
      "source": [
        "import pandas as pd\n",
        "pd.options.display.max_rows = None\n",
        "pd.options.display.max_columns = None\n",
        "import numpy as np\n",
        "import matplotlib.pyplot as plt\n",
        "from sklearn.preprocessing import StandardScaler, LabelEncoder"
      ]
    },
    {
      "cell_type": "code",
      "execution_count": 6,
      "metadata": {},
      "outputs": [],
      "source": [
        "from sklearn.experimental import enable_iterative_imputer\n",
        "from sklearn.impute import IterativeImputer\n",
        "\n",
        "# Assuming df is your DataFrame and 'Feature17' has missing values\n",
        "imputer = IterativeImputer(max_iter=100, tol=1e-3)\n",
        "\n",
        "df_train = pd.read_csv('../data/iith_foml_2023_train.csv')\n",
        "# Fit the imputer model on the dataset to learn the data patterns\n",
        "df_train.drop(columns=['Feature 16', 'Feature 17'], inplace=True)\n",
        "# imputer.fit(df_train)\n",
        "\n",
        "# Transform the dataset to replace missing values\n",
        "# df_imputed = imputer.transform(df_train)\n",
        "\n",
        "# Convert back to a DataFrame\n",
        "# df_imputed = pd.DataFrame(df_imputed, columns=df_train.columns)\n",
        "for column in df_train.columns:\n",
        "    if df_train[column].isna().any():\n",
        "        mean_value = df_train[column].mean()\n",
        "        df_train[column].fillna(mean_value, inplace=True)\n",
        "# df_train['Feature 16'].loc[df_train['Target Variable (Discrete)'] == i].fillna(df_train['Feature 16'].loc[df_train['Target Variable (Discrete)'] == i].mean(), inplace=True)\n",
        "# df_train['Feature 17'].loc[df_train['Target Variable (Discrete)'] == i].fillna(df_train['Feature 17'].loc[df_train['Target Variable (Discrete)'] == i].mean(), inplace=True)\n",
        "df_imputed = df_train"
      ]
    },
    {
      "cell_type": "code",
      "execution_count": 7,
      "metadata": {},
      "outputs": [],
      "source": [
        "from sklearn.utils.class_weight import compute_sample_weight, compute_class_weight\n",
        "\n",
        "X_train = df_imputed.iloc[:, :-1]\n",
        "y_train = df_imputed.iloc[:, -1]\n",
        "scaler = StandardScaler()\n",
        "X_train = scaler.fit_transform(X_train)\n",
        "le = LabelEncoder()\n",
        "y_train = le.fit_transform(y_train)\n",
        "class_wts = compute_class_weight(class_weight='balanced', classes=np.unique(y_train), y=y_train)\n",
        "class_wts_dict = dict(zip(np.arange(len(class_wts)), class_wts))\n",
        "sample_wts = compute_sample_weight(class_weight=class_wts_dict, y=y_train)"
      ]
    },
    {
      "cell_type": "code",
      "execution_count": 8,
      "metadata": {
        "colab": {
          "base_uri": "https://localhost:8080/",
          "height": 245
        },
        "id": "G0yQh6pPAMKB",
        "outputId": "3d7c2cb2-fa37-4085-aec0-a3d59ecb7f46"
      },
      "outputs": [
        {
          "name": "stderr",
          "output_type": "stream",
          "text": [
            "c:\\Python311\\Lib\\site-packages\\sklearn\\model_selection\\_split.py:737: UserWarning: The least populated class in y has only 1 members, which is less than n_splits=5.\n",
            "  warnings.warn(\n"
          ]
        },
        {
          "name": "stdout",
          "output_type": "stream",
          "text": [
            "[0.50433799 0.46510005 0.39800395 0.46135676 0.52526849]\n"
          ]
        }
      ],
      "source": [
        "from sklearn.ensemble import VotingClassifier, ExtraTreesClassifier, RandomForestClassifier, GradientBoostingClassifier\n",
        "from sklearn.model_selection import cross_val_score\n",
        "from sklearn.metrics import f1_score, make_scorer\n",
        "from xgboost import XGBClassifier\n",
        "\n",
        "def report_f1(y_true, y_pred):\n",
        "    return f1_score(y_true, y_pred, average='macro', zero_division=0.0)\n",
        "\n",
        "# Initialize models\n",
        "extratrees_model = ExtraTreesClassifier(random_state=42)\n",
        "randomforest_model = RandomForestClassifier(random_state=42)\n",
        "graidentboost_model = GradientBoostingClassifier(random_state=42)\n",
        "\n",
        "model = VotingClassifier(\n",
        "    estimators=[\n",
        "        ('bagging_extratrees', extratrees_model),\n",
        "        ('bagging_gradboost', randomforest_model),\n",
        "        ('gradientboost_model', graidentboost_model),\n",
        "    ], voting='hard'\n",
        ")\n",
        "\n",
        "# Train the model on the training data\n",
        "cv_f1_score = cross_val_score(model, X_train, y_train, scoring=make_scorer(report_f1))\n",
        "print(cv_f1_score)"
      ]
    },
    {
      "cell_type": "code",
      "execution_count": null,
      "metadata": {},
      "outputs": [],
      "source": [
        "df_train['Target Variable (Discrete)'].unique()"
      ]
    }
  ],
  "metadata": {
    "colab": {
      "provenance": []
    },
    "kernelspec": {
      "display_name": "Python 3",
      "name": "python3"
    },
    "language_info": {
      "codemirror_mode": {
        "name": "ipython",
        "version": 3
      },
      "file_extension": ".py",
      "mimetype": "text/x-python",
      "name": "python",
      "nbconvert_exporter": "python",
      "pygments_lexer": "ipython3",
      "version": "3.11.4"
    }
  },
  "nbformat": 4,
  "nbformat_minor": 0
}
