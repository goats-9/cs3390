{
 "cells": [
  {
   "cell_type": "markdown",
   "metadata": {},
   "source": [
    "# Predicting Wine Quality Using Linear and Ordinal Regression\n",
    "\n",
    "### Authors\n",
    "\n",
    "| Name | Roll Number |\n",
    "| - | - |\n",
    "| Gautam Singh | CS21BTECH11018 |\n",
    "| Jaswanth Beere | BM21BTECH11007 |\n",
    "\n",
    "This `.ipynb` file predicts the quality of wine using ordinal regression Packages in Python."
   ]
  },
  {
   "cell_type": "markdown",
   "metadata": {},
   "source": [
    "## Package Imports\n",
    "\n",
    "The required packages for the prediction are specified here"
   ]
  },
  {
   "cell_type": "code",
   "execution_count": null,
   "metadata": {},
   "outputs": [],
   "source": [
    "import numpy as np\n",
    "import pandas as pd\n",
    "from sklearn.linear_model import LinearRegression\n",
    "from statsmodels.miscmodels.ordinal_model import OrderedModel"
   ]
  },
  {
   "cell_type": "markdown",
   "metadata": {},
   "source": [
    "## Loading Datasets\n",
    "\n",
    "The `pandas` library is used to load the `csv` files."
   ]
  },
  {
   "cell_type": "code",
   "execution_count": null,
   "metadata": {},
   "outputs": [],
   "source": [
    "red_df = pd.read_csv('https://archive.ics.uci.edu/ml/machine-learning-databases/wine-quality/winequality-red.csv', sep=';')\n",
    "white_df = pd.read_csv('https://archive.ics.uci.edu/ml/machine-learning-databases/wine-quality/winequality-white.csv', sep=';')"
   ]
  },
  {
   "cell_type": "markdown",
   "metadata": {},
   "source": [
    "From the dataset, it is clear that the `quality` variable is ordinal with ratings ranging from 3 to 9, while the other variables are real-valued. We require to predict the value of `quality` given the other independent variables. We use an ordinal regression model as well as a linear regression model for the same and compare the performance of both models."
   ]
  },
  {
   "cell_type": "markdown",
   "metadata": {},
   "source": [
    "### Preprocessing\n",
    "\n",
    "Each dataset is split as follows using _proportional sampling_. This is because the ratings are not evenly distributed, and thus using random sampling may not generate an optimal model.\n",
    "1. 80 percent _training_ data.\n",
    "2. 20 percent _test_ data.\n",
    "\n",
    "Before splitting the data, we adjust the ratings so that the smallest rating is zero."
   ]
  },
  {
   "cell_type": "code",
   "execution_count": null,
   "metadata": {},
   "outputs": [],
   "source": [
    "# Adjust ratings to start from zero onwards\n",
    "red_df['quality'] -= red_df['quality'].min()\n",
    "white_df['quality'] -= white_df['quality'].min()\n",
    "# Proportionally sample from dataset to create training dataset\n",
    "red_train_df = red_df.groupby('quality').apply(lambda x : x.sample(frac=0.8)).reset_index(drop=True)\n",
    "white_train_df = white_df.groupby('quality').apply(lambda x : x.sample(frac=0.8)).reset_index(drop=True)\n",
    "# The remaining data becomes the test dataset\n",
    "red_test_df = pd.concat([red_df, red_train_df]).drop_duplicates(keep=False).reset_index(drop=True)\n",
    "white_test_df = pd.concat([white_df, white_train_df]).drop_duplicates(keep=False).reset_index(drop=True)"
   ]
  },
  {
   "cell_type": "markdown",
   "metadata": {},
   "source": [
    "## Training\n",
    "\n",
    "### Ordinal Regression\n",
    "\n",
    "The `statsmodels` library is used to perform ordinal regression on the given dataset."
   ]
  },
  {
   "cell_type": "code",
   "execution_count": null,
   "metadata": {},
   "outputs": [],
   "source": [
    "# Perform ordinal regression on the training dataset\n",
    "red_mod_prob = OrderedModel(red_train_df['quality'], red_train_df.loc[:, red_train_df.columns != 'quality'])\n",
    "# Use the BFGS algorithm to find the maximum likelihood solution\n",
    "red_res_prob = red_mod_prob.fit(method='bfgs')\n",
    "# Summarize the results of training\n",
    "red_res_prob.summary()"
   ]
  },
  {
   "cell_type": "code",
   "execution_count": null,
   "metadata": {},
   "outputs": [],
   "source": [
    "# Perform ordinal regression on the training dataset\n",
    "white_mod_prob = OrderedModel(white_train_df['quality'], white_train_df.loc[:, white_train_df.columns != 'quality'])\n",
    "# Use the BFGS algorithm to find the maximum likelihood solution\n",
    "white_res_prob = white_mod_prob.fit(method='bfgs')\n",
    "# Summarize the results of training\n",
    "white_res_prob.summary()"
   ]
  },
  {
   "cell_type": "markdown",
   "metadata": {},
   "source": [
    "### Linear Regression\n",
    "\n",
    "We use `scikit-learn` to perform a standard linear regression on the data, by treating `quality` to be a real-valued dependent variable. Notice that "
   ]
  },
  {
   "cell_type": "code",
   "execution_count": null,
   "metadata": {},
   "outputs": [],
   "source": [
    "# Perform linear regression on training data\n",
    "red_reg = LinearRegression().fit(red_df.loc[:, red_df.columns != 'quality'], red_df['quality'])\n",
    "white_reg = LinearRegression().fit(white_df.loc[:, white_df.columns != 'quality'], white_df['quality'])\n",
    "# Show parameter coefficients for the linear models\n",
    "# Show constant term and coefficients\n",
    "print(\"Parameters for red wine:\", red_reg.intercept_, red_reg.coef_)\n",
    "print(\"Parameters for white wine:\", white_reg.intercept_, white_reg.coef_)"
   ]
  },
  {
   "cell_type": "markdown",
   "metadata": {},
   "source": [
    "## Testing\n",
    "\n",
    "### Ordinal Regression\n",
    "\n",
    "The _root mean squared error_ (RMSE) is a good evaluation metric as per [Gaudette and Japkowicz 2009](https://link.springer.com/chapter/10.1007/978-3-642-01818-3_25), since the ordinal data consists of small integers and deviations from the mean are penalized more severely."
   ]
  },
  {
   "cell_type": "code",
   "execution_count": null,
   "metadata": {},
   "outputs": [],
   "source": [
    "# Predict class based on maximum probability\n",
    "red_ord_pred = red_res_prob.predict(red_test_df.loc[:, red_test_df.columns != 'quality']).idxmax(axis=1)\n",
    "white_ord_pred = white_res_prob.predict(white_test_df.loc[:, white_test_df.columns != 'quality']).idxmax(axis=1)\n",
    "# Calculate RMSE from correct labels\n",
    "red_ord_rmse = ((red_ord_pred - red_test_df['quality'])**2).mean()**0.5\n",
    "white_ord_rmse = ((white_ord_pred - white_test_df['quality'])**2).mean()**0.5\n",
    "print(\"RMSE for red wine:\", red_ord_rmse)\n",
    "print(\"RMSE for white wine:\", white_ord_rmse)"
   ]
  },
  {
   "cell_type": "markdown",
   "metadata": {},
   "source": [
    "### Linear Regression\n",
    "\n",
    "As per usual, a linear regression model is evaluated using the RMSE."
   ]
  },
  {
   "cell_type": "code",
   "execution_count": null,
   "metadata": {},
   "outputs": [],
   "source": [
    "# Perform predictions on test data\n",
    "red_reg_pred = red_reg.predict(red_test_df.loc[:, red_test_df.columns != 'quality'])\n",
    "white_reg_pred = white_reg.predict(white_test_df.loc[:, white_test_df.columns != 'quality'])\n",
    "# Compute RMSE of predictions\n",
    "red_reg_rmse = ((red_reg_pred - red_test_df['quality'])**2).mean()**0.5\n",
    "white_reg_rmse = ((white_reg_pred - white_test_df['quality'])**2).mean()**0.5\n",
    "print(\"RMSE for red wine:\", red_reg_rmse)\n",
    "print(\"RMSE for white wine:\", white_reg_rmse)"
   ]
  },
  {
   "cell_type": "markdown",
   "metadata": {},
   "source": [
    "## Results\n",
    "\n",
    "On most runs, it seems that linear regression performs slightly better than ordinal regression, on ordinal data! The possible reasons for this are as follows.\n",
    "\n",
    "1. The ordinal data corresponds to small integers.\n",
    "2. The interval classes are spaced apart equally, and linear regression performs equally well in these cases.\n",
    "\n",
    "However, the downside of using linear regression is a lack of interpretability even though it is a simpler model to work with. Thus, ordinal regression would still be preferred given its high interpretability at the cost of a small increase in RMSE."
   ]
  }
 ],
 "metadata": {
  "kernelspec": {
   "display_name": ".pyvenv",
   "language": "python",
   "name": "python3"
  },
  "language_info": {
   "codemirror_mode": {
    "name": "ipython",
    "version": 3
   },
   "file_extension": ".py",
   "mimetype": "text/x-python",
   "name": "python",
   "nbconvert_exporter": "python",
   "pygments_lexer": "ipython3",
   "version": "3.11.5"
  }
 },
 "nbformat": 4,
 "nbformat_minor": 2
}
