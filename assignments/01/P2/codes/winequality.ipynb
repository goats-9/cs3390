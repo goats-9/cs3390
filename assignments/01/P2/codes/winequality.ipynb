{
 "cells": [
  {
   "cell_type": "markdown",
   "metadata": {},
   "source": [
    "# Predicting Wine Quality Using Linear and Ordinal Regression\n",
    "\n",
    "### Authors\n",
    "\n",
    "| Name | Roll Number |\n",
    "| - | - |\n",
    "| Gautam Singh | CS21BTECH11018 |\n",
    "| Jaswanth Beere | BM21BTECH11007 |\n",
    "\n",
    "This `.ipynb` file predicts the quality of wine using ordinal regression Packages in Python."
   ]
  },
  {
   "cell_type": "markdown",
   "metadata": {},
   "source": [
    "## Package Imports\n",
    "\n",
    "The required packages for the prediction are specified here"
   ]
  },
  {
   "cell_type": "code",
   "execution_count": 181,
   "metadata": {},
   "outputs": [],
   "source": [
    "import pandas as pd\n",
    "from sklearn.linear_model import LinearRegression\n",
    "from statsmodels.miscmodels.ordinal_model import OrderedModel"
   ]
  },
  {
   "cell_type": "markdown",
   "metadata": {},
   "source": [
    "## Loading Datasets\n",
    "\n",
    "The `pandas` library is used to load the `csv` files."
   ]
  },
  {
   "cell_type": "code",
   "execution_count": 182,
   "metadata": {},
   "outputs": [],
   "source": [
    "red_df = pd.read_csv('https://archive.ics.uci.edu/ml/machine-learning-databases/wine-quality/winequality-red.csv', sep=';')\n",
    "white_df = pd.read_csv('https://archive.ics.uci.edu/ml/machine-learning-databases/wine-quality/winequality-white.csv', sep=';')"
   ]
  },
  {
   "cell_type": "markdown",
   "metadata": {},
   "source": [
    "From the dataset, it is clear that the `quality` variable is ordinal with ratings ranging from 3 to 9, while the other variables are real-valued. We require to predict the value of `quality` given the other independent variables. We use an ordinal regression model as well as a linear regression model for the same and compare the performance of both models."
   ]
  },
  {
   "cell_type": "markdown",
   "metadata": {},
   "source": [
    "### Preprocessing\n",
    "\n",
    "Each dataset is split as follows using _proportional sampling_. This is because the ratings are not evenly distributed, and thus using random sampling may not generate an optimal model.\n",
    "1. 80 percent _training_ data.\n",
    "2. 20 percent _test_ data.\n",
    "\n",
    "Before splitting the data, we adjust the ratings so that the smallest rating is zero."
   ]
  },
  {
   "cell_type": "code",
   "execution_count": 183,
   "metadata": {},
   "outputs": [],
   "source": [
    "# Adjust ratings to start from zero onwards\n",
    "red_df['quality'] -= red_df['quality'].min()\n",
    "white_df['quality'] -= white_df['quality'].min()\n",
    "# Proportionally sample from dataset to create training dataset\n",
    "red_train_df = red_df.groupby('quality').apply(lambda x : x.sample(frac=0.8)).reset_index(drop=True)\n",
    "white_train_df = white_df.groupby('quality').apply(lambda x : x.sample(frac=0.8)).reset_index(drop=True)\n",
    "# The remaining data becomes the test dataset\n",
    "red_test_df = pd.concat([red_df, red_train_df]).drop_duplicates(keep=False).reset_index(drop=True)\n",
    "white_test_df = pd.concat([white_df, white_train_df]).drop_duplicates(keep=False).reset_index(drop=True)"
   ]
  },
  {
   "cell_type": "markdown",
   "metadata": {},
   "source": [
    "## Training\n",
    "\n",
    "### Ordinal Regression\n",
    "\n",
    "The `statsmodels` library is used to perform ordinal regression on the given dataset."
   ]
  },
  {
   "cell_type": "code",
   "execution_count": 184,
   "metadata": {},
   "outputs": [
    {
     "name": "stdout",
     "output_type": "stream",
     "text": [
      "Optimization terminated successfully.\n",
      "         Current function value: 0.960790\n",
      "         Iterations: 67\n",
      "         Function evaluations: 71\n",
      "         Gradient evaluations: 71\n"
     ]
    },
    {
     "data": {
      "text/html": [
       "<table class=\"simpletable\">\n",
       "<caption>OrderedModel Results</caption>\n",
       "<tr>\n",
       "  <th>Dep. Variable:</th>          <td>quality</td>      <th>  Log-Likelihood:    </th> <td> -1227.9</td>\n",
       "</tr>\n",
       "<tr>\n",
       "  <th>Model:</th>               <td>OrderedModel</td>    <th>  AIC:               </th> <td>   2488.</td>\n",
       "</tr>\n",
       "<tr>\n",
       "  <th>Method:</th>           <td>Maximum Likelihood</td> <th>  BIC:               </th> <td>   2570.</td>\n",
       "</tr>\n",
       "<tr>\n",
       "  <th>Date:</th>              <td>Sun, 08 Oct 2023</td>  <th>                     </th>     <td> </td>   \n",
       "</tr>\n",
       "<tr>\n",
       "  <th>Time:</th>                  <td>14:20:57</td>      <th>                     </th>     <td> </td>   \n",
       "</tr>\n",
       "<tr>\n",
       "  <th>No. Observations:</th>       <td>  1278</td>       <th>                     </th>     <td> </td>   \n",
       "</tr>\n",
       "<tr>\n",
       "  <th>Df Residuals:</th>           <td>  1262</td>       <th>                     </th>     <td> </td>   \n",
       "</tr>\n",
       "<tr>\n",
       "  <th>Df Model:</th>               <td>    11</td>       <th>                     </th>     <td> </td>   \n",
       "</tr>\n",
       "</table>\n",
       "<table class=\"simpletable\">\n",
       "<tr>\n",
       "            <td></td>              <th>coef</th>     <th>std err</th>      <th>z</th>      <th>P>|z|</th>  <th>[0.025</th>    <th>0.975]</th>  \n",
       "</tr>\n",
       "<tr>\n",
       "  <th>fixed acidity</th>        <td>    0.0113</td> <td>    0.050</td> <td>    0.229</td> <td> 0.819</td> <td>   -0.086</td> <td>    0.109</td>\n",
       "</tr>\n",
       "<tr>\n",
       "  <th>volatile acidity</th>     <td>   -1.8174</td> <td>    0.240</td> <td>   -7.568</td> <td> 0.000</td> <td>   -2.288</td> <td>   -1.347</td>\n",
       "</tr>\n",
       "<tr>\n",
       "  <th>citric acid</th>          <td>   -0.0840</td> <td>    0.292</td> <td>   -0.288</td> <td> 0.773</td> <td>   -0.655</td> <td>    0.487</td>\n",
       "</tr>\n",
       "<tr>\n",
       "  <th>residual sugar</th>       <td>    0.0359</td> <td>    0.028</td> <td>    1.284</td> <td> 0.199</td> <td>   -0.019</td> <td>    0.091</td>\n",
       "</tr>\n",
       "<tr>\n",
       "  <th>chlorides</th>            <td>   -3.7313</td> <td>    0.790</td> <td>   -4.724</td> <td> 0.000</td> <td>   -5.279</td> <td>   -2.183</td>\n",
       "</tr>\n",
       "<tr>\n",
       "  <th>free sulfur dioxide</th>  <td>    0.0086</td> <td>    0.004</td> <td>    2.053</td> <td> 0.040</td> <td>    0.000</td> <td>    0.017</td>\n",
       "</tr>\n",
       "<tr>\n",
       "  <th>total sulfur dioxide</th> <td>   -0.0065</td> <td>    0.001</td> <td>   -4.599</td> <td> 0.000</td> <td>   -0.009</td> <td>   -0.004</td>\n",
       "</tr>\n",
       "<tr>\n",
       "  <th>density</th>              <td>   -0.8882</td> <td>   41.865</td> <td>   -0.021</td> <td> 0.983</td> <td>  -82.942</td> <td>   81.165</td>\n",
       "</tr>\n",
       "<tr>\n",
       "  <th>pH</th>                   <td>   -0.7541</td> <td>    0.368</td> <td>   -2.049</td> <td> 0.040</td> <td>   -1.475</td> <td>   -0.033</td>\n",
       "</tr>\n",
       "<tr>\n",
       "  <th>sulphates</th>            <td>    1.4685</td> <td>    0.219</td> <td>    6.718</td> <td> 0.000</td> <td>    1.040</td> <td>    1.897</td>\n",
       "</tr>\n",
       "<tr>\n",
       "  <th>alcohol</th>              <td>    0.4923</td> <td>    0.053</td> <td>    9.354</td> <td> 0.000</td> <td>    0.389</td> <td>    0.595</td>\n",
       "</tr>\n",
       "<tr>\n",
       "  <th>0/1</th>                  <td>   -1.6032</td> <td>   41.025</td> <td>   -0.039</td> <td> 0.969</td> <td>  -82.011</td> <td>   78.805</td>\n",
       "</tr>\n",
       "<tr>\n",
       "  <th>1/2</th>                  <td>   -0.2018</td> <td>    0.159</td> <td>   -1.269</td> <td> 0.204</td> <td>   -0.513</td> <td>    0.110</td>\n",
       "</tr>\n",
       "<tr>\n",
       "  <th>2/3</th>                  <td>    0.7135</td> <td>    0.038</td> <td>   18.594</td> <td> 0.000</td> <td>    0.638</td> <td>    0.789</td>\n",
       "</tr>\n",
       "<tr>\n",
       "  <th>3/4</th>                  <td>    0.4940</td> <td>    0.039</td> <td>   12.601</td> <td> 0.000</td> <td>    0.417</td> <td>    0.571</td>\n",
       "</tr>\n",
       "<tr>\n",
       "  <th>4/5</th>                  <td>    0.4442</td> <td>    0.079</td> <td>    5.652</td> <td> 0.000</td> <td>    0.290</td> <td>    0.598</td>\n",
       "</tr>\n",
       "</table>"
      ],
      "text/latex": [
       "\\begin{center}\n",
       "\\begin{tabular}{lclc}\n",
       "\\toprule\n",
       "\\textbf{Dep. Variable:}       &      quality       & \\textbf{  Log-Likelihood:    } &   -1227.9   \\\\\n",
       "\\textbf{Model:}               &    OrderedModel    & \\textbf{  AIC:               } &     2488.   \\\\\n",
       "\\textbf{Method:}              & Maximum Likelihood & \\textbf{  BIC:               } &     2570.   \\\\\n",
       "\\textbf{Date:}                &  Sun, 08 Oct 2023  & \\textbf{                     } &             \\\\\n",
       "\\textbf{Time:}                &      14:20:57      & \\textbf{                     } &             \\\\\n",
       "\\textbf{No. Observations:}    &         1278       & \\textbf{                     } &             \\\\\n",
       "\\textbf{Df Residuals:}        &         1262       & \\textbf{                     } &             \\\\\n",
       "\\textbf{Df Model:}            &           11       & \\textbf{                     } &             \\\\\n",
       "\\bottomrule\n",
       "\\end{tabular}\n",
       "\\begin{tabular}{lcccccc}\n",
       "                              & \\textbf{coef} & \\textbf{std err} & \\textbf{z} & \\textbf{P$> |$z$|$} & \\textbf{[0.025} & \\textbf{0.975]}  \\\\\n",
       "\\midrule\n",
       "\\textbf{fixed acidity}        &       0.0113  &        0.050     &     0.229  &         0.819        &       -0.086    &        0.109     \\\\\n",
       "\\textbf{volatile acidity}     &      -1.8174  &        0.240     &    -7.568  &         0.000        &       -2.288    &       -1.347     \\\\\n",
       "\\textbf{citric acid}          &      -0.0840  &        0.292     &    -0.288  &         0.773        &       -0.655    &        0.487     \\\\\n",
       "\\textbf{residual sugar}       &       0.0359  &        0.028     &     1.284  &         0.199        &       -0.019    &        0.091     \\\\\n",
       "\\textbf{chlorides}            &      -3.7313  &        0.790     &    -4.724  &         0.000        &       -5.279    &       -2.183     \\\\\n",
       "\\textbf{free sulfur dioxide}  &       0.0086  &        0.004     &     2.053  &         0.040        &        0.000    &        0.017     \\\\\n",
       "\\textbf{total sulfur dioxide} &      -0.0065  &        0.001     &    -4.599  &         0.000        &       -0.009    &       -0.004     \\\\\n",
       "\\textbf{density}              &      -0.8882  &       41.865     &    -0.021  &         0.983        &      -82.942    &       81.165     \\\\\n",
       "\\textbf{pH}                   &      -0.7541  &        0.368     &    -2.049  &         0.040        &       -1.475    &       -0.033     \\\\\n",
       "\\textbf{sulphates}            &       1.4685  &        0.219     &     6.718  &         0.000        &        1.040    &        1.897     \\\\\n",
       "\\textbf{alcohol}              &       0.4923  &        0.053     &     9.354  &         0.000        &        0.389    &        0.595     \\\\\n",
       "\\textbf{0/1}                  &      -1.6032  &       41.025     &    -0.039  &         0.969        &      -82.011    &       78.805     \\\\\n",
       "\\textbf{1/2}                  &      -0.2018  &        0.159     &    -1.269  &         0.204        &       -0.513    &        0.110     \\\\\n",
       "\\textbf{2/3}                  &       0.7135  &        0.038     &    18.594  &         0.000        &        0.638    &        0.789     \\\\\n",
       "\\textbf{3/4}                  &       0.4940  &        0.039     &    12.601  &         0.000        &        0.417    &        0.571     \\\\\n",
       "\\textbf{4/5}                  &       0.4442  &        0.079     &     5.652  &         0.000        &        0.290    &        0.598     \\\\\n",
       "\\bottomrule\n",
       "\\end{tabular}\n",
       "%\\caption{OrderedModel Results}\n",
       "\\end{center}"
      ],
      "text/plain": [
       "<class 'statsmodels.iolib.summary.Summary'>\n",
       "\"\"\"\n",
       "                             OrderedModel Results                             \n",
       "==============================================================================\n",
       "Dep. Variable:                quality   Log-Likelihood:                -1227.9\n",
       "Model:                   OrderedModel   AIC:                             2488.\n",
       "Method:            Maximum Likelihood   BIC:                             2570.\n",
       "Date:                Sun, 08 Oct 2023                                         \n",
       "Time:                        14:20:57                                         \n",
       "No. Observations:                1278                                         \n",
       "Df Residuals:                    1262                                         \n",
       "Df Model:                          11                                         \n",
       "========================================================================================\n",
       "                           coef    std err          z      P>|z|      [0.025      0.975]\n",
       "----------------------------------------------------------------------------------------\n",
       "fixed acidity            0.0113      0.050      0.229      0.819      -0.086       0.109\n",
       "volatile acidity        -1.8174      0.240     -7.568      0.000      -2.288      -1.347\n",
       "citric acid             -0.0840      0.292     -0.288      0.773      -0.655       0.487\n",
       "residual sugar           0.0359      0.028      1.284      0.199      -0.019       0.091\n",
       "chlorides               -3.7313      0.790     -4.724      0.000      -5.279      -2.183\n",
       "free sulfur dioxide      0.0086      0.004      2.053      0.040       0.000       0.017\n",
       "total sulfur dioxide    -0.0065      0.001     -4.599      0.000      -0.009      -0.004\n",
       "density                 -0.8882     41.865     -0.021      0.983     -82.942      81.165\n",
       "pH                      -0.7541      0.368     -2.049      0.040      -1.475      -0.033\n",
       "sulphates                1.4685      0.219      6.718      0.000       1.040       1.897\n",
       "alcohol                  0.4923      0.053      9.354      0.000       0.389       0.595\n",
       "0/1                     -1.6032     41.025     -0.039      0.969     -82.011      78.805\n",
       "1/2                     -0.2018      0.159     -1.269      0.204      -0.513       0.110\n",
       "2/3                      0.7135      0.038     18.594      0.000       0.638       0.789\n",
       "3/4                      0.4940      0.039     12.601      0.000       0.417       0.571\n",
       "4/5                      0.4442      0.079      5.652      0.000       0.290       0.598\n",
       "========================================================================================\n",
       "\"\"\""
      ]
     },
     "execution_count": 184,
     "metadata": {},
     "output_type": "execute_result"
    }
   ],
   "source": [
    "# Perform ordinal regression on the training dataset\n",
    "red_mod_prob = OrderedModel(red_train_df['quality'], red_train_df.loc[:, red_train_df.columns != 'quality'])\n",
    "# Use the BFGS algorithm to find the maximum likelihood solution\n",
    "red_res_prob = red_mod_prob.fit(method='bfgs')\n",
    "# Summarize the results of training\n",
    "red_res_prob.summary()"
   ]
  },
  {
   "cell_type": "code",
   "execution_count": 185,
   "metadata": {},
   "outputs": [
    {
     "name": "stdout",
     "output_type": "stream",
     "text": [
      "Optimization terminated successfully.\n",
      "         Current function value: 1.123059\n",
      "         Iterations: 112\n",
      "         Function evaluations: 116\n",
      "         Gradient evaluations: 116\n"
     ]
    },
    {
     "data": {
      "text/html": [
       "<table class=\"simpletable\">\n",
       "<caption>OrderedModel Results</caption>\n",
       "<tr>\n",
       "  <th>Dep. Variable:</th>          <td>quality</td>      <th>  Log-Likelihood:    </th> <td> -4400.1</td>\n",
       "</tr>\n",
       "<tr>\n",
       "  <th>Model:</th>               <td>OrderedModel</td>    <th>  AIC:               </th> <td>   8834.</td>\n",
       "</tr>\n",
       "<tr>\n",
       "  <th>Method:</th>           <td>Maximum Likelihood</td> <th>  BIC:               </th> <td>   8941.</td>\n",
       "</tr>\n",
       "<tr>\n",
       "  <th>Date:</th>              <td>Sun, 08 Oct 2023</td>  <th>                     </th>     <td> </td>   \n",
       "</tr>\n",
       "<tr>\n",
       "  <th>Time:</th>                  <td>14:21:07</td>      <th>                     </th>     <td> </td>   \n",
       "</tr>\n",
       "<tr>\n",
       "  <th>No. Observations:</th>       <td>  3918</td>       <th>                     </th>     <td> </td>   \n",
       "</tr>\n",
       "<tr>\n",
       "  <th>Df Residuals:</th>           <td>  3901</td>       <th>                     </th>     <td> </td>   \n",
       "</tr>\n",
       "<tr>\n",
       "  <th>Df Model:</th>               <td>    11</td>       <th>                     </th>     <td> </td>   \n",
       "</tr>\n",
       "</table>\n",
       "<table class=\"simpletable\">\n",
       "<tr>\n",
       "            <td></td>              <th>coef</th>     <th>std err</th>      <th>z</th>      <th>P>|z|</th>  <th>[0.025</th>    <th>0.975]</th>  \n",
       "</tr>\n",
       "<tr>\n",
       "  <th>fixed acidity</th>        <td>    0.1631</td> <td>    0.037</td> <td>    4.417</td> <td> 0.000</td> <td>    0.091</td> <td>    0.236</td>\n",
       "</tr>\n",
       "<tr>\n",
       "  <th>volatile acidity</th>     <td>   -2.8290</td> <td>    0.189</td> <td>  -14.934</td> <td> 0.000</td> <td>   -3.200</td> <td>   -2.458</td>\n",
       "</tr>\n",
       "<tr>\n",
       "  <th>citric acid</th>          <td>    0.0655</td> <td>    0.157</td> <td>    0.418</td> <td> 0.676</td> <td>   -0.241</td> <td>    0.372</td>\n",
       "</tr>\n",
       "<tr>\n",
       "  <th>residual sugar</th>       <td>    0.1475</td> <td>    0.014</td> <td>   10.549</td> <td> 0.000</td> <td>    0.120</td> <td>    0.175</td>\n",
       "</tr>\n",
       "<tr>\n",
       "  <th>chlorides</th>            <td>   -0.4046</td> <td>    0.886</td> <td>   -0.457</td> <td> 0.648</td> <td>   -2.141</td> <td>    1.332</td>\n",
       "</tr>\n",
       "<tr>\n",
       "  <th>free sulfur dioxide</th>  <td>    0.0048</td> <td>    0.001</td> <td>    3.508</td> <td> 0.000</td> <td>    0.002</td> <td>    0.007</td>\n",
       "</tr>\n",
       "<tr>\n",
       "  <th>total sulfur dioxide</th> <td>  3.08e-05</td> <td>    0.001</td> <td>    0.049</td> <td> 0.961</td> <td>   -0.001</td> <td>    0.001</td>\n",
       "</tr>\n",
       "<tr>\n",
       "  <th>density</th>              <td> -311.9295</td> <td>   37.463</td> <td>   -8.326</td> <td> 0.000</td> <td> -385.355</td> <td> -238.504</td>\n",
       "</tr>\n",
       "<tr>\n",
       "  <th>pH</th>                   <td>    1.2175</td> <td>    0.181</td> <td>    6.708</td> <td> 0.000</td> <td>    0.862</td> <td>    1.573</td>\n",
       "</tr>\n",
       "<tr>\n",
       "  <th>sulphates</th>            <td>    0.9914</td> <td>    0.165</td> <td>    6.020</td> <td> 0.000</td> <td>    0.669</td> <td>    1.314</td>\n",
       "</tr>\n",
       "<tr>\n",
       "  <th>alcohol</th>              <td>    0.1610</td> <td>    0.047</td> <td>    3.435</td> <td> 0.001</td> <td>    0.069</td> <td>    0.253</td>\n",
       "</tr>\n",
       "<tr>\n",
       "  <th>0/1</th>                  <td> -305.6479</td> <td>   36.970</td> <td>   -8.267</td> <td> 0.000</td> <td> -378.108</td> <td> -233.188</td>\n",
       "</tr>\n",
       "<tr>\n",
       "  <th>1/2</th>                  <td>   -0.0623</td> <td>    0.092</td> <td>   -0.680</td> <td> 0.497</td> <td>   -0.242</td> <td>    0.117</td>\n",
       "</tr>\n",
       "<tr>\n",
       "  <th>2/3</th>                  <td>    0.4859</td> <td>    0.027</td> <td>   18.015</td> <td> 0.000</td> <td>    0.433</td> <td>    0.539</td>\n",
       "</tr>\n",
       "<tr>\n",
       "  <th>3/4</th>                  <td>    0.4031</td> <td>    0.020</td> <td>   19.852</td> <td> 0.000</td> <td>    0.363</td> <td>    0.443</td>\n",
       "</tr>\n",
       "<tr>\n",
       "  <th>4/5</th>                  <td>    0.1695</td> <td>    0.035</td> <td>    4.880</td> <td> 0.000</td> <td>    0.101</td> <td>    0.238</td>\n",
       "</tr>\n",
       "<tr>\n",
       "  <th>5/6</th>                  <td>    0.3732</td> <td>    0.112</td> <td>    3.327</td> <td> 0.001</td> <td>    0.153</td> <td>    0.593</td>\n",
       "</tr>\n",
       "</table>"
      ],
      "text/latex": [
       "\\begin{center}\n",
       "\\begin{tabular}{lclc}\n",
       "\\toprule\n",
       "\\textbf{Dep. Variable:}       &      quality       & \\textbf{  Log-Likelihood:    } &   -4400.1   \\\\\n",
       "\\textbf{Model:}               &    OrderedModel    & \\textbf{  AIC:               } &     8834.   \\\\\n",
       "\\textbf{Method:}              & Maximum Likelihood & \\textbf{  BIC:               } &     8941.   \\\\\n",
       "\\textbf{Date:}                &  Sun, 08 Oct 2023  & \\textbf{                     } &             \\\\\n",
       "\\textbf{Time:}                &      14:21:07      & \\textbf{                     } &             \\\\\n",
       "\\textbf{No. Observations:}    &         3918       & \\textbf{                     } &             \\\\\n",
       "\\textbf{Df Residuals:}        &         3901       & \\textbf{                     } &             \\\\\n",
       "\\textbf{Df Model:}            &           11       & \\textbf{                     } &             \\\\\n",
       "\\bottomrule\n",
       "\\end{tabular}\n",
       "\\begin{tabular}{lcccccc}\n",
       "                              & \\textbf{coef} & \\textbf{std err} & \\textbf{z} & \\textbf{P$> |$z$|$} & \\textbf{[0.025} & \\textbf{0.975]}  \\\\\n",
       "\\midrule\n",
       "\\textbf{fixed acidity}        &       0.1631  &        0.037     &     4.417  &         0.000        &        0.091    &        0.236     \\\\\n",
       "\\textbf{volatile acidity}     &      -2.8290  &        0.189     &   -14.934  &         0.000        &       -3.200    &       -2.458     \\\\\n",
       "\\textbf{citric acid}          &       0.0655  &        0.157     &     0.418  &         0.676        &       -0.241    &        0.372     \\\\\n",
       "\\textbf{residual sugar}       &       0.1475  &        0.014     &    10.549  &         0.000        &        0.120    &        0.175     \\\\\n",
       "\\textbf{chlorides}            &      -0.4046  &        0.886     &    -0.457  &         0.648        &       -2.141    &        1.332     \\\\\n",
       "\\textbf{free sulfur dioxide}  &       0.0048  &        0.001     &     3.508  &         0.000        &        0.002    &        0.007     \\\\\n",
       "\\textbf{total sulfur dioxide} &     3.08e-05  &        0.001     &     0.049  &         0.961        &       -0.001    &        0.001     \\\\\n",
       "\\textbf{density}              &    -311.9295  &       37.463     &    -8.326  &         0.000        &     -385.355    &     -238.504     \\\\\n",
       "\\textbf{pH}                   &       1.2175  &        0.181     &     6.708  &         0.000        &        0.862    &        1.573     \\\\\n",
       "\\textbf{sulphates}            &       0.9914  &        0.165     &     6.020  &         0.000        &        0.669    &        1.314     \\\\\n",
       "\\textbf{alcohol}              &       0.1610  &        0.047     &     3.435  &         0.001        &        0.069    &        0.253     \\\\\n",
       "\\textbf{0/1}                  &    -305.6479  &       36.970     &    -8.267  &         0.000        &     -378.108    &     -233.188     \\\\\n",
       "\\textbf{1/2}                  &      -0.0623  &        0.092     &    -0.680  &         0.497        &       -0.242    &        0.117     \\\\\n",
       "\\textbf{2/3}                  &       0.4859  &        0.027     &    18.015  &         0.000        &        0.433    &        0.539     \\\\\n",
       "\\textbf{3/4}                  &       0.4031  &        0.020     &    19.852  &         0.000        &        0.363    &        0.443     \\\\\n",
       "\\textbf{4/5}                  &       0.1695  &        0.035     &     4.880  &         0.000        &        0.101    &        0.238     \\\\\n",
       "\\textbf{5/6}                  &       0.3732  &        0.112     &     3.327  &         0.001        &        0.153    &        0.593     \\\\\n",
       "\\bottomrule\n",
       "\\end{tabular}\n",
       "%\\caption{OrderedModel Results}\n",
       "\\end{center}"
      ],
      "text/plain": [
       "<class 'statsmodels.iolib.summary.Summary'>\n",
       "\"\"\"\n",
       "                             OrderedModel Results                             \n",
       "==============================================================================\n",
       "Dep. Variable:                quality   Log-Likelihood:                -4400.1\n",
       "Model:                   OrderedModel   AIC:                             8834.\n",
       "Method:            Maximum Likelihood   BIC:                             8941.\n",
       "Date:                Sun, 08 Oct 2023                                         \n",
       "Time:                        14:21:07                                         \n",
       "No. Observations:                3918                                         \n",
       "Df Residuals:                    3901                                         \n",
       "Df Model:                          11                                         \n",
       "========================================================================================\n",
       "                           coef    std err          z      P>|z|      [0.025      0.975]\n",
       "----------------------------------------------------------------------------------------\n",
       "fixed acidity            0.1631      0.037      4.417      0.000       0.091       0.236\n",
       "volatile acidity        -2.8290      0.189    -14.934      0.000      -3.200      -2.458\n",
       "citric acid              0.0655      0.157      0.418      0.676      -0.241       0.372\n",
       "residual sugar           0.1475      0.014     10.549      0.000       0.120       0.175\n",
       "chlorides               -0.4046      0.886     -0.457      0.648      -2.141       1.332\n",
       "free sulfur dioxide      0.0048      0.001      3.508      0.000       0.002       0.007\n",
       "total sulfur dioxide   3.08e-05      0.001      0.049      0.961      -0.001       0.001\n",
       "density               -311.9295     37.463     -8.326      0.000    -385.355    -238.504\n",
       "pH                       1.2175      0.181      6.708      0.000       0.862       1.573\n",
       "sulphates                0.9914      0.165      6.020      0.000       0.669       1.314\n",
       "alcohol                  0.1610      0.047      3.435      0.001       0.069       0.253\n",
       "0/1                   -305.6479     36.970     -8.267      0.000    -378.108    -233.188\n",
       "1/2                     -0.0623      0.092     -0.680      0.497      -0.242       0.117\n",
       "2/3                      0.4859      0.027     18.015      0.000       0.433       0.539\n",
       "3/4                      0.4031      0.020     19.852      0.000       0.363       0.443\n",
       "4/5                      0.1695      0.035      4.880      0.000       0.101       0.238\n",
       "5/6                      0.3732      0.112      3.327      0.001       0.153       0.593\n",
       "========================================================================================\n",
       "\"\"\""
      ]
     },
     "execution_count": 185,
     "metadata": {},
     "output_type": "execute_result"
    }
   ],
   "source": [
    "# Perform ordinal regression on the training dataset\n",
    "white_mod_prob = OrderedModel(white_train_df['quality'], white_train_df.loc[:, white_train_df.columns != 'quality'])\n",
    "# Use the BFGS algorithm to find the maximum likelihood solution\n",
    "white_res_prob = white_mod_prob.fit(method='bfgs')\n",
    "# Summarize the results of training\n",
    "white_res_prob.summary()"
   ]
  },
  {
   "cell_type": "markdown",
   "metadata": {},
   "source": [
    "### Linear Regression\n",
    "\n",
    "We use `scikit-learn` to perform a standard linear regression on the data, by treating `quality` to be a real-valued dependent variable."
   ]
  },
  {
   "cell_type": "code",
   "execution_count": 186,
   "metadata": {},
   "outputs": [
    {
     "name": "stdout",
     "output_type": "stream",
     "text": [
      "Parameters for red wine: [ 2.49905527e-02 -1.08359026e+00 -1.82563948e-01  1.63312698e-02\n",
      " -1.87422516e+00  4.36133331e-03 -3.26457970e-03 -1.78811638e+01\n",
      " -4.13653144e-01  9.16334413e-01  2.76197699e-01]\n",
      "Parameters for white wine: [ 6.55199614e-02 -1.86317709e+00  2.20902007e-02  8.14828026e-02\n",
      " -2.47276537e-01  3.73276519e-03 -2.85747419e-04 -1.50284181e+02\n",
      "  6.86343742e-01  6.31476473e-01  1.93475697e-01]\n"
     ]
    }
   ],
   "source": [
    "# Perform linear regression on training data\n",
    "red_reg = LinearRegression().fit(red_df.loc[:, red_df.columns != 'quality'], red_df['quality'])\n",
    "white_reg = LinearRegression().fit(white_df.loc[:, white_df.columns != 'quality'], white_df['quality'])\n",
    "# Show parameter coefficients for the linear models\n",
    "print(\"Parameters for red wine:\", red_reg.coef_)\n",
    "print(\"Parameters for white wine:\", white_reg.coef_)"
   ]
  },
  {
   "cell_type": "markdown",
   "metadata": {},
   "source": [
    "## Testing\n",
    "\n",
    "### Ordinal Regression\n",
    "\n",
    "Since the ordinal data contains small integers, the _root mean squared error_ (RMSE) is a good evaluation metric."
   ]
  },
  {
   "cell_type": "code",
   "execution_count": 187,
   "metadata": {},
   "outputs": [
    {
     "name": "stdout",
     "output_type": "stream",
     "text": [
      "RMSE for red wine: 0.7194052124144799\n",
      "RMSE for white wine: 0.806946584785929\n"
     ]
    }
   ],
   "source": [
    "# Predict class based on maximum probability\n",
    "red_ord_pred = red_res_prob.predict(red_test_df.loc[:, red_test_df.columns != 'quality']).idxmax(axis=1)\n",
    "white_ord_pred = white_res_prob.predict(white_test_df.loc[:, white_test_df.columns != 'quality']).idxmax(axis=1)\n",
    "# Calculate RMSE from correct labels\n",
    "red_ord_rmse = ((red_ord_pred - red_test_df['quality'])**2).mean()**0.5\n",
    "white_ord_rmse = ((white_ord_pred - white_test_df['quality'])**2).mean()**0.5\n",
    "print(\"RMSE for red wine:\", red_ord_rmse)\n",
    "print(\"RMSE for white wine:\", white_ord_rmse)"
   ]
  },
  {
   "cell_type": "markdown",
   "metadata": {},
   "source": [
    "### Linear Regression\n",
    "\n",
    "As per usual, a linear regression model is evaluated using the RMSE."
   ]
  },
  {
   "cell_type": "code",
   "execution_count": 188,
   "metadata": {},
   "outputs": [
    {
     "name": "stdout",
     "output_type": "stream",
     "text": [
      "RMSE for red wine: 0.6730945439280761\n",
      "RMSE for white wine: 0.7493466349620683\n"
     ]
    }
   ],
   "source": [
    "# Perform predictions on test data\n",
    "red_reg_pred = red_reg.predict(red_test_df.loc[:, red_test_df.columns != 'quality'])\n",
    "white_reg_pred = white_reg.predict(white_test_df.loc[:, white_test_df.columns != 'quality'])\n",
    "# Compute RMSE of predictions\n",
    "red_reg_rmse = ((red_reg_pred - red_test_df['quality'])**2).mean()**0.5\n",
    "white_reg_rmse = ((white_reg_pred - white_test_df['quality'])**2).mean()**0.5\n",
    "print(\"RMSE for red wine:\", red_reg_rmse)\n",
    "print(\"RMSE for white wine:\", white_reg_rmse)"
   ]
  },
  {
   "cell_type": "markdown",
   "metadata": {},
   "source": [
    "## Results\n",
    "\n",
    "On most runs, it seems that linear regression performs slightly better than ordinal regression, on ordinal data! The possible reasons for this are as follows.\n",
    "\n",
    "1. The ordinal data corresponds to small integers.\n",
    "2. The interval classes are spaced apart equally, and linear regression performs equally well in these cases."
   ]
  }
 ],
 "metadata": {
  "kernelspec": {
   "display_name": ".pyvenv",
   "language": "python",
   "name": "python3"
  },
  "language_info": {
   "codemirror_mode": {
    "name": "ipython",
    "version": 3
   },
   "file_extension": ".py",
   "mimetype": "text/x-python",
   "name": "python",
   "nbconvert_exporter": "python",
   "pygments_lexer": "ipython3",
   "version": "3.11.5"
  }
 },
 "nbformat": 4,
 "nbformat_minor": 2
}
