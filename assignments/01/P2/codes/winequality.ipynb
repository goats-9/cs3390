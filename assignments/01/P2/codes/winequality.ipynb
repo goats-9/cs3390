{
 "cells": [
  {
   "cell_type": "markdown",
   "metadata": {},
   "source": [
    "# Predicting Wine Quality Using Linear and Ordinal Regression\n",
    "\n",
    "### Authors\n",
    "\n",
    "| Name | Roll Number |\n",
    "| - | - |\n",
    "| Gautam Singh | CS21BTECH11018 |\n",
    "| Jaswanth Beere | BM21BTECH11007 |\n",
    "\n",
    "This `.ipynb` file predicts the quality of wine using ordinal regression Packages in Python."
   ]
  },
  {
   "cell_type": "markdown",
   "metadata": {},
   "source": [
    "## Package Imports\n",
    "\n",
    "The required packages for the prediction are specified here"
   ]
  },
  {
   "cell_type": "code",
   "execution_count": 9,
   "metadata": {},
   "outputs": [],
   "source": [
    "import numpy as np\n",
    "import pandas as pd\n",
    "from sklearn.linear_model import LinearRegression\n",
    "from statsmodels.miscmodels.ordinal_model import OrderedModel"
   ]
  },
  {
   "cell_type": "markdown",
   "metadata": {},
   "source": [
    "## Loading Datasets\n",
    "\n",
    "The `pandas` library is used to load the `csv` files."
   ]
  },
  {
   "cell_type": "code",
   "execution_count": 10,
   "metadata": {},
   "outputs": [],
   "source": [
    "red_df = pd.read_csv('https://archive.ics.uci.edu/ml/machine-learning-databases/wine-quality/winequality-red.csv', sep=';')\n",
    "white_df = pd.read_csv('https://archive.ics.uci.edu/ml/machine-learning-databases/wine-quality/winequality-white.csv', sep=';')"
   ]
  },
  {
   "cell_type": "markdown",
   "metadata": {},
   "source": [
    "From the dataset, it is clear that the `quality` variable is ordinal with ratings ranging from 3 to 9, while the other variables are real-valued. We require to predict the value of `quality` given the other independent variables. We use an ordinal regression model as well as a linear regression model for the same and compare the performance of both models."
   ]
  },
  {
   "cell_type": "markdown",
   "metadata": {},
   "source": [
    "### Preprocessing\n",
    "\n",
    "Each dataset is split as follows using _proportional sampling_. This is because the ratings are not evenly distributed, and thus using random sampling may not generate an optimal model.\n",
    "1. 80 percent _training_ data.\n",
    "2. 20 percent _test_ data.\n",
    "\n",
    "Before splitting the data, we adjust the ratings so that the smallest rating is zero."
   ]
  },
  {
   "cell_type": "code",
   "execution_count": 11,
   "metadata": {},
   "outputs": [],
   "source": [
    "# Adjust ratings to start from zero onwards\n",
    "red_df['quality'] -= red_df['quality'].min()\n",
    "white_df['quality'] -= white_df['quality'].min()\n",
    "# Proportionally sample from dataset to create training dataset\n",
    "red_train_df = red_df.groupby('quality').apply(lambda x : x.sample(frac=0.8)).reset_index(drop=True)\n",
    "white_train_df = white_df.groupby('quality').apply(lambda x : x.sample(frac=0.8)).reset_index(drop=True)\n",
    "# The remaining data becomes the test dataset\n",
    "red_test_df = pd.concat([red_df, red_train_df]).drop_duplicates(keep=False).reset_index(drop=True)\n",
    "white_test_df = pd.concat([white_df, white_train_df]).drop_duplicates(keep=False).reset_index(drop=True)"
   ]
  },
  {
   "cell_type": "markdown",
   "metadata": {},
   "source": [
    "## Training\n",
    "\n",
    "### Ordinal Regression\n",
    "\n",
    "The `statsmodels` library is used to perform ordinal regression on the given dataset."
   ]
  },
  {
   "cell_type": "code",
   "execution_count": 12,
   "metadata": {},
   "outputs": [
    {
     "name": "stdout",
     "output_type": "stream",
     "text": [
      "Optimization terminated successfully.\n",
      "         Current function value: 0.959643\n",
      "         Iterations: 68\n",
      "         Function evaluations: 71\n",
      "         Gradient evaluations: 71\n"
     ]
    },
    {
     "data": {
      "text/html": [
       "<table class=\"simpletable\">\n",
       "<caption>OrderedModel Results</caption>\n",
       "<tr>\n",
       "  <th>Dep. Variable:</th>          <td>quality</td>      <th>  Log-Likelihood:    </th> <td> -1226.4</td>\n",
       "</tr>\n",
       "<tr>\n",
       "  <th>Model:</th>               <td>OrderedModel</td>    <th>  AIC:               </th> <td>   2485.</td>\n",
       "</tr>\n",
       "<tr>\n",
       "  <th>Method:</th>           <td>Maximum Likelihood</td> <th>  BIC:               </th> <td>   2567.</td>\n",
       "</tr>\n",
       "<tr>\n",
       "  <th>Date:</th>              <td>Sun, 08 Oct 2023</td>  <th>                     </th>     <td> </td>   \n",
       "</tr>\n",
       "<tr>\n",
       "  <th>Time:</th>                  <td>22:14:10</td>      <th>                     </th>     <td> </td>   \n",
       "</tr>\n",
       "<tr>\n",
       "  <th>No. Observations:</th>       <td>  1278</td>       <th>                     </th>     <td> </td>   \n",
       "</tr>\n",
       "<tr>\n",
       "  <th>Df Residuals:</th>           <td>  1262</td>       <th>                     </th>     <td> </td>   \n",
       "</tr>\n",
       "<tr>\n",
       "  <th>Df Model:</th>               <td>    11</td>       <th>                     </th>     <td> </td>   \n",
       "</tr>\n",
       "</table>\n",
       "<table class=\"simpletable\">\n",
       "<tr>\n",
       "            <td></td>              <th>coef</th>     <th>std err</th>      <th>z</th>      <th>P>|z|</th>  <th>[0.025</th>    <th>0.975]</th>  \n",
       "</tr>\n",
       "<tr>\n",
       "  <th>fixed acidity</th>        <td>    0.0141</td> <td>    0.050</td> <td>    0.279</td> <td> 0.780</td> <td>   -0.085</td> <td>    0.113</td>\n",
       "</tr>\n",
       "<tr>\n",
       "  <th>volatile acidity</th>     <td>   -2.0449</td> <td>    0.250</td> <td>   -8.167</td> <td> 0.000</td> <td>   -2.536</td> <td>   -1.554</td>\n",
       "</tr>\n",
       "<tr>\n",
       "  <th>citric acid</th>          <td>   -0.3542</td> <td>    0.288</td> <td>   -1.228</td> <td> 0.219</td> <td>   -0.919</td> <td>    0.211</td>\n",
       "</tr>\n",
       "<tr>\n",
       "  <th>residual sugar</th>       <td>    0.0139</td> <td>    0.029</td> <td>    0.476</td> <td> 0.634</td> <td>   -0.043</td> <td>    0.071</td>\n",
       "</tr>\n",
       "<tr>\n",
       "  <th>chlorides</th>            <td>   -2.5133</td> <td>    0.832</td> <td>   -3.019</td> <td> 0.003</td> <td>   -4.145</td> <td>   -0.882</td>\n",
       "</tr>\n",
       "<tr>\n",
       "  <th>free sulfur dioxide</th>  <td>    0.0116</td> <td>    0.004</td> <td>    2.773</td> <td> 0.006</td> <td>    0.003</td> <td>    0.020</td>\n",
       "</tr>\n",
       "<tr>\n",
       "  <th>total sulfur dioxide</th> <td>   -0.0066</td> <td>    0.001</td> <td>   -4.705</td> <td> 0.000</td> <td>   -0.009</td> <td>   -0.004</td>\n",
       "</tr>\n",
       "<tr>\n",
       "  <th>density</th>              <td>   -0.6888</td> <td>   41.924</td> <td>   -0.016</td> <td> 0.987</td> <td>  -82.858</td> <td>   81.480</td>\n",
       "</tr>\n",
       "<tr>\n",
       "  <th>pH</th>                   <td>   -0.9062</td> <td>    0.381</td> <td>   -2.380</td> <td> 0.017</td> <td>   -1.653</td> <td>   -0.160</td>\n",
       "</tr>\n",
       "<tr>\n",
       "  <th>sulphates</th>            <td>    1.5501</td> <td>    0.227</td> <td>    6.842</td> <td> 0.000</td> <td>    1.106</td> <td>    1.994</td>\n",
       "</tr>\n",
       "<tr>\n",
       "  <th>alcohol</th>              <td>    0.5074</td> <td>    0.053</td> <td>    9.662</td> <td> 0.000</td> <td>    0.404</td> <td>    0.610</td>\n",
       "</tr>\n",
       "<tr>\n",
       "  <th>0/1</th>                  <td>   -1.8267</td> <td>   41.028</td> <td>   -0.045</td> <td> 0.964</td> <td>  -82.240</td> <td>   78.587</td>\n",
       "</tr>\n",
       "<tr>\n",
       "  <th>1/2</th>                  <td>   -0.1456</td> <td>    0.159</td> <td>   -0.913</td> <td> 0.361</td> <td>   -0.458</td> <td>    0.167</td>\n",
       "</tr>\n",
       "<tr>\n",
       "  <th>2/3</th>                  <td>    0.7202</td> <td>    0.039</td> <td>   18.652</td> <td> 0.000</td> <td>    0.645</td> <td>    0.796</td>\n",
       "</tr>\n",
       "<tr>\n",
       "  <th>3/4</th>                  <td>    0.4915</td> <td>    0.039</td> <td>   12.519</td> <td> 0.000</td> <td>    0.415</td> <td>    0.568</td>\n",
       "</tr>\n",
       "<tr>\n",
       "  <th>4/5</th>                  <td>    0.4499</td> <td>    0.079</td> <td>    5.722</td> <td> 0.000</td> <td>    0.296</td> <td>    0.604</td>\n",
       "</tr>\n",
       "</table>"
      ],
      "text/latex": [
       "\\begin{center}\n",
       "\\begin{tabular}{lclc}\n",
       "\\toprule\n",
       "\\textbf{Dep. Variable:}       &      quality       & \\textbf{  Log-Likelihood:    } &   -1226.4   \\\\\n",
       "\\textbf{Model:}               &    OrderedModel    & \\textbf{  AIC:               } &     2485.   \\\\\n",
       "\\textbf{Method:}              & Maximum Likelihood & \\textbf{  BIC:               } &     2567.   \\\\\n",
       "\\textbf{Date:}                &  Sun, 08 Oct 2023  & \\textbf{                     } &             \\\\\n",
       "\\textbf{Time:}                &      22:14:10      & \\textbf{                     } &             \\\\\n",
       "\\textbf{No. Observations:}    &         1278       & \\textbf{                     } &             \\\\\n",
       "\\textbf{Df Residuals:}        &         1262       & \\textbf{                     } &             \\\\\n",
       "\\textbf{Df Model:}            &           11       & \\textbf{                     } &             \\\\\n",
       "\\bottomrule\n",
       "\\end{tabular}\n",
       "\\begin{tabular}{lcccccc}\n",
       "                              & \\textbf{coef} & \\textbf{std err} & \\textbf{z} & \\textbf{P$> |$z$|$} & \\textbf{[0.025} & \\textbf{0.975]}  \\\\\n",
       "\\midrule\n",
       "\\textbf{fixed acidity}        &       0.0141  &        0.050     &     0.279  &         0.780        &       -0.085    &        0.113     \\\\\n",
       "\\textbf{volatile acidity}     &      -2.0449  &        0.250     &    -8.167  &         0.000        &       -2.536    &       -1.554     \\\\\n",
       "\\textbf{citric acid}          &      -0.3542  &        0.288     &    -1.228  &         0.219        &       -0.919    &        0.211     \\\\\n",
       "\\textbf{residual sugar}       &       0.0139  &        0.029     &     0.476  &         0.634        &       -0.043    &        0.071     \\\\\n",
       "\\textbf{chlorides}            &      -2.5133  &        0.832     &    -3.019  &         0.003        &       -4.145    &       -0.882     \\\\\n",
       "\\textbf{free sulfur dioxide}  &       0.0116  &        0.004     &     2.773  &         0.006        &        0.003    &        0.020     \\\\\n",
       "\\textbf{total sulfur dioxide} &      -0.0066  &        0.001     &    -4.705  &         0.000        &       -0.009    &       -0.004     \\\\\n",
       "\\textbf{density}              &      -0.6888  &       41.924     &    -0.016  &         0.987        &      -82.858    &       81.480     \\\\\n",
       "\\textbf{pH}                   &      -0.9062  &        0.381     &    -2.380  &         0.017        &       -1.653    &       -0.160     \\\\\n",
       "\\textbf{sulphates}            &       1.5501  &        0.227     &     6.842  &         0.000        &        1.106    &        1.994     \\\\\n",
       "\\textbf{alcohol}              &       0.5074  &        0.053     &     9.662  &         0.000        &        0.404    &        0.610     \\\\\n",
       "\\textbf{0/1}                  &      -1.8267  &       41.028     &    -0.045  &         0.964        &      -82.240    &       78.587     \\\\\n",
       "\\textbf{1/2}                  &      -0.1456  &        0.159     &    -0.913  &         0.361        &       -0.458    &        0.167     \\\\\n",
       "\\textbf{2/3}                  &       0.7202  &        0.039     &    18.652  &         0.000        &        0.645    &        0.796     \\\\\n",
       "\\textbf{3/4}                  &       0.4915  &        0.039     &    12.519  &         0.000        &        0.415    &        0.568     \\\\\n",
       "\\textbf{4/5}                  &       0.4499  &        0.079     &     5.722  &         0.000        &        0.296    &        0.604     \\\\\n",
       "\\bottomrule\n",
       "\\end{tabular}\n",
       "%\\caption{OrderedModel Results}\n",
       "\\end{center}"
      ],
      "text/plain": [
       "<class 'statsmodels.iolib.summary.Summary'>\n",
       "\"\"\"\n",
       "                             OrderedModel Results                             \n",
       "==============================================================================\n",
       "Dep. Variable:                quality   Log-Likelihood:                -1226.4\n",
       "Model:                   OrderedModel   AIC:                             2485.\n",
       "Method:            Maximum Likelihood   BIC:                             2567.\n",
       "Date:                Sun, 08 Oct 2023                                         \n",
       "Time:                        22:14:10                                         \n",
       "No. Observations:                1278                                         \n",
       "Df Residuals:                    1262                                         \n",
       "Df Model:                          11                                         \n",
       "========================================================================================\n",
       "                           coef    std err          z      P>|z|      [0.025      0.975]\n",
       "----------------------------------------------------------------------------------------\n",
       "fixed acidity            0.0141      0.050      0.279      0.780      -0.085       0.113\n",
       "volatile acidity        -2.0449      0.250     -8.167      0.000      -2.536      -1.554\n",
       "citric acid             -0.3542      0.288     -1.228      0.219      -0.919       0.211\n",
       "residual sugar           0.0139      0.029      0.476      0.634      -0.043       0.071\n",
       "chlorides               -2.5133      0.832     -3.019      0.003      -4.145      -0.882\n",
       "free sulfur dioxide      0.0116      0.004      2.773      0.006       0.003       0.020\n",
       "total sulfur dioxide    -0.0066      0.001     -4.705      0.000      -0.009      -0.004\n",
       "density                 -0.6888     41.924     -0.016      0.987     -82.858      81.480\n",
       "pH                      -0.9062      0.381     -2.380      0.017      -1.653      -0.160\n",
       "sulphates                1.5501      0.227      6.842      0.000       1.106       1.994\n",
       "alcohol                  0.5074      0.053      9.662      0.000       0.404       0.610\n",
       "0/1                     -1.8267     41.028     -0.045      0.964     -82.240      78.587\n",
       "1/2                     -0.1456      0.159     -0.913      0.361      -0.458       0.167\n",
       "2/3                      0.7202      0.039     18.652      0.000       0.645       0.796\n",
       "3/4                      0.4915      0.039     12.519      0.000       0.415       0.568\n",
       "4/5                      0.4499      0.079      5.722      0.000       0.296       0.604\n",
       "========================================================================================\n",
       "\"\"\""
      ]
     },
     "execution_count": 12,
     "metadata": {},
     "output_type": "execute_result"
    }
   ],
   "source": [
    "# Perform ordinal regression on the training dataset\n",
    "red_mod_prob = OrderedModel(red_train_df['quality'], red_train_df.loc[:, red_train_df.columns != 'quality'])\n",
    "# Use the BFGS algorithm to find the maximum likelihood solution\n",
    "red_res_prob = red_mod_prob.fit(method='bfgs')\n",
    "# Summarize the results of training\n",
    "red_res_prob.summary()"
   ]
  },
  {
   "cell_type": "code",
   "execution_count": 13,
   "metadata": {},
   "outputs": [
    {
     "name": "stdout",
     "output_type": "stream",
     "text": [
      "Optimization terminated successfully.\n",
      "         Current function value: 1.124708\n",
      "         Iterations: 111\n",
      "         Function evaluations: 115\n",
      "         Gradient evaluations: 115\n"
     ]
    },
    {
     "data": {
      "text/html": [
       "<table class=\"simpletable\">\n",
       "<caption>OrderedModel Results</caption>\n",
       "<tr>\n",
       "  <th>Dep. Variable:</th>          <td>quality</td>      <th>  Log-Likelihood:    </th> <td> -4406.6</td>\n",
       "</tr>\n",
       "<tr>\n",
       "  <th>Model:</th>               <td>OrderedModel</td>    <th>  AIC:               </th> <td>   8847.</td>\n",
       "</tr>\n",
       "<tr>\n",
       "  <th>Method:</th>           <td>Maximum Likelihood</td> <th>  BIC:               </th> <td>   8954.</td>\n",
       "</tr>\n",
       "<tr>\n",
       "  <th>Date:</th>              <td>Sun, 08 Oct 2023</td>  <th>                     </th>     <td> </td>   \n",
       "</tr>\n",
       "<tr>\n",
       "  <th>Time:</th>                  <td>22:14:20</td>      <th>                     </th>     <td> </td>   \n",
       "</tr>\n",
       "<tr>\n",
       "  <th>No. Observations:</th>       <td>  3918</td>       <th>                     </th>     <td> </td>   \n",
       "</tr>\n",
       "<tr>\n",
       "  <th>Df Residuals:</th>           <td>  3901</td>       <th>                     </th>     <td> </td>   \n",
       "</tr>\n",
       "<tr>\n",
       "  <th>Df Model:</th>               <td>    11</td>       <th>                     </th>     <td> </td>   \n",
       "</tr>\n",
       "</table>\n",
       "<table class=\"simpletable\">\n",
       "<tr>\n",
       "            <td></td>              <th>coef</th>     <th>std err</th>      <th>z</th>      <th>P>|z|</th>  <th>[0.025</th>    <th>0.975]</th>  \n",
       "</tr>\n",
       "<tr>\n",
       "  <th>fixed acidity</th>        <td>    0.0780</td> <td>    0.033</td> <td>    2.376</td> <td> 0.018</td> <td>    0.014</td> <td>    0.142</td>\n",
       "</tr>\n",
       "<tr>\n",
       "  <th>volatile acidity</th>     <td>   -2.8390</td> <td>    0.188</td> <td>  -15.078</td> <td> 0.000</td> <td>   -3.208</td> <td>   -2.470</td>\n",
       "</tr>\n",
       "<tr>\n",
       "  <th>citric acid</th>          <td>    0.0231</td> <td>    0.158</td> <td>    0.146</td> <td> 0.884</td> <td>   -0.286</td> <td>    0.333</td>\n",
       "</tr>\n",
       "<tr>\n",
       "  <th>residual sugar</th>       <td>    0.1130</td> <td>    0.012</td> <td>    9.566</td> <td> 0.000</td> <td>    0.090</td> <td>    0.136</td>\n",
       "</tr>\n",
       "<tr>\n",
       "  <th>chlorides</th>            <td>    0.1220</td> <td>    0.874</td> <td>    0.140</td> <td> 0.889</td> <td>   -1.590</td> <td>    1.834</td>\n",
       "</tr>\n",
       "<tr>\n",
       "  <th>free sulfur dioxide</th>  <td>    0.0042</td> <td>    0.001</td> <td>    3.111</td> <td> 0.002</td> <td>    0.002</td> <td>    0.007</td>\n",
       "</tr>\n",
       "<tr>\n",
       "  <th>total sulfur dioxide</th> <td>   -0.0002</td> <td>    0.001</td> <td>   -0.403</td> <td> 0.687</td> <td>   -0.001</td> <td>    0.001</td>\n",
       "</tr>\n",
       "<tr>\n",
       "  <th>density</th>              <td> -191.9481</td> <td>   29.218</td> <td>   -6.569</td> <td> 0.000</td> <td> -249.215</td> <td> -134.681</td>\n",
       "</tr>\n",
       "<tr>\n",
       "  <th>pH</th>                   <td>    0.9461</td> <td>    0.168</td> <td>    5.631</td> <td> 0.000</td> <td>    0.617</td> <td>    1.275</td>\n",
       "</tr>\n",
       "<tr>\n",
       "  <th>sulphates</th>            <td>    0.7576</td> <td>    0.160</td> <td>    4.749</td> <td> 0.000</td> <td>    0.445</td> <td>    1.070</td>\n",
       "</tr>\n",
       "<tr>\n",
       "  <th>alcohol</th>              <td>    0.3172</td> <td>    0.037</td> <td>    8.468</td> <td> 0.000</td> <td>    0.244</td> <td>    0.391</td>\n",
       "</tr>\n",
       "<tr>\n",
       "  <th>0/1</th>                  <td> -186.5655</td> <td>   28.792</td> <td>   -6.480</td> <td> 0.000</td> <td> -242.996</td> <td> -130.135</td>\n",
       "</tr>\n",
       "<tr>\n",
       "  <th>1/2</th>                  <td>   -0.0753</td> <td>    0.091</td> <td>   -0.829</td> <td> 0.407</td> <td>   -0.253</td> <td>    0.103</td>\n",
       "</tr>\n",
       "<tr>\n",
       "  <th>2/3</th>                  <td>    0.4875</td> <td>    0.027</td> <td>   18.043</td> <td> 0.000</td> <td>    0.435</td> <td>    0.541</td>\n",
       "</tr>\n",
       "<tr>\n",
       "  <th>3/4</th>                  <td>    0.4013</td> <td>    0.020</td> <td>   19.757</td> <td> 0.000</td> <td>    0.361</td> <td>    0.441</td>\n",
       "</tr>\n",
       "<tr>\n",
       "  <th>4/5</th>                  <td>    0.1658</td> <td>    0.035</td> <td>    4.771</td> <td> 0.000</td> <td>    0.098</td> <td>    0.234</td>\n",
       "</tr>\n",
       "<tr>\n",
       "  <th>5/6</th>                  <td>    0.3683</td> <td>    0.112</td> <td>    3.289</td> <td> 0.001</td> <td>    0.149</td> <td>    0.588</td>\n",
       "</tr>\n",
       "</table>"
      ],
      "text/latex": [
       "\\begin{center}\n",
       "\\begin{tabular}{lclc}\n",
       "\\toprule\n",
       "\\textbf{Dep. Variable:}       &      quality       & \\textbf{  Log-Likelihood:    } &   -4406.6   \\\\\n",
       "\\textbf{Model:}               &    OrderedModel    & \\textbf{  AIC:               } &     8847.   \\\\\n",
       "\\textbf{Method:}              & Maximum Likelihood & \\textbf{  BIC:               } &     8954.   \\\\\n",
       "\\textbf{Date:}                &  Sun, 08 Oct 2023  & \\textbf{                     } &             \\\\\n",
       "\\textbf{Time:}                &      22:14:20      & \\textbf{                     } &             \\\\\n",
       "\\textbf{No. Observations:}    &         3918       & \\textbf{                     } &             \\\\\n",
       "\\textbf{Df Residuals:}        &         3901       & \\textbf{                     } &             \\\\\n",
       "\\textbf{Df Model:}            &           11       & \\textbf{                     } &             \\\\\n",
       "\\bottomrule\n",
       "\\end{tabular}\n",
       "\\begin{tabular}{lcccccc}\n",
       "                              & \\textbf{coef} & \\textbf{std err} & \\textbf{z} & \\textbf{P$> |$z$|$} & \\textbf{[0.025} & \\textbf{0.975]}  \\\\\n",
       "\\midrule\n",
       "\\textbf{fixed acidity}        &       0.0780  &        0.033     &     2.376  &         0.018        &        0.014    &        0.142     \\\\\n",
       "\\textbf{volatile acidity}     &      -2.8390  &        0.188     &   -15.078  &         0.000        &       -3.208    &       -2.470     \\\\\n",
       "\\textbf{citric acid}          &       0.0231  &        0.158     &     0.146  &         0.884        &       -0.286    &        0.333     \\\\\n",
       "\\textbf{residual sugar}       &       0.1130  &        0.012     &     9.566  &         0.000        &        0.090    &        0.136     \\\\\n",
       "\\textbf{chlorides}            &       0.1220  &        0.874     &     0.140  &         0.889        &       -1.590    &        1.834     \\\\\n",
       "\\textbf{free sulfur dioxide}  &       0.0042  &        0.001     &     3.111  &         0.002        &        0.002    &        0.007     \\\\\n",
       "\\textbf{total sulfur dioxide} &      -0.0002  &        0.001     &    -0.403  &         0.687        &       -0.001    &        0.001     \\\\\n",
       "\\textbf{density}              &    -191.9481  &       29.218     &    -6.569  &         0.000        &     -249.215    &     -134.681     \\\\\n",
       "\\textbf{pH}                   &       0.9461  &        0.168     &     5.631  &         0.000        &        0.617    &        1.275     \\\\\n",
       "\\textbf{sulphates}            &       0.7576  &        0.160     &     4.749  &         0.000        &        0.445    &        1.070     \\\\\n",
       "\\textbf{alcohol}              &       0.3172  &        0.037     &     8.468  &         0.000        &        0.244    &        0.391     \\\\\n",
       "\\textbf{0/1}                  &    -186.5655  &       28.792     &    -6.480  &         0.000        &     -242.996    &     -130.135     \\\\\n",
       "\\textbf{1/2}                  &      -0.0753  &        0.091     &    -0.829  &         0.407        &       -0.253    &        0.103     \\\\\n",
       "\\textbf{2/3}                  &       0.4875  &        0.027     &    18.043  &         0.000        &        0.435    &        0.541     \\\\\n",
       "\\textbf{3/4}                  &       0.4013  &        0.020     &    19.757  &         0.000        &        0.361    &        0.441     \\\\\n",
       "\\textbf{4/5}                  &       0.1658  &        0.035     &     4.771  &         0.000        &        0.098    &        0.234     \\\\\n",
       "\\textbf{5/6}                  &       0.3683  &        0.112     &     3.289  &         0.001        &        0.149    &        0.588     \\\\\n",
       "\\bottomrule\n",
       "\\end{tabular}\n",
       "%\\caption{OrderedModel Results}\n",
       "\\end{center}"
      ],
      "text/plain": [
       "<class 'statsmodels.iolib.summary.Summary'>\n",
       "\"\"\"\n",
       "                             OrderedModel Results                             \n",
       "==============================================================================\n",
       "Dep. Variable:                quality   Log-Likelihood:                -4406.6\n",
       "Model:                   OrderedModel   AIC:                             8847.\n",
       "Method:            Maximum Likelihood   BIC:                             8954.\n",
       "Date:                Sun, 08 Oct 2023                                         \n",
       "Time:                        22:14:20                                         \n",
       "No. Observations:                3918                                         \n",
       "Df Residuals:                    3901                                         \n",
       "Df Model:                          11                                         \n",
       "========================================================================================\n",
       "                           coef    std err          z      P>|z|      [0.025      0.975]\n",
       "----------------------------------------------------------------------------------------\n",
       "fixed acidity            0.0780      0.033      2.376      0.018       0.014       0.142\n",
       "volatile acidity        -2.8390      0.188    -15.078      0.000      -3.208      -2.470\n",
       "citric acid              0.0231      0.158      0.146      0.884      -0.286       0.333\n",
       "residual sugar           0.1130      0.012      9.566      0.000       0.090       0.136\n",
       "chlorides                0.1220      0.874      0.140      0.889      -1.590       1.834\n",
       "free sulfur dioxide      0.0042      0.001      3.111      0.002       0.002       0.007\n",
       "total sulfur dioxide    -0.0002      0.001     -0.403      0.687      -0.001       0.001\n",
       "density               -191.9481     29.218     -6.569      0.000    -249.215    -134.681\n",
       "pH                       0.9461      0.168      5.631      0.000       0.617       1.275\n",
       "sulphates                0.7576      0.160      4.749      0.000       0.445       1.070\n",
       "alcohol                  0.3172      0.037      8.468      0.000       0.244       0.391\n",
       "0/1                   -186.5655     28.792     -6.480      0.000    -242.996    -130.135\n",
       "1/2                     -0.0753      0.091     -0.829      0.407      -0.253       0.103\n",
       "2/3                      0.4875      0.027     18.043      0.000       0.435       0.541\n",
       "3/4                      0.4013      0.020     19.757      0.000       0.361       0.441\n",
       "4/5                      0.1658      0.035      4.771      0.000       0.098       0.234\n",
       "5/6                      0.3683      0.112      3.289      0.001       0.149       0.588\n",
       "========================================================================================\n",
       "\"\"\""
      ]
     },
     "execution_count": 13,
     "metadata": {},
     "output_type": "execute_result"
    }
   ],
   "source": [
    "# Perform ordinal regression on the training dataset\n",
    "white_mod_prob = OrderedModel(white_train_df['quality'], white_train_df.loc[:, white_train_df.columns != 'quality'])\n",
    "# Use the BFGS algorithm to find the maximum likelihood solution\n",
    "white_res_prob = white_mod_prob.fit(method='bfgs')\n",
    "# Summarize the results of training\n",
    "white_res_prob.summary()"
   ]
  },
  {
   "cell_type": "markdown",
   "metadata": {},
   "source": [
    "### Linear Regression\n",
    "\n",
    "We use `scikit-learn` to perform a standard linear regression on the data, by treating `quality` to be a real-valued dependent variable."
   ]
  },
  {
   "cell_type": "code",
   "execution_count": 14,
   "metadata": {},
   "outputs": [
    {
     "name": "stdout",
     "output_type": "stream",
     "text": [
      "Parameters for red wine: [ 2.49905527e-02 -1.08359026e+00 -1.82563948e-01  1.63312698e-02\n",
      " -1.87422516e+00  4.36133331e-03 -3.26457970e-03 -1.78811638e+01\n",
      " -4.13653144e-01  9.16334413e-01  2.76197699e-01]\n",
      "Parameters for white wine: [ 6.55199614e-02 -1.86317709e+00  2.20902007e-02  8.14828026e-02\n",
      " -2.47276537e-01  3.73276519e-03 -2.85747419e-04 -1.50284181e+02\n",
      "  6.86343742e-01  6.31476473e-01  1.93475697e-01]\n"
     ]
    }
   ],
   "source": [
    "# Perform linear regression on training data\n",
    "red_reg = LinearRegression().fit(red_df.loc[:, red_df.columns != 'quality'], red_df['quality'])\n",
    "white_reg = LinearRegression().fit(white_df.loc[:, white_df.columns != 'quality'], white_df['quality'])\n",
    "# Show parameter coefficients for the linear models\n",
    "print(\"Parameters for red wine:\", red_reg.coef_)\n",
    "print(\"Parameters for white wine:\", white_reg.coef_)"
   ]
  },
  {
   "cell_type": "markdown",
   "metadata": {},
   "source": [
    "## Testing\n",
    "\n",
    "### Ordinal Regression\n",
    "\n",
    "The _root mean squared error_ (RMSE) is a good evaluation metric as per [Gaudette and Japkowicz 2009](https://link.springer.com/chapter/10.1007/978-3-642-01818-3_25), since the ordinal data consists of small integers and deviations from the mean are penalized more severely."
   ]
  },
  {
   "cell_type": "code",
   "execution_count": 15,
   "metadata": {},
   "outputs": [
    {
     "name": "stdout",
     "output_type": "stream",
     "text": [
      "RMSE for red wine: 0.7714542762891773\n",
      "RMSE for white wine: 0.8340576562282991\n"
     ]
    }
   ],
   "source": [
    "# Predict class based on maximum probability\n",
    "red_ord_pred = red_res_prob.predict(red_test_df.loc[:, red_test_df.columns != 'quality']).idxmax(axis=1)\n",
    "white_ord_pred = white_res_prob.predict(white_test_df.loc[:, white_test_df.columns != 'quality']).idxmax(axis=1)\n",
    "# Calculate RMSE from correct labels\n",
    "red_ord_rmse = ((red_ord_pred - red_test_df['quality'])**2).mean()**0.5\n",
    "white_ord_rmse = ((white_ord_pred - white_test_df['quality'])**2).mean()**0.5\n",
    "print(\"RMSE for red wine:\", red_ord_rmse)\n",
    "print(\"RMSE for white wine:\", white_ord_rmse)"
   ]
  },
  {
   "cell_type": "markdown",
   "metadata": {},
   "source": [
    "### Linear Regression\n",
    "\n",
    "As per usual, a linear regression model is evaluated using the RMSE."
   ]
  },
  {
   "cell_type": "code",
   "execution_count": 16,
   "metadata": {},
   "outputs": [
    {
     "name": "stdout",
     "output_type": "stream",
     "text": [
      "RMSE for red wine: 0.6949935995716785\n",
      "RMSE for white wine: 0.7610717259997346\n"
     ]
    }
   ],
   "source": [
    "# Perform predictions on test data\n",
    "red_reg_pred = red_reg.predict(red_test_df.loc[:, red_test_df.columns != 'quality'])\n",
    "white_reg_pred = white_reg.predict(white_test_df.loc[:, white_test_df.columns != 'quality'])\n",
    "# Compute RMSE of predictions\n",
    "red_reg_rmse = ((red_reg_pred - red_test_df['quality'])**2).mean()**0.5\n",
    "white_reg_rmse = ((white_reg_pred - white_test_df['quality'])**2).mean()**0.5\n",
    "print(\"RMSE for red wine:\", red_reg_rmse)\n",
    "print(\"RMSE for white wine:\", white_reg_rmse)"
   ]
  },
  {
   "cell_type": "markdown",
   "metadata": {},
   "source": [
    "## Results\n",
    "\n",
    "On most runs, it seems that linear regression performs slightly better than ordinal regression, on ordinal data! The possible reasons for this are as follows.\n",
    "\n",
    "1. The ordinal data corresponds to small integers.\n",
    "2. The interval classes are spaced apart equally, and linear regression performs equally well in these cases.\n",
    "\n",
    "However, the downside of using linear regression is a lack of interpretability even though it is a simpler model to work with. Thus, ordinal regression would still be preferred given its high interpretability at the cost of a small increase in RMSE."
   ]
  }
 ],
 "metadata": {
  "kernelspec": {
   "display_name": ".pyvenv",
   "language": "python",
   "name": "python3"
  },
  "language_info": {
   "codemirror_mode": {
    "name": "ipython",
    "version": 3
   },
   "file_extension": ".py",
   "mimetype": "text/x-python",
   "name": "python",
   "nbconvert_exporter": "python",
   "pygments_lexer": "ipython3",
   "version": "3.11.5"
  }
 },
 "nbformat": 4,
 "nbformat_minor": 2
}
