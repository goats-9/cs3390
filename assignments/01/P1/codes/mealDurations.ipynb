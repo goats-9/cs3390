{
  "cells": [
    {
      "cell_type": "markdown",
      "metadata": {},
      "source": [
        "# Perform exploratory data analysis and plots time taken against different days for each of meal type\n",
        "\n",
        "### Authors\n",
        "\n",
        "| Name | Roll Number |\n",
        "| - | - |\n",
        "| Gautam Singh | CS21BTECH11018 |\n",
        "| Jaswanth Beere | BM21BTECH11007 |\n",
        "\n",
        "This `.ipynb` file perform an exploratory data analysis and plots time taken against different days for each of meal type.\n"
      ]
    },
    {
      "cell_type": "markdown",
      "metadata": {},
      "source": [
        "## Package Imports\n",
        "\n",
        "The required packages for the prediction are specified here"
      ]
    },
    {
      "cell_type": "code",
      "execution_count": null,
      "metadata": {
        "id": "-zbFKEZ7vcfE"
      },
      "outputs": [],
      "source": [
        "import pandas as pd\n",
        "import numpy as np\n",
        "import matplotlib.pyplot as plt"
      ]
    },
    {
      "cell_type": "markdown",
      "metadata": {},
      "source": [
        "## Loading Datasets\n",
        "\n",
        "The `pandas` library is used to load the `csv` files."
      ]
    },
    {
      "cell_type": "code",
      "execution_count": null,
      "metadata": {
        "id": "sGZR146quzg3"
      },
      "outputs": [],
      "source": [
        "df = pd.read_csv(\"../data/Meal Durations.csv\")"
      ]
    },
    {
      "cell_type": "code",
      "execution_count": null,
      "metadata": {
        "colab": {
          "base_uri": "https://localhost:8080/",
          "height": 423
        },
        "id": "57taGnZNw1e8",
        "outputId": "ed2f7847-02fd-4bc1-9f6c-4b40e309ab9e"
      },
      "outputs": [],
      "source": [
        "df"
      ]
    },
    {
      "cell_type": "code",
      "execution_count": null,
      "metadata": {
        "id": "TUlkexKAw21J"
      },
      "outputs": [],
      "source": [
        "hunger_meanings = [\"not hungry\", \"slightly hungry\", \"routine hunger\", \"very hungry\"]\n",
        "location_meanings = [\"at home\", \"at college\", \"elsewhere\"]\n",
        "meal_type_meanings = [\"morning\", \"breakfast\", \"mid-morning\", \"lunch\", \"evening\", \"dinner\", \"emergency\"]\n",
        "day_meanings = [\"Mon\", \"Tue\", \"Wed\", \"Thu\", \"Fri\", \"Sat\", \"Sun\"]"
      ]
    },
    {
      "cell_type": "code",
      "execution_count": null,
      "metadata": {
        "id": "v6ccldH32WtB"
      },
      "outputs": [],
      "source": [
        "df['start_time'] = df['start_time'].apply(lambda x: (int(str(x)[0]) * 60 + int(str(x)[1:])) if x < 999 else (int(str(x)[:2]) * 60 + int(str(x)[2:])))"
      ]
    },
    {
      "cell_type": "code",
      "execution_count": null,
      "metadata": {
        "colab": {
          "base_uri": "https://localhost:8080/",
          "height": 206
        },
        "id": "9frKibgobwnm",
        "outputId": "87242c38-ab31-4972-827d-840fa57fa546"
      },
      "outputs": [],
      "source": [
        "df.head()"
      ]
    },
    {
      "cell_type": "code",
      "execution_count": null,
      "metadata": {
        "id": "kKpPVGnAcA5I"
      },
      "outputs": [],
      "source": [
        "df['start_time'] = df['start_time']/(24*60)"
      ]
    },
    {
      "cell_type": "code",
      "execution_count": null,
      "metadata": {
        "colab": {
          "base_uri": "https://localhost:8080/",
          "height": 676
        },
        "id": "dd_HAD90dBG8",
        "outputId": "996f0226-8905-4346-817f-e8ab20ebd9c6"
      },
      "outputs": [],
      "source": [
        "df.head(20).iloc[:, [0, 1, 3]]"
      ]
    },
    {
      "cell_type": "code",
      "execution_count": null,
      "metadata": {
        "colab": {
          "base_uri": "https://localhost:8080/"
        },
        "id": "tpZPfuIAdCWy",
        "outputId": "3c7a6a7c-748b-4d76-a697-fea9d36d2bd3"
      },
      "outputs": [],
      "source": [
        "df.columns"
      ]
    },
    {
      "cell_type": "code",
      "execution_count": null,
      "metadata": {
        "colab": {
          "base_uri": "https://localhost:8080/",
          "height": 507
        },
        "id": "CIGW-A2edUMh",
        "outputId": "84d27676-6e57-43e3-b264-73f5fc251af1"
      },
      "outputs": [],
      "source": [
        "plt.figure(figsize=(10, 5))\n",
        "for meal_type in range(6):\n",
        "    # Filter data for the specific meal type\n",
        "    filtered_data = [df['start_time'][i] for i in range(len(df['meal_type'])) if df['meal_type'][i] == meal_type]\n",
        "    days = [day_meanings[df['day'][i]] for i in range(len(df['meal_type'])) if df['meal_type'][i] == meal_type]\n",
        "    filtered_data_24hr = [round(time * 24, 2) for time in filtered_data]\n",
        "    # Plotting\n",
        "    plt.scatter(days, filtered_data_24hr, label=f\"Meal Type in a day: {meal_type_meanings[meal_type]}\")\n",
        "plt.legend(bbox_to_anchor=(1.05, 1.0), loc='upper left')\n",
        "plt.xlabel('Days in a week')\n",
        "plt.ylabel('Time (24 hour format)')\n",
        "plt.yticks(range(5, 25, 1))\n",
        "plt.xticks(rotation='vertical')\n",
        "plt.title(\"plot of the time taken against different days for each of meal type\", pad=20)\n",
        "plt.tight_layout()\n",
        "plt.show()"
      ]
    }
  ],
  "metadata": {
    "colab": {
      "provenance": []
    },
    "kernelspec": {
      "display_name": "Python 3",
      "name": "python3"
    },
    "language_info": {
      "codemirror_mode": {
        "name": "ipython",
        "version": 3
      },
      "file_extension": ".py",
      "mimetype": "text/x-python",
      "name": "python",
      "nbconvert_exporter": "python",
      "pygments_lexer": "ipython3",
      "version": "3.11.4"
    }
  },
  "nbformat": 4,
  "nbformat_minor": 0
}
