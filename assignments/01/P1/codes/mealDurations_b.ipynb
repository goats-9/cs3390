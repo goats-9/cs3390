{
 "cells": [
  {
   "cell_type": "code",
   "execution_count": 490,
   "metadata": {},
   "outputs": [],
   "source": [
    "import pandas as pd\n",
    "import numpy as np\n",
    "import matplotlib.pyplot as plt\n",
    "\n",
    "np.random.seed(110)"
   ]
  },
  {
   "cell_type": "code",
   "execution_count": 491,
   "metadata": {},
   "outputs": [],
   "source": [
    "df = pd.read_csv(\"../data/Meal Durations.csv\")"
   ]
  },
  {
   "cell_type": "code",
   "execution_count": 492,
   "metadata": {},
   "outputs": [],
   "source": [
    "df['start_time'] = df['start_time'].apply(lambda x: (int(str(x)[0]) * 60 + int(str(x)[1:])) if x < 999 else (int(str(x)[:2]) * 60 + int(str(x)[2:])))\n",
    "df['start_time'] = df['start_time']/(24*60)\n"
   ]
  },
  {
   "cell_type": "code",
   "execution_count": 493,
   "metadata": {},
   "outputs": [],
   "source": [
    "# df = df.drop(['day'], axis=1)"
   ]
  },
  {
   "cell_type": "code",
   "execution_count": 494,
   "metadata": {},
   "outputs": [
    {
     "name": "stdout",
     "output_type": "stream",
     "text": [
      "Total: 84, Train: 67, Test: 17\n"
     ]
    }
   ],
   "source": [
    "shuffled_df = df.sample(frac=1, random_state=42).reset_index(drop=True)\n",
    "\n",
    "# Split the data: 80% for training and 20% for testing\n",
    "split_index = int(0.8 * len(shuffled_df))\n",
    "train_df = shuffled_df.iloc[:split_index]\n",
    "test_df = shuffled_df.iloc[split_index:]\n",
    "\n",
    "print(f\"Total: {len(df)}, Train: {len(train_df)}, Test: {len(test_df)}\")"
   ]
  },
  {
   "cell_type": "code",
   "execution_count": 495,
   "metadata": {},
   "outputs": [
    {
     "data": {
      "text/html": [
       "<div>\n",
       "<style scoped>\n",
       "    .dataframe tbody tr th:only-of-type {\n",
       "        vertical-align: middle;\n",
       "    }\n",
       "\n",
       "    .dataframe tbody tr th {\n",
       "        vertical-align: top;\n",
       "    }\n",
       "\n",
       "    .dataframe thead th {\n",
       "        text-align: right;\n",
       "    }\n",
       "</style>\n",
       "<table border=\"1\" class=\"dataframe\">\n",
       "  <thead>\n",
       "    <tr style=\"text-align: right;\">\n",
       "      <th></th>\n",
       "      <th>day</th>\n",
       "      <th>start_time</th>\n",
       "      <th>is_holiday</th>\n",
       "      <th>meal_type</th>\n",
       "      <th>location</th>\n",
       "      <th>busy_after</th>\n",
       "      <th>hunger</th>\n",
       "      <th>num_courses</th>\n",
       "      <th>meal_duration</th>\n",
       "    </tr>\n",
       "  </thead>\n",
       "  <tbody>\n",
       "    <tr>\n",
       "      <th>0</th>\n",
       "      <td>2</td>\n",
       "      <td>0.340278</td>\n",
       "      <td>0</td>\n",
       "      <td>1</td>\n",
       "      <td>0</td>\n",
       "      <td>1</td>\n",
       "      <td>2</td>\n",
       "      <td>1</td>\n",
       "      <td>9</td>\n",
       "    </tr>\n",
       "    <tr>\n",
       "      <th>1</th>\n",
       "      <td>4</td>\n",
       "      <td>0.279167</td>\n",
       "      <td>0</td>\n",
       "      <td>0</td>\n",
       "      <td>0</td>\n",
       "      <td>1</td>\n",
       "      <td>3</td>\n",
       "      <td>1</td>\n",
       "      <td>12</td>\n",
       "    </tr>\n",
       "    <tr>\n",
       "      <th>2</th>\n",
       "      <td>6</td>\n",
       "      <td>0.659028</td>\n",
       "      <td>1</td>\n",
       "      <td>4</td>\n",
       "      <td>0</td>\n",
       "      <td>0</td>\n",
       "      <td>2</td>\n",
       "      <td>1</td>\n",
       "      <td>28</td>\n",
       "    </tr>\n",
       "    <tr>\n",
       "      <th>3</th>\n",
       "      <td>0</td>\n",
       "      <td>0.618056</td>\n",
       "      <td>0</td>\n",
       "      <td>4</td>\n",
       "      <td>0</td>\n",
       "      <td>1</td>\n",
       "      <td>2</td>\n",
       "      <td>1</td>\n",
       "      <td>12</td>\n",
       "    </tr>\n",
       "    <tr>\n",
       "      <th>4</th>\n",
       "      <td>6</td>\n",
       "      <td>0.305556</td>\n",
       "      <td>1</td>\n",
       "      <td>0</td>\n",
       "      <td>0</td>\n",
       "      <td>0</td>\n",
       "      <td>3</td>\n",
       "      <td>1</td>\n",
       "      <td>14</td>\n",
       "    </tr>\n",
       "    <tr>\n",
       "      <th>...</th>\n",
       "      <td>...</td>\n",
       "      <td>...</td>\n",
       "      <td>...</td>\n",
       "      <td>...</td>\n",
       "      <td>...</td>\n",
       "      <td>...</td>\n",
       "      <td>...</td>\n",
       "      <td>...</td>\n",
       "      <td>...</td>\n",
       "    </tr>\n",
       "    <tr>\n",
       "      <th>62</th>\n",
       "      <td>3</td>\n",
       "      <td>0.433333</td>\n",
       "      <td>0</td>\n",
       "      <td>2</td>\n",
       "      <td>1</td>\n",
       "      <td>1</td>\n",
       "      <td>2</td>\n",
       "      <td>1</td>\n",
       "      <td>3</td>\n",
       "    </tr>\n",
       "    <tr>\n",
       "      <th>63</th>\n",
       "      <td>2</td>\n",
       "      <td>0.739583</td>\n",
       "      <td>0</td>\n",
       "      <td>5</td>\n",
       "      <td>0</td>\n",
       "      <td>1</td>\n",
       "      <td>3</td>\n",
       "      <td>2</td>\n",
       "      <td>14</td>\n",
       "    </tr>\n",
       "    <tr>\n",
       "      <th>64</th>\n",
       "      <td>6</td>\n",
       "      <td>0.545139</td>\n",
       "      <td>1</td>\n",
       "      <td>3</td>\n",
       "      <td>0</td>\n",
       "      <td>0</td>\n",
       "      <td>1</td>\n",
       "      <td>2</td>\n",
       "      <td>38</td>\n",
       "    </tr>\n",
       "    <tr>\n",
       "      <th>65</th>\n",
       "      <td>2</td>\n",
       "      <td>0.422222</td>\n",
       "      <td>0</td>\n",
       "      <td>2</td>\n",
       "      <td>1</td>\n",
       "      <td>1</td>\n",
       "      <td>2</td>\n",
       "      <td>1</td>\n",
       "      <td>11</td>\n",
       "    </tr>\n",
       "    <tr>\n",
       "      <th>66</th>\n",
       "      <td>3</td>\n",
       "      <td>0.355556</td>\n",
       "      <td>0</td>\n",
       "      <td>1</td>\n",
       "      <td>0</td>\n",
       "      <td>1</td>\n",
       "      <td>2</td>\n",
       "      <td>2</td>\n",
       "      <td>40</td>\n",
       "    </tr>\n",
       "  </tbody>\n",
       "</table>\n",
       "<p>67 rows × 9 columns</p>\n",
       "</div>"
      ],
      "text/plain": [
       "    day  start_time  is_holiday  meal_type  location  busy_after  hunger  \\\n",
       "0     2    0.340278           0          1         0           1       2   \n",
       "1     4    0.279167           0          0         0           1       3   \n",
       "2     6    0.659028           1          4         0           0       2   \n",
       "3     0    0.618056           0          4         0           1       2   \n",
       "4     6    0.305556           1          0         0           0       3   \n",
       "..  ...         ...         ...        ...       ...         ...     ...   \n",
       "62    3    0.433333           0          2         1           1       2   \n",
       "63    2    0.739583           0          5         0           1       3   \n",
       "64    6    0.545139           1          3         0           0       1   \n",
       "65    2    0.422222           0          2         1           1       2   \n",
       "66    3    0.355556           0          1         0           1       2   \n",
       "\n",
       "    num_courses  meal_duration  \n",
       "0             1              9  \n",
       "1             1             12  \n",
       "2             1             28  \n",
       "3             1             12  \n",
       "4             1             14  \n",
       "..          ...            ...  \n",
       "62            1              3  \n",
       "63            2             14  \n",
       "64            2             38  \n",
       "65            1             11  \n",
       "66            2             40  \n",
       "\n",
       "[67 rows x 9 columns]"
      ]
     },
     "execution_count": 495,
     "metadata": {},
     "output_type": "execute_result"
    }
   ],
   "source": [
    "train_df"
   ]
  },
  {
   "cell_type": "code",
   "execution_count": 496,
   "metadata": {},
   "outputs": [
    {
     "name": "stdout",
     "output_type": "stream",
     "text": [
      "Importance of parameters:\n",
      "Bias: 2.011308596077432\n",
      "num_courses: 0.44664781605865433\n",
      "start_time: 0.411636556391895\n",
      "is_holiday: 0.16279472615102814\n",
      "location: 0.04930592299852654\n",
      "hunger: 0.043611939405606905\n",
      "day: 0.03708972322535852\n",
      "meal_type: 0.03635493588882833\n",
      "busy_after: 0.03145353505015056\n"
     ]
    }
   ],
   "source": [
    "# Separate independent and dependent variables\n",
    "X = train_df.drop(columns='meal_duration').to_numpy()\n",
    "y = train_df['meal_duration'].to_numpy()\n",
    "X = np.hstack([np.ones((X.shape[0], 1)), X])  # Add bias/intercept term\n",
    "\n",
    "# Poisson regression via gradient ascent\n",
    "def compute_lambda(X, beta):\n",
    "    return np.exp(X @ beta)\n",
    "\n",
    "def gradient_log_likelihood(X, y, beta):\n",
    "    lambda_ = compute_lambda(X, beta)\n",
    "    return X.T @ (y - lambda_)\n",
    "\n",
    "def poisson_regression_GD(X, y, lr=0.000001, num_iter=100000):\n",
    "    beta = np.zeros(X.shape[1])\n",
    "    for i in range(num_iter):\n",
    "        gradient = gradient_log_likelihood(X, y, beta)\n",
    "        beta += lr * gradient  # gradient ascent since we maximize log-likelihood\n",
    "    return beta\n",
    "\n",
    "# Training the model\n",
    "beta = poisson_regression_GD(X, y)\n",
    "\n",
    "# Analyzing the importance of parameters\n",
    "importance = abs(beta)\n",
    "sorted_indices = np.argsort(importance)[::-1]\n",
    "column_names = ['Bias'] + train_df.drop(columns='meal_duration').columns.tolist()\n",
    "\n",
    "print(\"Importance of parameters:\")\n",
    "for idx in sorted_indices:\n",
    "    print(f\"{column_names[idx]}: {importance[idx]}\")"
   ]
  },
  {
   "cell_type": "code",
   "execution_count": 499,
   "metadata": {},
   "outputs": [
    {
     "name": "stdout",
     "output_type": "stream",
     "text": [
      "[ 2.0113086   0.03708972  0.41163656  0.16279473 -0.03635494 -0.04930592\n",
      " -0.03145354 -0.04361194  0.44664782]\n",
      "day               3.000000\n",
      "start_time        0.547222\n",
      "is_holiday        1.000000\n",
      "meal_type         3.000000\n",
      "location          0.000000\n",
      "busy_after        0.000000\n",
      "hunger            2.000000\n",
      "num_courses       2.000000\n",
      "meal_duration    30.000000\n",
      "Name: 22, dtype: float64\n"
     ]
    },
    {
     "data": {
      "text/plain": [
       "24.7205803357897"
      ]
     },
     "execution_count": 499,
     "metadata": {},
     "output_type": "execute_result"
    }
   ],
   "source": [
    "print(beta) # 37\n",
    "train_id = 22\n",
    "print(train_df.iloc[train_id])\n",
    "train_x = train_df.iloc[train_id].to_numpy()[:-1]\n",
    "train_x = np.insert(train_x, 0, 1)\n",
    "prediction = np.exp(train_x @ beta)\n",
    "prediction"
   ]
  },
  {
   "cell_type": "markdown",
   "metadata": {},
   "source": [
    "Based "
   ]
  },
  {
   "cell_type": "code",
   "execution_count": null,
   "metadata": {},
   "outputs": [],
   "source": []
  }
 ],
 "metadata": {
  "kernelspec": {
   "display_name": "Python 3",
   "language": "python",
   "name": "python3"
  },
  "language_info": {
   "codemirror_mode": {
    "name": "ipython",
    "version": 3
   },
   "file_extension": ".py",
   "mimetype": "text/x-python",
   "name": "python",
   "nbconvert_exporter": "python",
   "pygments_lexer": "ipython3",
   "version": "3.11.4"
  },
  "orig_nbformat": 4
 },
 "nbformat": 4,
 "nbformat_minor": 2
}
