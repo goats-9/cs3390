{
 "cells": [
  {
   "cell_type": "markdown",
   "metadata": {},
   "source": [
    "# K-Means Clustering\n",
    " \n",
    "### Authors\n",
    "\n",
    "| Name | Roll Number |\n",
    "| - | - |\n",
    "| Gautam Singh | CS21BTECH11018 |\n",
    "| Jaswanth Beere | BM21BTECH11007 |\n",
    "\n",
    "This `.ipynb` file performs K-means clustering on the SVHN dataset, with and\n",
    "without PCA. It analyses the variations in accuracy and error under different\n",
    "constraints. \n",
    "\n",
    "## Package Imports\n",
    "\n",
    "The packages required for this exercise are listed below."
   ]
  }
 ],
 "metadata": {
  "kernelspec": {
   "display_name": ".pyvenv",
   "language": "python",
   "name": "python3"
  },
  "language_info": {
   "codemirror_mode": {
    "name": "ipython",
    "version": 3
   },
   "file_extension": ".py",
   "mimetype": "text/x-python",
   "name": "python",
   "nbconvert_exporter": "python",
   "pygments_lexer": "ipython3",
   "version": "3.10.12"
  }
 },
 "nbformat": 4,
 "nbformat_minor": 2
}
