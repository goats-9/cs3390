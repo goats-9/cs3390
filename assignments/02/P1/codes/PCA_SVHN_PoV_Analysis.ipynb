{
 "cells": [
  {
   "cell_type": "code",
   "execution_count": null,
   "metadata": {},
   "outputs": [],
   "source": [
    "!curl -O http://ufldl.stanford.edu/housenumbers/train_32x32.mat"
   ]
  },
  {
   "cell_type": "code",
   "execution_count": null,
   "metadata": {},
   "outputs": [],
   "source": [
    "!curl -O http://ufldl.stanford.edu/housenumbers/test_32x32.mat"
   ]
  },
  {
   "cell_type": "code",
   "execution_count": 17,
   "metadata": {},
   "outputs": [],
   "source": [
    "import numpy as np\n",
    "from sklearn.decomposition import PCA\n",
    "import matplotlib.pyplot as plt\n",
    "from sklearn.preprocessing import StandardScaler\n",
    "from scipy import io"
   ]
  },
  {
   "cell_type": "code",
   "execution_count": 8,
   "metadata": {},
   "outputs": [],
   "source": [
    "train_data = io.loadmat('train_32x32.mat')"
   ]
  },
  {
   "cell_type": "code",
   "execution_count": 9,
   "metadata": {},
   "outputs": [],
   "source": [
    "test_data = io.loadmat('test_32x32.mat')"
   ]
  },
  {
   "cell_type": "code",
   "execution_count": 10,
   "metadata": {},
   "outputs": [],
   "source": [
    "train_X = train_data['X']\n",
    "train_Y= train_data['y']"
   ]
  },
  {
   "cell_type": "code",
   "execution_count": 11,
   "metadata": {},
   "outputs": [
    {
     "data": {
      "text/plain": [
       "array([[[[ 33,  84,  19, ...,  92, 190, 216],\n",
       "         [ 30,  76,  54, ...,  78, 188, 217],\n",
       "         [ 38,  59, 110, ..., 101, 191, 212]],\n",
       "\n",
       "        [[ 15,  86,  20, ...,  94, 205, 221],\n",
       "         [ 23,  73,  52, ...,  82, 203, 222],\n",
       "         [ 19,  66, 111, ..., 105, 206, 217]],\n",
       "\n",
       "        [[ 15,  77,  25, ..., 114, 220, 226],\n",
       "         [ 17,  78,  57, ..., 101, 218, 227],\n",
       "         [ 19,  56, 116, ..., 125, 220, 221]],\n",
       "\n",
       "        ...,\n",
       "\n",
       "        [[ 72,  90,  65, ..., 200, 229, 200],\n",
       "         [ 65,  78, 144, ..., 201, 231, 199],\n",
       "         [ 56,  69, 223, ..., 203, 224, 191]],\n",
       "\n",
       "        [[ 82,  88,  78, ..., 192, 229, 193],\n",
       "         [ 77,  77, 148, ..., 193, 229, 188],\n",
       "         [ 57,  67, 218, ..., 195, 224, 182]],\n",
       "\n",
       "        [[ 89,  88,  98, ..., 190, 229, 197],\n",
       "         [ 79,  78, 158, ..., 191, 228, 189],\n",
       "         [ 59,  66, 220, ..., 193, 223, 186]]],\n",
       "\n",
       "\n",
       "       [[[ 28,  85,  21, ...,  92, 183, 204],\n",
       "         [ 39,  77,  53, ...,  78, 182, 205],\n",
       "         [ 35,  61, 110, ..., 103, 186, 202]],\n",
       "\n",
       "        [[ 14,  83,  19, ...,  93, 200, 210],\n",
       "         [ 25,  73,  52, ...,  80, 199, 211],\n",
       "         [ 22,  64, 106, ..., 106, 201, 208]],\n",
       "\n",
       "        [[ 14,  74,  25, ..., 111, 218, 220],\n",
       "         [ 20,  69,  56, ...,  98, 217, 221],\n",
       "         [ 17,  59, 111, ..., 124, 218, 217]],\n",
       "\n",
       "        ...,\n",
       "\n",
       "        [[ 40,  89,  63, ..., 181, 227, 201],\n",
       "         [ 39,  82, 137, ..., 180, 228, 199],\n",
       "         [ 50,  64, 208, ..., 184, 223, 193]],\n",
       "\n",
       "        [[ 67,  88,  91, ..., 177, 227, 195],\n",
       "         [ 58,  79, 153, ..., 176, 226, 191],\n",
       "         [ 52,  70, 214, ..., 180, 222, 186]],\n",
       "\n",
       "        [[ 83,  88, 130, ..., 183, 228, 196],\n",
       "         [ 78,  81, 180, ..., 182, 224, 190],\n",
       "         [ 60,  67, 229, ..., 187, 221, 186]]],\n",
       "\n",
       "\n",
       "       [[[ 40,  83,  21, ...,  99, 171, 198],\n",
       "         [ 41,  76,  53, ...,  84, 170, 198],\n",
       "         [ 38,  60, 110, ..., 112, 175, 197]],\n",
       "\n",
       "        [[ 18,  78,  20, ...,  94, 189, 202],\n",
       "         [ 21,  77,  51, ...,  81, 189, 202],\n",
       "         [ 26,  58, 106, ..., 110, 193, 201]],\n",
       "\n",
       "        [[ 16,  61,  22, ..., 107, 213, 212],\n",
       "         [ 17,  50,  52, ...,  94, 213, 211],\n",
       "         [ 23,  54, 106, ..., 123, 215, 210]],\n",
       "\n",
       "        ...,\n",
       "\n",
       "        [[ 23,  90,  79, ..., 167, 231, 203],\n",
       "         [ 29,  85, 147, ..., 166, 230, 200],\n",
       "         [ 45,  63, 210, ..., 171, 226, 196]],\n",
       "\n",
       "        [[ 35,  88, 125, ..., 172, 229, 198],\n",
       "         [ 42,  83, 181, ..., 171, 226, 194],\n",
       "         [ 44,  66, 230, ..., 176, 223, 191]],\n",
       "\n",
       "        [[ 72,  85, 178, ..., 185, 227, 195],\n",
       "         [ 69,  82, 218, ..., 184, 223, 190],\n",
       "         [ 53,  70, 254, ..., 189, 220, 187]]],\n",
       "\n",
       "\n",
       "       ...,\n",
       "\n",
       "\n",
       "       [[[ 86, 100,  88, ...,  99, 187, 233],\n",
       "         [ 81,  98, 162, ...,  94, 185, 226],\n",
       "         [ 75,  72, 237, ..., 110, 186, 228]],\n",
       "\n",
       "        [[ 87,  98,  89, ...,  96, 204, 230],\n",
       "         [ 82,  94, 163, ...,  91, 202, 224],\n",
       "         [ 71,  76, 238, ..., 109, 199, 225]],\n",
       "\n",
       "        [[ 82,  95,  84, ..., 108, 217, 228],\n",
       "         [ 79,  93, 156, ..., 103, 217, 223],\n",
       "         [ 65,  73, 230, ..., 124, 210, 221]],\n",
       "\n",
       "        ...,\n",
       "\n",
       "        [[104, 104,  62, ..., 210, 204, 198],\n",
       "         [104, 104, 142, ..., 207, 200, 196],\n",
       "         [ 87,  86, 227, ..., 204, 195, 190]],\n",
       "\n",
       "        [[104, 102,  67, ..., 206, 196, 184],\n",
       "         [105, 102, 144, ..., 202, 193, 183],\n",
       "         [ 81,  87, 226, ..., 200, 189, 177]],\n",
       "\n",
       "        [[103, 100,  74, ..., 203, 196, 189],\n",
       "         [105, 101, 145, ..., 197, 193, 187],\n",
       "         [ 78,  78, 225, ..., 199, 189, 182]]],\n",
       "\n",
       "\n",
       "       [[[ 84, 103,  88, ...,  94, 186, 231],\n",
       "         [ 86, 104, 164, ...,  91, 184, 226],\n",
       "         [ 64,  79, 240, ..., 103, 185, 228]],\n",
       "\n",
       "        [[ 86, 106,  87, ...,  94, 198, 229],\n",
       "         [ 79, 104, 160, ...,  91, 197, 224],\n",
       "         [ 72,  79, 237, ..., 104, 194, 225]],\n",
       "\n",
       "        [[ 82, 103,  88, ..., 110, 211, 227],\n",
       "         [ 76, 103, 159, ..., 107, 211, 223],\n",
       "         [ 72,  87, 237, ..., 121, 204, 222]],\n",
       "\n",
       "        ...,\n",
       "\n",
       "        [[110, 103,  60, ..., 219, 222, 195],\n",
       "         [103, 104, 141, ..., 218, 216, 194],\n",
       "         [ 84,  86, 230, ..., 215, 212, 186]],\n",
       "\n",
       "        [[106, 103,  61, ..., 218, 214, 181],\n",
       "         [105, 103, 141, ..., 215, 209, 181],\n",
       "         [ 85,  87, 228, ..., 212, 205, 173]],\n",
       "\n",
       "        [[106, 105,  65, ..., 212, 208, 186],\n",
       "         [104,  99, 143, ..., 209, 205, 183],\n",
       "         [ 86,  81, 226, ..., 209, 200, 177]]],\n",
       "\n",
       "\n",
       "       [[[ 85, 103,  84, ...,  88, 190, 230],\n",
       "         [ 88, 106, 160, ...,  87, 188, 226],\n",
       "         [ 68,  82, 238, ...,  94, 190, 227]],\n",
       "\n",
       "        [[ 89, 103,  81, ...,  85, 199, 230],\n",
       "         [ 82, 105, 154, ...,  84, 197, 226],\n",
       "         [ 72,  87, 233, ...,  93, 194, 227]],\n",
       "\n",
       "        [[ 85, 104,  87, ..., 105, 208, 229],\n",
       "         [ 79, 106, 158, ..., 103, 208, 225],\n",
       "         [ 67,  91, 238, ..., 114, 201, 226]],\n",
       "\n",
       "        ...,\n",
       "\n",
       "        [[111, 113,  63, ..., 217, 232, 190],\n",
       "         [104, 103, 144, ..., 217, 227, 190],\n",
       "         [ 87,  88, 235, ..., 214, 223, 181]],\n",
       "\n",
       "        [[109, 104,  62, ..., 221, 226, 178],\n",
       "         [105, 104, 143, ..., 220, 221, 177],\n",
       "         [ 86,  88, 232, ..., 219, 216, 169]],\n",
       "\n",
       "        [[103, 103,  63, ..., 218, 218, 181],\n",
       "         [106,  98, 145, ..., 217, 213, 178],\n",
       "         [ 79,  80, 231, ..., 218, 209, 171]]]], dtype=uint8)"
      ]
     },
     "execution_count": 11,
     "metadata": {},
     "output_type": "execute_result"
    }
   ],
   "source": [
    "train_X"
   ]
  },
  {
   "cell_type": "code",
   "execution_count": 12,
   "metadata": {},
   "outputs": [
    {
     "data": {
      "text/plain": [
       "(32, 32, 3, 73257)"
      ]
     },
     "execution_count": 12,
     "metadata": {},
     "output_type": "execute_result"
    }
   ],
   "source": [
    "train_X.shape"
   ]
  },
  {
   "cell_type": "code",
   "execution_count": 41,
   "metadata": {},
   "outputs": [
    {
     "data": {
      "text/plain": [
       "array([[[ 33,  30,  38],\n",
       "        [ 15,  23,  19],\n",
       "        [ 15,  17,  19],\n",
       "        ...,\n",
       "        [ 72,  65,  56],\n",
       "        [ 82,  77,  57],\n",
       "        [ 89,  79,  59]],\n",
       "\n",
       "       [[ 28,  39,  35],\n",
       "        [ 14,  25,  22],\n",
       "        [ 14,  20,  17],\n",
       "        ...,\n",
       "        [ 40,  39,  50],\n",
       "        [ 67,  58,  52],\n",
       "        [ 83,  78,  60]],\n",
       "\n",
       "       [[ 40,  41,  38],\n",
       "        [ 18,  21,  26],\n",
       "        [ 16,  17,  23],\n",
       "        ...,\n",
       "        [ 23,  29,  45],\n",
       "        [ 35,  42,  44],\n",
       "        [ 72,  69,  53]],\n",
       "\n",
       "       ...,\n",
       "\n",
       "       [[ 86,  81,  75],\n",
       "        [ 87,  82,  71],\n",
       "        [ 82,  79,  65],\n",
       "        ...,\n",
       "        [104, 104,  87],\n",
       "        [104, 105,  81],\n",
       "        [103, 105,  78]],\n",
       "\n",
       "       [[ 84,  86,  64],\n",
       "        [ 86,  79,  72],\n",
       "        [ 82,  76,  72],\n",
       "        ...,\n",
       "        [110, 103,  84],\n",
       "        [106, 105,  85],\n",
       "        [106, 104,  86]],\n",
       "\n",
       "       [[ 85,  88,  68],\n",
       "        [ 89,  82,  72],\n",
       "        [ 85,  79,  67],\n",
       "        ...,\n",
       "        [111, 104,  87],\n",
       "        [109, 105,  86],\n",
       "        [103, 106,  79]]], dtype=uint8)"
      ]
     },
     "execution_count": 41,
     "metadata": {},
     "output_type": "execute_result"
    }
   ],
   "source": [
    "train_X[:, :, :, 0]"
   ]
  },
  {
   "cell_type": "code",
   "execution_count": 39,
   "metadata": {},
   "outputs": [
    {
     "data": {
      "text/plain": [
       "array([[1],\n",
       "       [9],\n",
       "       [2],\n",
       "       ...,\n",
       "       [1],\n",
       "       [6],\n",
       "       [9]], dtype=uint8)"
      ]
     },
     "execution_count": 39,
     "metadata": {},
     "output_type": "execute_result"
    }
   ],
   "source": [
    "train_Y"
   ]
  },
  {
   "cell_type": "code",
   "execution_count": 15,
   "metadata": {},
   "outputs": [],
   "source": [
    "train_X_reshaped = train_X.transpose(3, 0, 1, 2).reshape(73257, 32*32*3)\n"
   ]
  },
  {
   "cell_type": "code",
   "execution_count": 42,
   "metadata": {},
   "outputs": [
    {
     "data": {
      "text/plain": [
       "(73257, 3072)"
      ]
     },
     "execution_count": 42,
     "metadata": {},
     "output_type": "execute_result"
    }
   ],
   "source": [
    "train_X_reshaped.shape"
   ]
  },
  {
   "cell_type": "code",
   "execution_count": 44,
   "metadata": {},
   "outputs": [
    {
     "data": {
      "text/plain": [
       "array([33, 30, 38, 15, 23, 19, 15, 17, 19, 42], dtype=uint8)"
      ]
     },
     "execution_count": 44,
     "metadata": {},
     "output_type": "execute_result"
    }
   ],
   "source": [
    "train_X_reshaped[0, :][:10]"
   ]
  },
  {
   "cell_type": "code",
   "execution_count": 16,
   "metadata": {},
   "outputs": [],
   "source": [
    "scaler = StandardScaler()\n",
    "train_X_scaled = scaler.fit_transform(train_X_reshaped)\n"
   ]
  },
  {
   "cell_type": "code",
   "execution_count": 18,
   "metadata": {},
   "outputs": [],
   "source": [
    "pca = PCA(n_components=0.9)\n",
    "train_X_pca = pca.fit_transform(train_X_scaled)\n",
    "\n",
    "n_components = pca.n_components_\n"
   ]
  },
  {
   "cell_type": "code",
   "execution_count": 19,
   "metadata": {},
   "outputs": [
    {
     "data": {
      "text/plain": [
       "26"
      ]
     },
     "execution_count": 19,
     "metadata": {},
     "output_type": "execute_result"
    }
   ],
   "source": [
    "n_components"
   ]
  },
  {
   "cell_type": "code",
   "execution_count": 47,
   "metadata": {},
   "outputs": [
    {
     "data": {
      "image/png": "[encoded data removed]",
      "text/plain": [
       "<Figure size 500x400 with 1 Axes>"
      ]
     },
     "metadata": {},
     "output_type": "display_data"
    }
   ],
   "source": [
    "cumulative_variance = np.cumsum(pca.explained_variance_ratio_)\n",
    "\n",
    "plt.figure(figsize=(5, 4))\n",
    "plt.plot(cumulative_variance, lw=3)\n",
    "plt.xlabel('Number of Components')\n",
    "plt.ylabel('Cumulative Explained Variance')\n",
    "plt.title('Explained Variance by PCA Components')\n",
    "plt.grid(True)\n",
    "plt.show()\n"
   ]
  },
  {
   "cell_type": "code",
   "execution_count": 33,
   "metadata": {},
   "outputs": [
    {
     "data": {
      "text/plain": [
       "<matplotlib.image.AxesImage at 0x2f4670b3190>"
      ]
     },
     "execution_count": 33,
     "metadata": {},
     "output_type": "execute_result"
    },
    {
     "data": {
      "image/png": "[encoded data removed]",
      "text/plain": [
       "<Figure size 640x480 with 1 Axes>"
      ]
     },
     "metadata": {},
     "output_type": "display_data"
    }
   ],
   "source": [
    "plt.imshow(train_X[:,:,:,1])"
   ]
  },
  {
   "cell_type": "code",
   "execution_count": 48,
   "metadata": {},
   "outputs": [
    {
     "data": {
      "text/plain": [
       "array([0.57702068, 0.05612676, 0.05356865, 0.04007071, 0.0222249 ,\n",
       "       0.01819314, 0.01524493, 0.0150657 , 0.01273919, 0.01149399,\n",
       "       0.0094194 , 0.0084684 , 0.00728761, 0.00571811, 0.00535732,\n",
       "       0.00512879, 0.00479845, 0.00432683, 0.00424142, 0.00390777,\n",
       "       0.00360457, 0.00345771, 0.00336561, 0.00315328, 0.00308502,\n",
       "       0.00298371])"
      ]
     },
     "execution_count": 48,
     "metadata": {},
     "output_type": "execute_result"
    }
   ],
   "source": [
    "pca.explained_variance_ratio_"
   ]
  },
  {
   "cell_type": "code",
   "execution_count": null,
   "metadata": {},
   "outputs": [],
   "source": []
  },
  {
   "cell_type": "code",
   "execution_count": null,
   "metadata": {},
   "outputs": [],
   "source": []
  },
  {
   "cell_type": "code",
   "execution_count": null,
   "metadata": {},
   "outputs": [],
   "source": []
  }
 ],
 "metadata": {
  "kernelspec": {
   "display_name": "Python 3",
   "language": "python",
   "name": "python3"
  },
  "language_info": {
   "codemirror_mode": {
    "name": "ipython",
    "version": 3
   },
   "file_extension": ".py",
   "mimetype": "text/x-python",
   "name": "python",
   "nbconvert_exporter": "python",
   "pygments_lexer": "ipython3",
   "version": "3.11.4"
  }
 },
 "nbformat": 4,
 "nbformat_minor": 2
}
